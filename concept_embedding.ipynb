{
 "cells": [
  {
   "cell_type": "code",
   "execution_count": 1,
   "metadata": {},
   "outputs": [
    {
     "name": "stdout",
     "output_type": "stream",
     "text": [
      "Whole text size: 71461745 so used 71461745\n",
      "Alphabet length: 2252\n",
      "Alphabet: \u0001\u0007\u0019 !\"#$%&'()*+,-./0123456789:;<=>?@[\\]^_`abcdefghijklmnopqrstuvwxyz{|}~¡¢£¤¥¦§©ª«¬­®¯°±²³´µ·¹º»¼½¾¿×ßàáâãäåæçèéêëìíîïðñòóôõö÷øùúûüýþÿāăąćĉčđēĕėęěĝğģĥħĩīĭįıĵķĺļłńņňŋōŏőœŕřśŝşšţťũūŭůųźżžƒƙơưǀǁǂǃǎǐǒǔǚǝǧǫǯǰǹțȡȵȶɐɑɒɓɔɕɖɗɘəɛɜɞɟɠɡɢɣɤɥɦɧɨɪɫɬɭɮɯɰɱɲɳɴɵɶɸɹɺɻɽɾɿʀʁʂʃʄʈʉʊʋʌʍʎʏʐʑʒʔʕʘʙʛʜʝʟʡʢʣʤʥʦʧʰʱʲʷʹʻʼʿˀ˄˅ˆˇˈˉˊˋˌˍˎˏːˑ˒˓˔˘˜˟ˠˤ˥˦˧˨˩˸̶̝̞̟̠̣̥̩̪̬̮̯̹̻͇͍̀́̂̃̄̅̆̇̈̊̌̍̽͂̚͘͡΄άέήίαβγδεζηθικλμνξοπρςστυφχψωόύώϑϕϙϝϥабвгдежзийклмнопрстуфхцчшщъыьэюяёєѕіїјљњќўџѣѧѭѳѵѹҍҏґғҗҙқҡңҥҩҫүұҳҷҹһӂӄӈӏӑӗәӣӥӧөӱӳӷӽԓԥ՝աբգդեզէըթժիլխծկհձղճմյնշոչպջռսվտրցւփքօֆևְֱֲֳִֵֶַָֹֻּֿׁׂאבגדהוזחטיךכלםמןנסעףפץצקרשת׳،؟ءآأؤإئابةتثجحخدذرزسشصطظعغفقكلمنهوىئَُِْ٠٢٣پچڈڌژڤکگںہۋیےەܘވިँंइकगचटडतथदनपफबभमयरलवशसह़ािीुूेैॉो्ংআইউকডপফবমযল়ািুৰਚਜਫਰਵਸ਼ਿੀੌફળવિିୱகடதநபமயலழவாிீு்విಠವಿടവിවිกงฉดตทธนบผพภมยรฤวศษสาิีุเไ่้์ວິཝིကခဂဒနပမယဝာိီေး်ျြွაბგდევთიკლმნოპრსუფქცჭჱჽውᐅᐉᜏᜒលវិᠠᠢᠣᠨᠩᠮᠰᠴᠵᠸᡅᡝᡠᡤᡨᡯᡳᡵᤘᤡᥝᨓᨗᴙᵒᶟḍḥṅṇṛṟṣṭṳẓạảấậắẽếểệịọộớờởợụứửữựỹἀἁἃἄἐἔἡἱἴἷὁὄὐὑὰὴὶὸᾶ᾿ῆ῎ῖῦῶῷ​‌‍‎‏‐‑‒–—―‘’‚“”„†‡•…‬‰′″‿⁄⁠⁰⁴⁵⁶⁷⁸⁹ⁿ₂₣₥₪€₴₸₹₺₽℃№℘ℛ℠™ℳ⅓⅔⅛←↑→↓↗↘↵⇒⇧⇨∀∂∃∆∈∊∑−∙√∞∪∫≈≠≡≤≥⊂⋅⋯⌃⌊⌋⌑⌘⌛⌥⎯⎿␀␁␂␃␄␅␆␇␈␉␊␋␌␍␎␏␐␑␒␓␔␕␖␗␘␙␚␛␜␝␞␟␠␡␢␣①②③④⑤⑥ⓘ─│└├█▍▎▢▬▲▷►▼◄◌●☺♂♡⚓✅✓✔✗✝❒❤❯➜➤⟨⟩⟳⟶⠁⠅⠇⠊⠋⠍⠑⠕⠖⠗⠙⠚⠝⠠⠡⠢⠥⠫⠱⠺⬇⬊⬋⬝ⰲⱱⲟⲧⲩⴝⴰⴴⴻⵉⵎⵏⵖⵜⵥ、。《》あいうがきぎくけこごしじせそたちっつてとどなにはばふべほぼまもゃやょよりるんアィイウエオカキクケコサシスセソタダチツテデトドナニヌネノハヒフプヘペホマミムメモヤユョヨラリルレロワヰヱヲン・ーㄱㄲㄴㄷㄸㄹㅁㅂㅃㅅㅆㅈㅉㅊㅋㅌㅍㅎㅏㅐㅑㅓㅔㅕㅗㅘㅚㅛㅜㅝㅟㅠㅡㅢㅣ㑚一丁万三上不世丙东个中主义之乐乙九乞乡书买乳乸乾了予争事二五亥京亮人仁从仔他代令们件价份伊会伤似佇住体何余佛你佢佬佳使來例侗依侬係俄保個們倒倪偉偽傳傷儂儿先克兒兜入全八六兮兰共其典养内冇冊凉凡出分切列利到刷削剎劉力办加务劳務勞勿化北匮匱区區十午华協南卜卫印卷原厦去及友反发受口古只叫可台史号吃合名后吓吳吴吾呃员呢和咗咧哀哈哋响哭唐唔唱商問啥啲善喺嗨嘅嘢噶四囝回园図国图圀國圖土在地坐坡埋埔域基堂報場士壬壯外大天夫央头女她好如妙姐委娟媒媠子字学學孻安官定实客家寄寫导対将將小尔尚尽尾局展山嶺川州工己巳巻師常干平年广庆庚府度庸廖廣建开式张張当彙形彻很後得徛從微徹徽心必志快性总恁恩悟惹愛慢戊戌成我戒或战戚房手打扶投折护报拉招拨指挨捌捏推提搿撥播撮支改放政敕教敦整文斯新方旁族既日时明是時晉晋晚晡普暑暴曉書最會月有朋服期未本朴机李杯東极林枝某查校案桥條梳棘業極概構樂模橋機檢欽歇歌正歷殺毋母毒比毛民气気氣水汉汗汝沒沙沪河況法波活浊测济海涼港湘源漂漢潜澳濁灣火炒点热無照熱燾爭爾版特狀狮猪獅王珊珍班珮現球理瑚瑪生産用甩由甲申电画畀界略畫當畿疆癸發白百的皮盛盡目相盾省看県真着睛睡研础碗社福私种科称程稿究空立站竹笔第笺筆等答简箋箕管節範篡粤粵精糖系約紐級素紧細結給統經維網緊編繁约纽细经结给维罂罌网罗罢罷羅美群義翔老者而耳聊聞肉脂脱臺與舌舟船艦色节花苦英茶荔荣菇菩華萄萨萬著葡藏蘭號蚊蛇蜜蟆衞补表袓被裇補裡西要視親规言記詞詩話誌認語誰課論諗諡講謳識議讀讓认让议讯记讲讴论评识试诗话语读谁谂谥豬財買質贛财资赣起身車較輯车较辑辛辣辰边达过返这述迷這通造逻過道達邊邏那郎部都酉酒酻里重金針銀錐鏡锥镜門閂開閥閩關闡门闩问闽阀阮阿陆陈院除陰陳陽隻集難電靓靚面革音韻響頁頓頭頼題類页顿飛飞食飯飽餅養餘館饭饱饼馆首香馬騎马骑體高魔魚鸭麥麦麪黃點鼠龍龙龜龟ꃚꙋꚃ꞉ꞌꞎꦮꦶꮻ결경과구국극기나녀는다당도딸라로리마만말모문미방백베보부사상선세셻수시야어엄여오우위으의이장절정조죽지진차철칙키탁포한ﬁﯪﯮ️ﺍﺎﺏﺐﺑﺒﺕﺖﺗﺘﺙﺚﺛﺜﺝﺞﺟﺠﺡﺢﺣﺤﺥﺦﺧﺨﺩﺪﺫﺬﺭﺮﺯﺰﺱﺲﺳﺴﺵﺶﺷﺸﺹﺺﺻﺼﺽﺾﺿﻀﻁﻂﻃﻄﻅﻆﻇﻈﻍﻎﻏﻐﻑﻒﻓﻔﻕﻖﻗﻘﻙﻚﻛﻜﻝﻞﻟﻠﻡﻢﻣﻤﻥﻦﻧﻨﻩﻪﻫﻬﻭﻮﻱﻲﻳﻴ（），．：？￼�𐌀𐌁𐌂𐌃𐌄𐌅𐌆𐌇𐌈𐌉𐌊𐌋𐌌𐌍𐌎𐌏𐌐𐌑𐌒𐌓𐌔𐌕𐌖𐌗𐌘𐌙𐌚𐌜𐍅𐍈𝕏𝛾𝜹𝝎𝝓𝼄𝼅𝼆🄎🅭🅯🍋🍏🎁🎉🏁🏆🏻🏼👇👉👋👮💰💻🔄🔥🕹😁😉😊😏😞🙂🚩🤌🤔🤖🤗🤬🥁🥹𠊎𡥧𪜶\n"
     ]
    }
   ],
   "source": [
    "from data_base import *\n",
    "\n",
    "#data = DataBase(summary=True, max_size=3*10**6)\n",
    "#data = DataBase(summary=True, max_size=20000)\n",
    "data = DataBase(summary=True, max_size=-1)"
   ]
  },
  {
   "cell_type": "code",
   "execution_count": 2,
   "metadata": {},
   "outputs": [
    {
     "name": "stdout",
     "output_type": "stream",
     "text": [
      "unique words: 399122\n",
      "['приветствую', 'всех', 'посетителей', 'и', 'пользователей', 'хабрахабра', 'сегодня', 'на', 'хабрахабре', 'открывается']\n",
      "[124862 106869 347678 392248 184809 310167 173597  84175 229315 242861]\n"
     ]
    }
   ],
   "source": [
    "import re\n",
    "import numpy as np\n",
    "\n",
    "words_sequ = re.findall(r'[А-я]+', data.whole_text)\n",
    "words_to_ids = {v: i for i, v in enumerate(set(words_sequ))}\n",
    "ids_to_words = {i: v for i, v in enumerate(set(words_sequ))}\n",
    "words_sequ_ids = np.array([words_to_ids[word] for word in words_sequ])\n",
    "\n",
    "vocab_size = len(words_to_ids)\n",
    "\n",
    "print('unique words:', vocab_size)\n",
    "print(words_sequ[:10])\n",
    "print(words_sequ_ids[:10])"
   ]
  },
  {
   "cell_type": "code",
   "execution_count": 3,
   "metadata": {},
   "outputs": [
    {
     "name": "stdout",
     "output_type": "stream",
     "text": [
      "Num GPUs Available:  1\n"
     ]
    },
    {
     "name": "stderr",
     "output_type": "stream",
     "text": [
      "100%|██████████| 10002098/10002098 [01:57<00:00, 85103.13it/s] "
     ]
    },
    {
     "name": "stdout",
     "output_type": "stream",
     "text": [
      "[[124862. 106869. 347678. 184809. 310167. 173597.]\n",
      " [106869. 347678. 392248. 310167. 173597.  84175.]\n",
      " [347678. 392248. 184809. 173597.  84175. 229315.]\n",
      " [392248. 184809. 310167.  84175. 229315. 242861.]\n",
      " [184809. 310167. 173597. 229315. 242861. 104869.]\n",
      " [310167. 173597.  84175. 242861. 104869. 281329.]\n",
      " [173597.  84175. 229315. 104869. 281329.  34230.]\n",
      " [ 84175. 229315. 242861. 281329.  34230. 158170.]\n",
      " [229315. 242861. 104869.  34230. 158170. 223576.]\n",
      " [242861. 104869. 281329. 158170. 223576. 157137.]]\n",
      "[392248 184809 310167 173597  84175 229315 242861 104869 281329  34230]\n"
     ]
    },
    {
     "name": "stderr",
     "output_type": "stream",
     "text": [
      "\n"
     ]
    }
   ],
   "source": [
    "from tqdm import tqdm\n",
    "import tensorflow as tf\n",
    "from scipy.sparse.lil import lil_matrix\n",
    "\n",
    "np.random.seed(80085)\n",
    "tf.random.set_seed(80085)\n",
    "\n",
    "print(\"Num GPUs Available: \", len(tf.config.list_physical_devices('GPU')))\n",
    "\n",
    "\n",
    "window_size = 3\n",
    "\n",
    "db_size = len(words_sequ_ids) - window_size - window_size\n",
    "\n",
    "contexts = np.empty((db_size, window_size*2))\n",
    "labels = np.empty((db_size), dtype=np.uint32)\n",
    "\n",
    "for i in tqdm(range(window_size, len(words_sequ_ids)-window_size)):\n",
    "\tfr, to = i-window_size, i+window_size\n",
    "\n",
    "\tcontexts[i-window_size] = np.append(words_sequ_ids[fr:i], words_sequ_ids[i+1:to+1])\n",
    "\tlabels[i-window_size] = words_sequ_ids[i]\n",
    "\n",
    "#contexts = tf.constant(np.array(contexts))\n",
    "#labels = tf.sparse.from_dense(labels)\n",
    "\n",
    "print(contexts[:10])\n",
    "print(labels[:10])"
   ]
  },
  {
   "cell_type": "code",
   "execution_count": 4,
   "metadata": {},
   "outputs": [
    {
     "name": "stdout",
     "output_type": "stream",
     "text": [
      "Model: \"word2_vec\"\n",
      "_________________________________________________________________\n",
      " Layer (type)                Output Shape              Param #   \n",
      "=================================================================\n",
      " w2v_embedding (Embedding)   multiple                  25543808  \n",
      "                                                                 \n",
      " conv1d (Conv1D)             multiple                  4112      \n",
      "                                                                 \n",
      " flatten (Flatten)           multiple                  0         \n",
      "                                                                 \n",
      " dense (Dense)               multiple                  3136      \n",
      "                                                                 \n",
      "=================================================================\n",
      "Total params: 25,551,056\n",
      "Trainable params: 25,551,056\n",
      "Non-trainable params: 0\n",
      "_________________________________________________________________\n"
     ]
    }
   ],
   "source": [
    "class Word2Vec(tf.keras.Model):\n",
    "\tdef __init__(self, vocab_size, embedding_dim):\n",
    "\t\tsuper(Word2Vec, self).__init__()\n",
    "\t\tself.target_embedding = tf.keras.layers.Embedding(vocab_size, \n",
    "\t\t\t\t\t\t\t\t\t\t\t\t\t\t  embedding_dim, \n",
    "\t\t\t\t\t\t\t\t\t\t\t\t\t\t  input_length=window_size*2, \n",
    "\t\t\t\t\t\t\t\t\t\t\t\t\t\t  name=\"w2v_embedding\",\n",
    "\t\t\t\t\t\t\t\t\t\t\t\t\t\t  embeddings_initializer=tf.keras.initializers.RandomUniform(minval=-1., maxval=1., seed=80085))\n",
    "\t\t\t\t\t\t\t\t\t\t\t\t\t\t  #embeddings_initializer=tf.keras.initializers.RandomNormal(mean=0.0, stddev=1.0, seed=80085))\n",
    "\t\t\t\t\t\t\t\t\t\t\t\t\t\t  #embeddings_initializer=tf.keras.initializers.HeNormal())\n",
    "\t\tself.conv = tf.keras.layers.Conv1D(16, 4, 2, 'same')\n",
    "\t\tself.flatten = tf.keras.layers.Flatten()\n",
    "\t\tself.outp_emb = tf.keras.layers.Dense(embedding_dim)\n",
    "\n",
    "\tdef call(self, context):\n",
    "\t\tx = self.target_embedding(context)\n",
    "\t\tx = self.conv(x)\n",
    "\t\tx = self.flatten(x)\n",
    "\t\tx = self.outp_emb(x)\n",
    "\t\treturn x\n",
    "\n",
    "\n",
    "EMB_SIZE = 64\n",
    "model = Word2Vec(vocab_size, EMB_SIZE)\n",
    "\n",
    "model.compile(optimizer=tf.keras.optimizers.Adam(learning_rate=0.01), \n",
    "\t\t\t  #loss=tf.keras.losses.CategoricalCrossentropy(from_logits=True), \n",
    "\t\t\t  loss=tf.keras.losses.MeanSquaredError(), \n",
    "\t\t\t  metrics=['accuracy'])\n",
    "\n",
    "model.build((None, window_size*2))\n",
    "\n",
    "model.summary()"
   ]
  },
  {
   "cell_type": "code",
   "execution_count": 19,
   "metadata": {},
   "outputs": [
    {
     "name": "stdout",
     "output_type": "stream",
     "text": [
      "10002098 10002098\n",
      "Epoch 1/5 "
     ]
    },
    {
     "name": "stdout",
     "output_type": "stream",
     "text": [
      "==================== Loss: 0.11380378156900406, Duration: 291.1s\n",
      "Epoch 2/5 ==================== Loss: 0.07437566667795181, Duration: 319.17s\n",
      "Epoch 3/5 ==================== Loss: 0.08852832764387131, Duration: 279.53s\n",
      "Epoch 4/5 ==================== Loss: 0.09061402082443237, Duration: 298.54s\n",
      "Epoch 5/5 ==================== Loss: 0.07069014757871628, Duration: 298.22s\n"
     ]
    }
   ],
   "source": [
    "from time import time\n",
    "import random\n",
    "random.seed(80085)\n",
    "\n",
    "num_epochs = 5\n",
    "batch_size = 5000\n",
    "use_data = len(contexts)\n",
    "#use_data = 6_000_000\n",
    "print(use_data, len(contexts))\n",
    "\n",
    "for epoch in range(num_epochs):\n",
    "    start = time()\n",
    "    print(f\"Epoch {epoch + 1}/{num_epochs} \", end='')\n",
    "\n",
    "    order = list(range(0, use_data-batch_size, batch_size))\n",
    "    random.shuffle(order)\n",
    "    for i in order:\n",
    "        contexts_batch = contexts[i:i + batch_size]\n",
    "        labels_batch = labels[i:i + batch_size]\n",
    "\n",
    "        curr_embs = model.get_layer('w2v_embedding').get_weights()[0]\n",
    "        y_need = np.array([curr_embs[x] for x in labels_batch])\n",
    "\n",
    "        with tf.GradientTape() as tape:\n",
    "            y_pred = model(contexts_batch)\n",
    "            loss = model.loss(y_need, y_pred)\n",
    "\n",
    "        gradients = tape.gradient(loss, model.trainable_variables)\n",
    "        model.optimizer.apply_gradients(zip(gradients, model.trainable_variables))\n",
    "\n",
    "        if (i//batch_size) % (use_data//batch_size//20) == 0: print('=', end='')\n",
    "\n",
    "    end = time()\n",
    "\n",
    "    print(f\" Loss: {loss.numpy()}, Duration: {round(end-start, 2)}s\")"
   ]
  },
  {
   "cell_type": "code",
   "execution_count": 20,
   "metadata": {},
   "outputs": [
    {
     "name": "stdout",
     "output_type": "stream",
     "text": [
      "улице \t проспекту \t -0.14158544 \t -0.009043902 \t 5.622817 \t 35.80162\n",
      "добрый \t хороший \t 0.25317693 \t 0.1429037 \t 1.75012 \t 10.71332\n",
      "поля \t луга \t -0.69866407 \t -0.22132292 \t 3.0914023 \t 19.66077\n",
      "стол \t бог \t -0.011556342 \t -0.0047436464 \t 2.2135458 \t 13.872542\n",
      "и \t у \t 0.30268925 \t 0.24297488 \t 1.7468146 \t 11.424466\n",
      "долина \t мера \t 0.60570693 \t 0.093179904 \t 3.4419818 \t 22.493824\n"
     ]
    },
    {
     "data": {
      "text/plain": [
       "'\\nулице \\t проспекту \\t 5.983606 \\t 0.20425189 \\t 7.0706367 \\t 45.877026\\nполя \\t луга \\t 1.0041597 \\t 0.065613806 \\t 5.361747 \\t 35.76443\\nстол \\t бог \\t 1.7855887 \\t 0.090084836 \\t 6.131844 \\t 38.27128\\nи \\t у \\t -2.5163274 \\t -0.082808 \\t 10.385233 \\t 70.665695\\nдолина \\t мера \\t -1.7776425 \\t -0.12266406 \\t 5.7084413 \\t 38.359974\\n'"
      ]
     },
     "execution_count": 20,
     "metadata": {},
     "output_type": "execute_result"
    }
   ],
   "source": [
    "embeddings = model.get_layer('w2v_embedding').get_weights()[0]\n",
    "\n",
    "def get_emb(word):\n",
    "\tword_ind = words_to_ids[word]\n",
    "\treturn embeddings[word_ind]\n",
    "\n",
    "def dist1(word1, word2, n=False):\n",
    "\temb1, emb2 = get_emb(word1), get_emb(word2)\n",
    "\tl1, l2 = np.linalg.norm(emb1), np.linalg.norm(emb2)\n",
    "\n",
    "\tif n: return np.dot(emb1, emb2) / l1 / l2\n",
    "\tif not n: return np.dot(emb1, emb2)\n",
    "\n",
    "def dist2(word1, word2):\n",
    "\temb1, emb2 = get_emb(word1), get_emb(word2)\n",
    "\treturn np.linalg.norm(emb1-emb2)\n",
    "\n",
    "def dist3(word1, word2):\n",
    "\temb1, emb2 = get_emb(word1), get_emb(word2)\n",
    "\treturn np.abs(emb1-emb2).sum()\n",
    "\n",
    "\n",
    "def test_words(w1, w2):\n",
    "\tprint(w1, '\\t', w2, '\\t', dist1(w1, w2), '\\t', dist1(w1, w2, n=True), '\\t', dist2(w1, w2), '\\t', dist3(w1, w2))\n",
    "\n",
    "test_words('улице', 'проспекту')\n",
    "test_words('добрый', 'хороший')\n",
    "test_words('поля', 'луга')\n",
    "test_words('стол', 'бог')\n",
    "test_words('и', 'у')\n",
    "test_words('долина', 'мера')\n",
    "\n",
    "\"\"\"\n",
    "улице \t проспекту \t -3.3634408e-06 \t -0.20494063 \t 0.024162114 \t 0.1574829\n",
    "добрый \t хороший \t -1.0631785e-06 \t -0.09266516 \t 0.0059450143 \t 0.03717549\n",
    "стол \t бог \t 9.360528e-07 \t 0.31019235 \t 0.0036869447 \t 0.023082942\n",
    "и \t у \t 6.582935e-07 \t 0.6139337 \t 0.00093904923 \t 0.0060417494\n",
    "долина \t мера \t -7.411295e-06 \t -0.06486859 \t 0.022238648 \t 0.14826646\n",
    "\"\"\"\n",
    "\"\"\"\n",
    "улице \t проспекту \t 5.983606 \t 0.20425189 \t 7.0706367 \t 45.877026\n",
    "поля \t луга \t 1.0041597 \t 0.065613806 \t 5.361747 \t 35.76443\n",
    "стол \t бог \t 1.7855887 \t 0.090084836 \t 6.131844 \t 38.27128\n",
    "и \t у \t -2.5163274 \t -0.082808 \t 10.385233 \t 70.665695\n",
    "долина \t мера \t -1.7776425 \t -0.12266406 \t 5.7084413 \t 38.359974\n",
    "\"\"\""
   ]
  },
  {
   "cell_type": "code",
   "execution_count": null,
   "metadata": {},
   "outputs": [
    {
     "ename": "NameError",
     "evalue": "name 'count_w' is not defined",
     "output_type": "error",
     "traceback": [
      "\u001b[1;31m---------------------------------------------------------------------------\u001b[0m",
      "\u001b[1;31mNameError\u001b[0m                                 Traceback (most recent call last)",
      "\u001b[1;32mC:\\Users\\CA81~1\\AppData\\Local\\Temp/ipykernel_23536/3113135539.py\u001b[0m in \u001b[0;36m<module>\u001b[1;34m\u001b[0m\n\u001b[0;32m      1\u001b[0m \u001b[0mfrequent_words_ids\u001b[0m \u001b[1;33m=\u001b[0m \u001b[1;33m[\u001b[0m\u001b[1;33m]\u001b[0m\u001b[1;33m\u001b[0m\u001b[1;33m\u001b[0m\u001b[0m\n\u001b[0;32m      2\u001b[0m \u001b[1;33m\u001b[0m\u001b[0m\n\u001b[1;32m----> 3\u001b[1;33m \u001b[1;32mfor\u001b[0m \u001b[0mi\u001b[0m \u001b[1;32min\u001b[0m \u001b[0mtqdm\u001b[0m\u001b[1;33m(\u001b[0m\u001b[0mrange\u001b[0m\u001b[1;33m(\u001b[0m\u001b[0mcount_w\u001b[0m\u001b[1;33m)\u001b[0m\u001b[1;33m)\u001b[0m\u001b[1;33m:\u001b[0m\u001b[1;33m\u001b[0m\u001b[1;33m\u001b[0m\u001b[0m\n\u001b[0m\u001b[0;32m      4\u001b[0m         \u001b[0mn\u001b[0m \u001b[1;33m=\u001b[0m \u001b[0mnp\u001b[0m\u001b[1;33m.\u001b[0m\u001b[0msum\u001b[0m\u001b[1;33m(\u001b[0m\u001b[0mwords_data\u001b[0m\u001b[1;33m[\u001b[0m\u001b[0mi\u001b[0m\u001b[1;33m]\u001b[0m\u001b[1;33m)\u001b[0m\u001b[1;33m\u001b[0m\u001b[1;33m\u001b[0m\u001b[0m\n\u001b[0;32m      5\u001b[0m         \u001b[1;32mif\u001b[0m \u001b[0mn\u001b[0m \u001b[1;33m>\u001b[0m \u001b[0mwindow_size\u001b[0m\u001b[1;33m*\u001b[0m\u001b[1;36m2\u001b[0m\u001b[1;33m*\u001b[0m\u001b[1;36m50\u001b[0m\u001b[1;33m:\u001b[0m\u001b[1;33m\u001b[0m\u001b[1;33m\u001b[0m\u001b[0m\n",
      "\u001b[1;31mNameError\u001b[0m: name 'count_w' is not defined"
     ]
    }
   ],
   "source": [
    "frequent_words_ids = []\n",
    "\n",
    "for i in tqdm(range(count_w)):\n",
    "\tn = np.sum(words_data[i])\n",
    "\tif n > window_size*2*50: \n",
    "\t\tfrequent_words_ids.append(i)\n",
    "\n",
    "print(f'{len(frequent_words_ids)}/{count_w} -- {round(100 * len(frequent_words_ids) / count_w, 1)}%')"
   ]
  },
  {
   "cell_type": "code",
   "execution_count": null,
   "metadata": {},
   "outputs": [
    {
     "name": "stdout",
     "output_type": "stream",
     "text": [
      "0.09024931749211719\n",
      "0.7602964872884789\n",
      "0.06427710606013716\n",
      "-6.609768408639296e-07\n"
     ]
    },
    {
     "name": "stderr",
     "output_type": "stream",
     "text": [
      "  1%|          | 104/10274 [00:02<04:29, 37.76it/s]"
     ]
    },
    {
     "name": "stdout",
     "output_type": "stream",
     "text": [
      "решил предчувствовал 1 2344 0.7710833407384774\n"
     ]
    },
    {
     "name": "stderr",
     "output_type": "stream",
     "text": [
      "  2%|▏         | 178/10274 [00:04<04:04, 41.23it/s]"
     ]
    },
    {
     "name": "stdout",
     "output_type": "stream",
     "text": [
      "решил угадал 1 4197 0.6012333282116741\n"
     ]
    },
    {
     "name": "stderr",
     "output_type": "stream",
     "text": [
      "  2%|▏         | 198/10274 [00:04<04:01, 41.78it/s]"
     ]
    },
    {
     "name": "stdout",
     "output_type": "stream",
     "text": [
      "решил написал 1 4709 0.6561691655623397\n"
     ]
    },
    {
     "name": "stderr",
     "output_type": "stream",
     "text": [
      "  3%|▎         | 258/10274 [00:06<03:58, 41.97it/s]"
     ]
    },
    {
     "name": "stdout",
     "output_type": "stream",
     "text": [
      "решил почувствовала 1 6195 0.6201513200185406\n"
     ]
    },
    {
     "name": "stderr",
     "output_type": "stream",
     "text": [
      "  5%|▍         | 492/10274 [00:11<03:45, 43.40it/s]"
     ]
    },
    {
     "name": "stdout",
     "output_type": "stream",
     "text": [
      "решил сообразил 1 12075 0.6430223709924294\n"
     ]
    },
    {
     "name": "stderr",
     "output_type": "stream",
     "text": [
      "  5%|▍         | 507/10274 [00:12<03:52, 42.09it/s]"
     ]
    },
    {
     "name": "stdout",
     "output_type": "stream",
     "text": [
      "решил сознавал 1 12521 0.7162185152568858\n"
     ]
    },
    {
     "name": "stderr",
     "output_type": "stream",
     "text": [
      "  7%|▋         | 745/10274 [00:18<03:44, 42.39it/s]"
     ]
    },
    {
     "name": "stdout",
     "output_type": "stream",
     "text": [
      "решил узнала 1 18545 0.6430617062303532\n"
     ]
    },
    {
     "name": "stderr",
     "output_type": "stream",
     "text": [
      " 10%|▉         | 978/10274 [00:24<03:41, 41.95it/s]"
     ]
    },
    {
     "name": "stdout",
     "output_type": "stream",
     "text": [
      "решил заметить 1 24760 0.6084831773454488\n"
     ]
    },
    {
     "name": "stderr",
     "output_type": "stream",
     "text": [
      " 13%|█▎        | 1383/10274 [00:33<03:30, 42.31it/s]"
     ]
    },
    {
     "name": "stdout",
     "output_type": "stream",
     "text": [
      "решил надеюсь 1 34287 0.7839415445860045\n"
     ]
    },
    {
     "name": "stderr",
     "output_type": "stream",
     "text": [
      " 14%|█▍        | 1488/10274 [00:36<03:29, 41.87it/s]"
     ]
    },
    {
     "name": "stdout",
     "output_type": "stream",
     "text": [
      "решил узнав 1 37363 0.6462771780253304\n"
     ]
    },
    {
     "name": "stderr",
     "output_type": "stream",
     "text": [
      " 17%|█▋        | 1777/10274 [00:43<03:30, 40.40it/s]"
     ]
    },
    {
     "name": "stdout",
     "output_type": "stream",
     "text": [
      "решил услышал 1 44541 0.6672757111338836\n"
     ]
    },
    {
     "name": "stderr",
     "output_type": "stream",
     "text": [
      " 18%|█▊        | 1871/10274 [00:45<03:29, 40.06it/s]"
     ]
    },
    {
     "name": "stdout",
     "output_type": "stream",
     "text": [
      "решил начинал 1 46711 0.6105460464105926\n"
     ]
    },
    {
     "name": "stderr",
     "output_type": "stream",
     "text": [
      " 18%|█▊        | 1896/10274 [00:46<03:23, 41.08it/s]"
     ]
    },
    {
     "name": "stdout",
     "output_type": "stream",
     "text": [
      "решил пишет 1 47456 0.6153451410411015\n"
     ]
    },
    {
     "name": "stderr",
     "output_type": "stream",
     "text": [
      " 20%|██        | 2061/10274 [00:50<03:15, 42.08it/s]"
     ]
    },
    {
     "name": "stdout",
     "output_type": "stream",
     "text": [
      "решил услыхал 1 51400 0.6035860009636683\n"
     ]
    },
    {
     "name": "stderr",
     "output_type": "stream",
     "text": [
      " 22%|██▏       | 2239/10274 [00:54<03:15, 41.05it/s]"
     ]
    },
    {
     "name": "stdout",
     "output_type": "stream",
     "text": [
      "решил полагал 1 55141 0.761909944413668\n"
     ]
    },
    {
     "name": "stderr",
     "output_type": "stream",
     "text": [
      " 23%|██▎       | 2388/10274 [00:58<03:04, 42.74it/s]"
     ]
    },
    {
     "name": "stdout",
     "output_type": "stream",
     "text": [
      "решил подумает 1 58714 0.633448313866417\n"
     ]
    },
    {
     "name": "stderr",
     "output_type": "stream",
     "text": [
      " 23%|██▎       | 2403/10274 [00:58<03:09, 41.44it/s]"
     ]
    },
    {
     "name": "stdout",
     "output_type": "stream",
     "text": [
      "решил поспешил 1 58889 0.6123599184978776\n"
     ]
    },
    {
     "name": "stderr",
     "output_type": "stream",
     "text": [
      " 24%|██▍       | 2493/10274 [01:00<03:15, 39.90it/s]"
     ]
    },
    {
     "name": "stdout",
     "output_type": "stream",
     "text": [
      "решил заметив 1 60989 0.7232567931820437\n"
     ]
    },
    {
     "name": "stderr",
     "output_type": "stream",
     "text": [
      " 24%|██▍       | 2508/10274 [01:01<02:59, 43.38it/s]"
     ]
    },
    {
     "name": "stdout",
     "output_type": "stream",
     "text": [
      "решил полагаю 1 61153 0.7460674599600563\n"
     ]
    },
    {
     "name": "stderr",
     "output_type": "stream",
     "text": [
      " 25%|██▍       | 2528/10274 [01:01<03:13, 40.08it/s]"
     ]
    },
    {
     "name": "stdout",
     "output_type": "stream",
     "text": [
      "решил заметила 1 61804 0.6521878463363746\n"
     ]
    },
    {
     "name": "stderr",
     "output_type": "stream",
     "text": [
      " 25%|██▌       | 2593/10274 [01:03<02:56, 43.40it/s]"
     ]
    },
    {
     "name": "stdout",
     "output_type": "stream",
     "text": [
      "решил заявил 1 63256 0.6239572305504597\n"
     ]
    },
    {
     "name": "stderr",
     "output_type": "stream",
     "text": [
      " 27%|██▋       | 2818/10274 [01:08<03:00, 41.25it/s]"
     ]
    },
    {
     "name": "stdout",
     "output_type": "stream",
     "text": [
      "решил вспоминал 1 69701 0.626008567390085\n"
     ]
    },
    {
     "name": "stderr",
     "output_type": "stream",
     "text": [
      " 28%|██▊       | 2853/10274 [01:09<02:54, 42.49it/s]"
     ]
    },
    {
     "name": "stdout",
     "output_type": "stream",
     "text": [
      "решил доказывал 1 70737 0.6201228582140588\n"
     ]
    },
    {
     "name": "stderr",
     "output_type": "stream",
     "text": [
      " 29%|██▉       | 2983/10274 [01:12<02:52, 42.27it/s]"
     ]
    },
    {
     "name": "stdout",
     "output_type": "stream",
     "text": [
      "решил получил 1 73822 0.604387332955429\n"
     ]
    },
    {
     "name": "stderr",
     "output_type": "stream",
     "text": [
      " 30%|███       | 3116/10274 [01:15<03:01, 39.41it/s]"
     ]
    },
    {
     "name": "stdout",
     "output_type": "stream",
     "text": [
      "решил искал 1 76740 0.6087887635592778\n"
     ]
    },
    {
     "name": "stderr",
     "output_type": "stream",
     "text": [
      " 34%|███▎      | 3461/10274 [01:23<02:53, 39.37it/s]"
     ]
    },
    {
     "name": "stdout",
     "output_type": "stream",
     "text": [
      "решил просил 1 85217 0.6092909137612303\n"
     ]
    },
    {
     "name": "stderr",
     "output_type": "stream",
     "text": [
      " 34%|███▍      | 3530/10274 [01:25<02:52, 39.15it/s]"
     ]
    },
    {
     "name": "stdout",
     "output_type": "stream",
     "text": [
      "решил нахожу 1 87339 0.6158860190820159\n"
     ]
    },
    {
     "name": "stderr",
     "output_type": "stream",
     "text": [
      " 39%|███▉      | 4007/10274 [01:37<02:31, 41.28it/s]"
     ]
    },
    {
     "name": "stdout",
     "output_type": "stream",
     "text": [
      "решил показал 1 99536 0.6560243153312283\n",
      "решил удивлялся 1 99823 0.6063478390078739\n"
     ]
    },
    {
     "name": "stderr",
     "output_type": "stream",
     "text": [
      " 39%|███▉      | 4017/10274 [01:37<02:35, 40.21it/s]"
     ]
    },
    {
     "name": "stdout",
     "output_type": "stream",
     "text": [
      "решил надеялся 1 99884 0.7651879328651926\n"
     ]
    },
    {
     "name": "stderr",
     "output_type": "stream",
     "text": [
      " 40%|████      | 4132/10274 [01:40<02:27, 41.56it/s]"
     ]
    },
    {
     "name": "stdout",
     "output_type": "stream",
     "text": [
      "решил поняла 1 103012 0.6686741422062178\n"
     ]
    },
    {
     "name": "stderr",
     "output_type": "stream",
     "text": [
      " 41%|████      | 4172/10274 [01:41<02:27, 41.27it/s]"
     ]
    },
    {
     "name": "stdout",
     "output_type": "stream",
     "text": [
      "решил признаюсь 1 104163 0.6070805678543728\n"
     ]
    },
    {
     "name": "stderr",
     "output_type": "stream",
     "text": [
      " 42%|████▏     | 4312/10274 [01:44<02:21, 42.28it/s]"
     ]
    },
    {
     "name": "stdout",
     "output_type": "stream",
     "text": [
      "решил объяснил 1 107865 0.7439406192346965\n"
     ]
    },
    {
     "name": "stderr",
     "output_type": "stream",
     "text": [
      " 45%|████▍     | 4607/10274 [01:51<02:12, 42.83it/s]"
     ]
    },
    {
     "name": "stdout",
     "output_type": "stream",
     "text": [
      "решил прочел 1 114883 0.6494112615246583\n"
     ]
    },
    {
     "name": "stderr",
     "output_type": "stream",
     "text": [
      " 46%|████▌     | 4747/10274 [01:55<02:13, 41.44it/s]"
     ]
    },
    {
     "name": "stdout",
     "output_type": "stream",
     "text": [
      "решил поверьте 1 118763 0.6500406278809427\n"
     ]
    },
    {
     "name": "stderr",
     "output_type": "stream",
     "text": [
      " 49%|████▉     | 5052/10274 [02:02<02:11, 39.57it/s]"
     ]
    },
    {
     "name": "stdout",
     "output_type": "stream",
     "text": [
      "решил убедившись 1 126015 0.6228463358067848\n"
     ]
    },
    {
     "name": "stderr",
     "output_type": "stream",
     "text": [
      " 50%|████▉     | 5092/10274 [02:03<02:08, 40.47it/s]"
     ]
    },
    {
     "name": "stdout",
     "output_type": "stream",
     "text": [
      "решил замечаю 1 126961 0.6872888643121899\n"
     ]
    },
    {
     "name": "stderr",
     "output_type": "stream",
     "text": [
      " 52%|█████▏    | 5317/10274 [02:09<01:55, 42.89it/s]"
     ]
    },
    {
     "name": "stdout",
     "output_type": "stream",
     "text": [
      "решил воображал 1 132921 0.7085388433951031\n"
     ]
    },
    {
     "name": "stderr",
     "output_type": "stream",
     "text": [
      " 57%|█████▋    | 5846/10274 [02:21<01:42, 43.04it/s]"
     ]
    },
    {
     "name": "stdout",
     "output_type": "stream",
     "text": [
      "решил решила 1 147016 0.6104878328327744\n"
     ]
    },
    {
     "name": "stderr",
     "output_type": "stream",
     "text": [
      " 58%|█████▊    | 5989/10274 [02:25<01:43, 41.40it/s]"
     ]
    },
    {
     "name": "stdout",
     "output_type": "stream",
     "text": [
      "решил рассказывал 1 150525 0.6097911495928652\n"
     ]
    },
    {
     "name": "stderr",
     "output_type": "stream",
     "text": [
      " 60%|█████▉    | 6114/10274 [02:28<01:39, 41.63it/s]"
     ]
    },
    {
     "name": "stdout",
     "output_type": "stream",
     "text": [
      "решил наверно 1 153405 0.6232877649343096\n"
     ]
    },
    {
     "name": "stderr",
     "output_type": "stream",
     "text": [
      " 60%|██████    | 6169/10274 [02:29<01:42, 39.86it/s]"
     ]
    },
    {
     "name": "stdout",
     "output_type": "stream",
     "text": [
      "решил признался 1 154566 0.6211493907448883\n",
      "решил обещал 1 154739 0.6375123743886203\n"
     ]
    },
    {
     "name": "stderr",
     "output_type": "stream",
     "text": [
      " 61%|██████    | 6277/10274 [02:32<01:44, 38.22it/s]"
     ]
    },
    {
     "name": "stdout",
     "output_type": "stream",
     "text": [
      "решил считал 1 157023 0.6114169700112155\n"
     ]
    },
    {
     "name": "stderr",
     "output_type": "stream",
     "text": [
      " 61%|██████▏   | 6307/10274 [02:33<01:43, 38.25it/s]"
     ]
    },
    {
     "name": "stdout",
     "output_type": "stream",
     "text": [
      "решил признаться 1 157744 0.6016045247273524\n"
     ]
    },
    {
     "name": "stderr",
     "output_type": "stream",
     "text": [
      " 63%|██████▎   | 6501/10274 [02:38<01:28, 42.40it/s]"
     ]
    },
    {
     "name": "stdout",
     "output_type": "stream",
     "text": [
      "решил убежден 1 162410 0.7001450414490996\n"
     ]
    },
    {
     "name": "stderr",
     "output_type": "stream",
     "text": [
      " 67%|██████▋   | 6922/10274 [02:48<01:19, 42.03it/s]"
     ]
    },
    {
     "name": "stdout",
     "output_type": "stream",
     "text": [
      "решил полагая 1 173719 0.6151629171566881\n"
     ]
    },
    {
     "name": "stderr",
     "output_type": "stream",
     "text": [
      " 71%|███████   | 7278/10274 [02:56<01:09, 43.30it/s]"
     ]
    },
    {
     "name": "stdout",
     "output_type": "stream",
     "text": [
      "решил подозревал 1 182176 0.6166746717993684\n"
     ]
    },
    {
     "name": "stderr",
     "output_type": "stream",
     "text": [
      " 71%|███████   | 7303/10274 [02:57<01:12, 41.11it/s]"
     ]
    },
    {
     "name": "stdout",
     "output_type": "stream",
     "text": [
      "решил увидела 1 182831 0.6089490139949221\n"
     ]
    },
    {
     "name": "stderr",
     "output_type": "stream",
     "text": [
      " 72%|███████▏  | 7436/10274 [03:00<01:07, 41.97it/s]"
     ]
    },
    {
     "name": "stdout",
     "output_type": "stream",
     "text": [
      "решил позабыл 1 185602 0.6057392787192213\n"
     ]
    },
    {
     "name": "stderr",
     "output_type": "stream",
     "text": [
      " 74%|███████▎  | 7575/10274 [03:04<01:05, 41.08it/s]"
     ]
    },
    {
     "name": "stdout",
     "output_type": "stream",
     "text": [
      "решил естественно 1 189117 0.6233609393140653\n"
     ]
    },
    {
     "name": "stderr",
     "output_type": "stream",
     "text": [
      " 76%|███████▌  | 7810/10274 [03:09<00:57, 42.92it/s]"
     ]
    },
    {
     "name": "stdout",
     "output_type": "stream",
     "text": [
      "решил видит 1 194849 0.6240402469668928\n"
     ]
    },
    {
     "name": "stderr",
     "output_type": "stream",
     "text": [
      " 77%|███████▋  | 7954/10274 [03:13<00:55, 41.58it/s]"
     ]
    },
    {
     "name": "stdout",
     "output_type": "stream",
     "text": [
      "решил поняв 1 198065 0.6314594627995612\n"
     ]
    },
    {
     "name": "stderr",
     "output_type": "stream",
     "text": [
      " 79%|███████▉  | 8129/10274 [03:17<00:52, 40.67it/s]"
     ]
    },
    {
     "name": "stdout",
     "output_type": "stream",
     "text": [
      "решил уверена 1 202476 0.6857706581300694\n"
     ]
    },
    {
     "name": "stderr",
     "output_type": "stream",
     "text": [
      " 84%|████████▎ | 8592/10274 [03:29<00:44, 37.69it/s]"
     ]
    },
    {
     "name": "stdout",
     "output_type": "stream",
     "text": [
      "решил уверял 1 213484 0.6971163375885936\n"
     ]
    },
    {
     "name": "stderr",
     "output_type": "stream",
     "text": [
      " 88%|████████▊ | 9012/10274 [03:39<00:31, 40.15it/s]"
     ]
    },
    {
     "name": "stdout",
     "output_type": "stream",
     "text": [
      "решил догадался 1 225042 0.7454697130123025\n"
     ]
    },
    {
     "name": "stderr",
     "output_type": "stream",
     "text": [
      " 88%|████████▊ | 9092/10274 [03:41<00:28, 41.03it/s]"
     ]
    },
    {
     "name": "stdout",
     "output_type": "stream",
     "text": [
      "решил убедился 1 226692 0.7422309022134775\n"
     ]
    },
    {
     "name": "stderr",
     "output_type": "stream",
     "text": [
      " 90%|████████▉ | 9225/10274 [03:45<00:26, 40.07it/s]"
     ]
    },
    {
     "name": "stdout",
     "output_type": "stream",
     "text": [
      "решил предполагал 1 230167 0.6380712414913001\n"
     ]
    },
    {
     "name": "stderr",
     "output_type": "stream",
     "text": [
      " 91%|█████████▏| 9391/10274 [03:49<00:21, 41.21it/s]"
     ]
    },
    {
     "name": "stdout",
     "output_type": "stream",
     "text": [
      "решил чувствует 1 234730 0.6069096339026672\n"
     ]
    },
    {
     "name": "stderr",
     "output_type": "stream",
     "text": [
      " 94%|█████████▍| 9675/10274 [03:56<00:14, 41.50it/s]"
     ]
    },
    {
     "name": "stdout",
     "output_type": "stream",
     "text": [
      "решил доказал 1 241695 0.6252632855492516\n"
     ]
    },
    {
     "name": "stderr",
     "output_type": "stream",
     "text": [
      " 95%|█████████▍| 9715/10274 [03:57<00:13, 41.04it/s]"
     ]
    },
    {
     "name": "stdout",
     "output_type": "stream",
     "text": [
      "решил догадалась 1 242426 0.6023626730868509\n"
     ]
    },
    {
     "name": "stderr",
     "output_type": "stream",
     "text": [
      "100%|██████████| 10274/10274 [04:10<00:00, 40.96it/s]\n",
      "100%|██████████| 10273/10273 [04:12<00:00, 40.61it/s]\n",
      "100%|██████████| 10272/10272 [04:11<00:00, 40.82it/s]\n",
      "100%|██████████| 10271/10271 [04:14<00:00, 40.31it/s]\n",
      "  0%|          | 48/10270 [00:01<04:11, 40.59it/s]"
     ]
    },
    {
     "name": "stdout",
     "output_type": "stream",
     "text": [
      "одну нетерпении 90 930 0.60393072910797\n"
     ]
    },
    {
     "name": "stderr",
     "output_type": "stream",
     "text": [
      "  1%|          | 128/10270 [00:03<04:10, 40.42it/s]"
     ]
    },
    {
     "name": "stdout",
     "output_type": "stream",
     "text": [
      "одну заключение 90 2981 0.6528049332914274\n"
     ]
    },
    {
     "name": "stderr",
     "output_type": "stream",
     "text": [
      "  4%|▎         | 378/10270 [00:09<04:06, 40.12it/s]"
     ]
    },
    {
     "name": "stdout",
     "output_type": "stream",
     "text": [
      "одну страшном 90 9118 0.648649959433541\n",
      "одну красных 90 9166 0.6200121820081188\n"
     ]
    },
    {
     "name": "stderr",
     "output_type": "stream",
     "text": [
      "  4%|▍         | 402/10270 [00:10<04:19, 37.96it/s]"
     ]
    },
    {
     "name": "stdout",
     "output_type": "stream",
     "text": [
      "одну лихорадке 90 9800 0.6095148652589967\n"
     ]
    },
    {
     "name": "stderr",
     "output_type": "stream",
     "text": [
      "  4%|▍         | 459/10270 [00:11<04:07, 39.69it/s]"
     ]
    },
    {
     "name": "stdout",
     "output_type": "stream",
     "text": [
      "одну клубе 90 11338 0.6356346630695018\n"
     ]
    },
    {
     "name": "stderr",
     "output_type": "stream",
     "text": [
      "  5%|▌         | 542/10270 [00:13<04:04, 39.78it/s]"
     ]
    },
    {
     "name": "stdout",
     "output_type": "stream",
     "text": [
      "одну беседке 90 13496 0.6106032776635006\n",
      "одну припадке 90 13505 0.659168677977046\n"
     ]
    },
    {
     "name": "stderr",
     "output_type": "stream",
     "text": [
      "  6%|▌         | 589/10270 [00:14<04:02, 39.84it/s]"
     ]
    },
    {
     "name": "stdout",
     "output_type": "stream",
     "text": [
      "одну прах 90 14329 0.6082755930712419\n"
     ]
    },
    {
     "name": "stderr",
     "output_type": "stream",
     "text": [
      "  7%|▋         | 671/10270 [00:17<04:01, 39.72it/s]"
     ]
    },
    {
     "name": "stdout",
     "output_type": "stream",
     "text": [
      "одну точности 90 16391 0.618208901154286\n"
     ]
    },
    {
     "name": "stderr",
     "output_type": "stream",
     "text": [
      "  7%|▋         | 729/10270 [00:18<03:56, 40.31it/s]"
     ]
    },
    {
     "name": "stdout",
     "output_type": "stream",
     "text": [
      "одну сумерки 90 18272 0.6037613634815462\n"
     ]
    },
    {
     "name": "stderr",
     "output_type": "stream",
     "text": [
      "  7%|▋         | 749/10270 [00:18<03:55, 40.42it/s]"
     ]
    },
    {
     "name": "stdout",
     "output_type": "stream",
     "text": [
      "одну гостинице 90 18738 0.6346884219026715\n"
     ]
    },
    {
     "name": "stderr",
     "output_type": "stream",
     "text": [
      "  8%|▊         | 813/10270 [00:20<03:55, 40.20it/s]"
     ]
    },
    {
     "name": "stdout",
     "output_type": "stream",
     "text": [
      "одну мыслях 90 20393 0.6369101816338799\n",
      "одну мечтах 90 20433 0.6141675578796714\n"
     ]
    },
    {
     "name": "stderr",
     "output_type": "stream",
     "text": [
      " 11%|█         | 1098/10270 [00:27<03:47, 40.33it/s]"
     ]
    },
    {
     "name": "stdout",
     "output_type": "stream",
     "text": [
      "одну прежнем 90 27466 0.6022419300521638\n"
     ]
    },
    {
     "name": "stderr",
     "output_type": "stream",
     "text": [
      " 12%|█▏        | 1188/10270 [00:30<03:45, 40.34it/s]"
     ]
    },
    {
     "name": "stdout",
     "output_type": "stream",
     "text": [
      "одну маленьком 90 29469 0.6792853418587887\n"
     ]
    },
    {
     "name": "stderr",
     "output_type": "stream",
     "text": [
      " 12%|█▏        | 1262/10270 [00:31<03:47, 39.56it/s]"
     ]
    },
    {
     "name": "stdout",
     "output_type": "stream",
     "text": [
      "одну длинном 90 31263 0.6358646287851183\n",
      "одну лодке 90 31459 0.6499459311212927\n"
     ]
    },
    {
     "name": "stderr",
     "output_type": "stream",
     "text": [
      " 13%|█▎        | 1310/10270 [00:33<03:47, 39.35it/s]"
     ]
    },
    {
     "name": "stdout",
     "output_type": "stream",
     "text": [
      "одну последнем 90 32484 0.6566702744698806\n"
     ]
    },
    {
     "name": "stderr",
     "output_type": "stream",
     "text": [
      " 13%|█▎        | 1366/10270 [00:34<03:54, 37.95it/s]"
     ]
    },
    {
     "name": "stdout",
     "output_type": "stream",
     "text": [
      "одну сером 90 34045 0.6190689686177683\n"
     ]
    },
    {
     "name": "stderr",
     "output_type": "stream",
     "text": [
      " 14%|█▍        | 1460/10270 [00:37<03:42, 39.60it/s]"
     ]
    },
    {
     "name": "stdout",
     "output_type": "stream",
     "text": [
      "одну кучу 90 36740 0.6022814448486516\n"
     ]
    },
    {
     "name": "stderr",
     "output_type": "stream",
     "text": [
      " 14%|█▍        | 1472/10270 [00:37<03:49, 38.27it/s]"
     ]
    },
    {
     "name": "stdout",
     "output_type": "stream",
     "text": [
      "одну могилу 90 37005 0.6565672557010244\n"
     ]
    },
    {
     "name": "stderr",
     "output_type": "stream",
     "text": [
      " 15%|█▌        | 1573/10270 [00:39<03:47, 38.16it/s]"
     ]
    },
    {
     "name": "stdout",
     "output_type": "stream",
     "text": [
      "одну тумане 90 39507 0.6148526830366525\n"
     ]
    },
    {
     "name": "stderr",
     "output_type": "stream",
     "text": [
      " 18%|█▊        | 1879/10270 [00:47<03:28, 40.20it/s]"
     ]
    },
    {
     "name": "stdout",
     "output_type": "stream",
     "text": [
      "одну гроб 90 46986 0.6256770569595517\n"
     ]
    },
    {
     "name": "stderr",
     "output_type": "stream",
     "text": [
      " 20%|██        | 2064/10270 [00:52<03:28, 39.43it/s]"
     ]
    },
    {
     "name": "stdout",
     "output_type": "stream",
     "text": [
      "одну порыве 90 51458 0.6219419902666165\n"
     ]
    },
    {
     "name": "stderr",
     "output_type": "stream",
     "text": [
      " 21%|██▏       | 2192/10270 [00:55<03:21, 40.07it/s]"
     ]
    },
    {
     "name": "stdout",
     "output_type": "stream",
     "text": [
      "одну середину 90 54262 0.6476471468473974\n"
     ]
    },
    {
     "name": "stderr",
     "output_type": "stream",
     "text": [
      " 22%|██▏       | 2241/10270 [00:56<03:19, 40.17it/s]"
     ]
    },
    {
     "name": "stdout",
     "output_type": "stream",
     "text": [
      "одну черную 90 55171 0.6013365432613929\n"
     ]
    },
    {
     "name": "stderr",
     "output_type": "stream",
     "text": [
      " 22%|██▏       | 2251/10270 [00:57<03:22, 39.60it/s]"
     ]
    },
    {
     "name": "stdout",
     "output_type": "stream",
     "text": [
      "одну конюшню 90 55472 0.6371192225548313\n"
     ]
    },
    {
     "name": "stderr",
     "output_type": "stream",
     "text": [
      " 23%|██▎       | 2321/10270 [00:58<03:17, 40.16it/s]"
     ]
    },
    {
     "name": "stdout",
     "output_type": "stream",
     "text": [
      "одну контору 90 57253 0.6507575556186763\n"
     ]
    },
    {
     "name": "stderr",
     "output_type": "stream",
     "text": [
      " 23%|██▎       | 2326/10270 [00:58<03:15, 40.53it/s]"
     ]
    },
    {
     "name": "stdout",
     "output_type": "stream",
     "text": [
      "одну такт 90 57390 0.6402478428604861\n"
     ]
    },
    {
     "name": "stderr",
     "output_type": "stream",
     "text": [
      " 23%|██▎       | 2405/10270 [01:00<03:16, 40.09it/s]"
     ]
    },
    {
     "name": "stdout",
     "output_type": "stream",
     "text": [
      "одну иных 90 59040 0.6623754999276475\n"
     ]
    },
    {
     "name": "stderr",
     "output_type": "stream",
     "text": [
      " 24%|██▎       | 2432/10270 [01:01<03:38, 35.92it/s]"
     ]
    },
    {
     "name": "stdout",
     "output_type": "stream",
     "text": [
      "одну головах 90 59610 0.6330523846998629\n"
     ]
    },
    {
     "name": "stderr",
     "output_type": "stream",
     "text": [
      " 24%|██▍       | 2446/10270 [01:01<03:22, 38.64it/s]"
     ]
    },
    {
     "name": "stdout",
     "output_type": "stream",
     "text": [
      "одну вагоне 90 60038 0.6404084605709399\n"
     ]
    },
    {
     "name": "stderr",
     "output_type": "stream",
     "text": [
      " 25%|██▌       | 2615/10270 [01:06<03:15, 39.23it/s]"
     ]
    },
    {
     "name": "stdout",
     "output_type": "stream",
     "text": [
      "одну огне 90 63970 0.6701780358216641\n"
     ]
    },
    {
     "name": "stderr",
     "output_type": "stream",
     "text": [
      " 27%|██▋       | 2726/10270 [01:09<03:07, 40.20it/s]"
     ]
    },
    {
     "name": "stdout",
     "output_type": "stream",
     "text": [
      "одну коляске 90 66689 0.6043862998265295\n"
     ]
    },
    {
     "name": "stderr",
     "output_type": "stream",
     "text": [
      " 28%|██▊       | 2829/10270 [01:12<03:07, 39.76it/s]"
     ]
    },
    {
     "name": "stdout",
     "output_type": "stream",
     "text": [
      "одну могиле 90 70121 0.6334430751578942\n"
     ]
    },
    {
     "name": "stderr",
     "output_type": "stream",
     "text": [
      " 28%|██▊       | 2883/10270 [01:13<03:03, 40.18it/s]"
     ]
    },
    {
     "name": "stdout",
     "output_type": "stream",
     "text": [
      "одну больших 90 71692 0.6129860119976761\n"
     ]
    },
    {
     "name": "stderr",
     "output_type": "stream",
     "text": [
      " 29%|██▊       | 2932/10270 [01:14<03:04, 39.80it/s]"
     ]
    },
    {
     "name": "stdout",
     "output_type": "stream",
     "text": [
      "одну швейцарии 90 72468 0.624185153222455\n"
     ]
    },
    {
     "name": "stderr",
     "output_type": "stream",
     "text": [
      " 29%|██▉       | 3005/10270 [01:16<03:04, 39.40it/s]"
     ]
    },
    {
     "name": "stdout",
     "output_type": "stream",
     "text": [
      "одну ужасе 90 74442 0.6547572943025228\n"
     ]
    },
    {
     "name": "stderr",
     "output_type": "stream",
     "text": [
      " 29%|██▉       | 3023/10270 [01:16<03:01, 39.92it/s]"
     ]
    },
    {
     "name": "stdout",
     "output_type": "stream",
     "text": [
      "одну старину 90 74927 0.6441757404649304\n"
     ]
    },
    {
     "name": "stderr",
     "output_type": "stream",
     "text": [
      " 30%|██▉       | 3078/10270 [01:18<03:03, 39.30it/s]"
     ]
    },
    {
     "name": "stdout",
     "output_type": "stream",
     "text": [
      "одну красном 90 76117 0.6562241258823283\n"
     ]
    },
    {
     "name": "stderr",
     "output_type": "stream",
     "text": [
      " 31%|███       | 3150/10270 [01:20<03:02, 38.97it/s]"
     ]
    },
    {
     "name": "stdout",
     "output_type": "stream",
     "text": [
      "одну меру 90 77491 0.6080701396856906\n"
     ]
    },
    {
     "name": "stderr",
     "output_type": "stream",
     "text": [
      " 31%|███       | 3200/10270 [01:21<02:57, 39.75it/s]"
     ]
    },
    {
     "name": "stdout",
     "output_type": "stream",
     "text": [
      "одну пустыне 90 78601 0.6180847498766691\n"
     ]
    },
    {
     "name": "stderr",
     "output_type": "stream",
     "text": [
      " 33%|███▎      | 3440/10270 [01:27<02:52, 39.60it/s]"
     ]
    },
    {
     "name": "stdout",
     "output_type": "stream",
     "text": [
      "одну крепость 90 84844 0.645834200684362\n"
     ]
    },
    {
     "name": "stderr",
     "output_type": "stream",
     "text": [
      " 34%|███▍      | 3472/10270 [01:28<02:53, 39.10it/s]"
     ]
    },
    {
     "name": "stdout",
     "output_type": "stream",
     "text": [
      "одну военном 90 85926 0.6103328092511184\n"
     ]
    },
    {
     "name": "stderr",
     "output_type": "stream",
     "text": [
      " 34%|███▍      | 3512/10270 [01:29<02:49, 39.88it/s]"
     ]
    },
    {
     "name": "stdout",
     "output_type": "stream",
     "text": [
      "одну телегу 90 87088 0.6312192882658814\n",
      "одну маленькую 90 87273 0.6321050137912742\n"
     ]
    },
    {
     "name": "stderr",
     "output_type": "stream",
     "text": [
      " 35%|███▍      | 3556/10270 [01:30<02:48, 39.85it/s]"
     ]
    },
    {
     "name": "stdout",
     "output_type": "stream",
     "text": [
      "одну школу 90 88531 0.6446507454459965\n"
     ]
    },
    {
     "name": "stderr",
     "output_type": "stream",
     "text": [
      " 37%|███▋      | 3754/10270 [01:35<03:13, 33.62it/s]"
     ]
    },
    {
     "name": "stdout",
     "output_type": "stream",
     "text": [
      "одну америку 90 93009 0.6320334621480118\n"
     ]
    },
    {
     "name": "stderr",
     "output_type": "stream",
     "text": [
      " 37%|███▋      | 3829/10270 [01:37<02:51, 37.66it/s]"
     ]
    },
    {
     "name": "stdout",
     "output_type": "stream",
     "text": [
      "одну окнах 90 94909 0.6914066721176296\n"
     ]
    },
    {
     "name": "stderr",
     "output_type": "stream",
     "text": [
      " 37%|███▋      | 3847/10270 [01:38<02:43, 39.37it/s]"
     ]
    },
    {
     "name": "stdout",
     "output_type": "stream",
     "text": [
      "одну селе 90 95412 0.6540885930938969\n"
     ]
    },
    {
     "name": "stderr",
     "output_type": "stream",
     "text": [
      " 38%|███▊      | 3904/10270 [01:39<02:38, 40.24it/s]"
     ]
    },
    {
     "name": "stdout",
     "output_type": "stream",
     "text": [
      "одну гимназии 90 96974 0.6480078286312543\n"
     ]
    },
    {
     "name": "stderr",
     "output_type": "stream",
     "text": [
      " 38%|███▊      | 3924/10270 [01:40<02:38, 39.99it/s]"
     ]
    },
    {
     "name": "stdout",
     "output_type": "stream",
     "text": [
      "одну полку 90 97550 0.6362813531002451\n"
     ]
    },
    {
     "name": "stderr",
     "output_type": "stream",
     "text": [
      " 38%|███▊      | 3948/10270 [01:40<02:52, 36.65it/s]"
     ]
    },
    {
     "name": "stdout",
     "output_type": "stream",
     "text": [
      "одну книгах 90 98150 0.6232837980991881\n"
     ]
    },
    {
     "name": "stderr",
     "output_type": "stream",
     "text": [
      " 39%|███▊      | 3967/10270 [01:41<02:40, 39.36it/s]"
     ]
    },
    {
     "name": "stdout",
     "output_type": "stream",
     "text": [
      "одну красной 90 98604 0.6269607554672364\n"
     ]
    },
    {
     "name": "stderr",
     "output_type": "stream",
     "text": [
      " 39%|███▉      | 4009/10270 [01:42<02:38, 39.57it/s]"
     ]
    },
    {
     "name": "stdout",
     "output_type": "stream",
     "text": [
      "одну страхе 90 99793 0.6399183950595276\n"
     ]
    },
    {
     "name": "stderr",
     "output_type": "stream",
     "text": [
      " 40%|███▉      | 4067/10270 [01:43<02:37, 39.46it/s]"
     ]
    },
    {
     "name": "stdout",
     "output_type": "stream",
     "text": [
      "одну столовую 90 101432 0.6401079978339399\n",
      "одну больнице 90 101633 0.6315548861406592\n"
     ]
    },
    {
     "name": "stderr",
     "output_type": "stream",
     "text": [
      " 41%|████      | 4175/10270 [01:46<02:33, 39.78it/s]"
     ]
    },
    {
     "name": "stdout",
     "output_type": "stream",
     "text": [
      "одну исступлении 90 104383 0.6448219412846768\n"
     ]
    },
    {
     "name": "stderr",
     "output_type": "stream",
     "text": [
      " 41%|████      | 4204/10270 [01:47<02:31, 40.07it/s]"
     ]
    },
    {
     "name": "stdout",
     "output_type": "stream",
     "text": [
      "одну полях 90 105005 0.6482501128767134\n"
     ]
    },
    {
     "name": "stderr",
     "output_type": "stream",
     "text": [
      " 42%|████▏     | 4317/10270 [01:50<02:28, 40.18it/s]"
     ]
    },
    {
     "name": "stdout",
     "output_type": "stream",
     "text": [
      "одну университете 90 108154 0.6481885056182718\n"
     ]
    },
    {
     "name": "stderr",
     "output_type": "stream",
     "text": [
      " 45%|████▍     | 4578/10270 [01:56<02:41, 35.29it/s]"
     ]
    },
    {
     "name": "stdout",
     "output_type": "stream",
     "text": [
      "одну полицию 90 114180 0.6002237918203196\n"
     ]
    },
    {
     "name": "stderr",
     "output_type": "stream",
     "text": [
      " 45%|████▍     | 4590/10270 [01:57<02:30, 37.76it/s]"
     ]
    },
    {
     "name": "stdout",
     "output_type": "stream",
     "text": [
      "одну каторгу 90 114498 0.6939493350317175\n"
     ]
    },
    {
     "name": "stderr",
     "output_type": "stream",
     "text": [
      " 45%|████▌     | 4649/10270 [01:58<02:22, 39.51it/s]"
     ]
    },
    {
     "name": "stdout",
     "output_type": "stream",
     "text": [
      "одну окне 90 116486 0.6905501723784169\n"
     ]
    },
    {
     "name": "stderr",
     "output_type": "stream",
     "text": [
      " 49%|████▉     | 5069/10270 [02:09<02:10, 39.85it/s]"
     ]
    },
    {
     "name": "stdout",
     "output_type": "stream",
     "text": [
      "одну сопровождении 90 126584 0.6192141386234745\n"
     ]
    },
    {
     "name": "stderr",
     "output_type": "stream",
     "text": [
      " 50%|████▉     | 5124/10270 [02:10<02:18, 37.19it/s]"
     ]
    },
    {
     "name": "stdout",
     "output_type": "stream",
     "text": [
      "одну совершенном 90 127983 0.6240176442875791\n"
     ]
    },
    {
     "name": "stderr",
     "output_type": "stream",
     "text": [
      " 50%|█████     | 5137/10270 [02:11<02:29, 34.30it/s]"
     ]
    },
    {
     "name": "stdout",
     "output_type": "stream",
     "text": [
      "одну монастыре 90 128332 0.6286128768125926\n"
     ]
    },
    {
     "name": "stderr",
     "output_type": "stream",
     "text": [
      " 52%|█████▏    | 5323/10270 [02:16<02:02, 40.45it/s]"
     ]
    },
    {
     "name": "stdout",
     "output_type": "stream",
     "text": [
      "одну воротах 90 133247 0.6428160884551438\n"
     ]
    },
    {
     "name": "stderr",
     "output_type": "stream",
     "text": [
      " 52%|█████▏    | 5378/10270 [02:17<02:03, 39.75it/s]"
     ]
    },
    {
     "name": "stdout",
     "output_type": "stream",
     "text": [
      "одну обморок 90 135022 0.6234339486002551\n"
     ]
    },
    {
     "name": "stderr",
     "output_type": "stream",
     "text": [
      " 53%|█████▎    | 5430/10270 [02:18<02:01, 39.90it/s]"
     ]
    },
    {
     "name": "stdout",
     "output_type": "stream",
     "text": [
      "одну семье 90 136299 0.6271276811925269\n"
     ]
    },
    {
     "name": "stderr",
     "output_type": "stream",
     "text": [
      " 56%|█████▌    | 5735/10270 [02:26<01:53, 39.97it/s]"
     ]
    },
    {
     "name": "stdout",
     "output_type": "stream",
     "text": [
      "одну избе 90 144480 0.6108634503956882\n"
     ]
    },
    {
     "name": "stderr",
     "output_type": "stream",
     "text": [
      " 58%|█████▊    | 5945/10270 [02:31<01:47, 40.12it/s]"
     ]
    },
    {
     "name": "stdout",
     "output_type": "stream",
     "text": [
      "одну рим 90 149221 0.6242027693922558\n"
     ]
    },
    {
     "name": "stderr",
     "output_type": "stream",
     "text": [
      " 58%|█████▊    | 5955/10270 [02:32<02:04, 34.53it/s]"
     ]
    },
    {
     "name": "stdout",
     "output_type": "stream",
     "text": [
      "одну следующую 90 149474 0.6649110679567656\n"
     ]
    },
    {
     "name": "stderr",
     "output_type": "stream",
     "text": [
      " 59%|█████▊    | 6021/10270 [02:33<01:46, 39.94it/s]"
     ]
    },
    {
     "name": "stdout",
     "output_type": "stream",
     "text": [
      "одну сердцах 90 151303 0.6305084922646067\n"
     ]
    },
    {
     "name": "stderr",
     "output_type": "stream",
     "text": [
      " 61%|██████    | 6288/10270 [02:40<01:38, 40.48it/s]"
     ]
    },
    {
     "name": "stdout",
     "output_type": "stream",
     "text": [
      "одну раздумье 90 157442 0.636020619702484\n",
      "одну старом 90 157465 0.6480259765063666\n"
     ]
    },
    {
     "name": "stderr",
     "output_type": "stream",
     "text": [
      " 62%|██████▏   | 6330/10270 [02:41<01:40, 39.35it/s]"
     ]
    },
    {
     "name": "stdout",
     "output_type": "stream",
     "text": [
      "одну живых 90 158460 0.6384520909270324\n"
     ]
    },
    {
     "name": "stderr",
     "output_type": "stream",
     "text": [
      " 63%|██████▎   | 6431/10270 [02:44<01:34, 40.55it/s]"
     ]
    },
    {
     "name": "stdout",
     "output_type": "stream",
     "text": [
      "одну темном 90 161033 0.6572689580480322\n"
     ]
    },
    {
     "name": "stderr",
     "output_type": "stream",
     "text": [
      " 65%|██████▍   | 6655/10270 [02:49<01:29, 40.40it/s]"
     ]
    },
    {
     "name": "stdout",
     "output_type": "stream",
     "text": [
      "одну плен 90 166201 0.6396621626973097\n"
     ]
    },
    {
     "name": "stderr",
     "output_type": "stream",
     "text": [
      " 65%|██████▌   | 6717/10270 [02:51<01:27, 40.69it/s]"
     ]
    },
    {
     "name": "stdout",
     "output_type": "stream",
     "text": [
      "одну реку 90 168254 0.6303400321305004\n"
     ]
    },
    {
     "name": "stderr",
     "output_type": "stream",
     "text": [
      " 66%|██████▌   | 6761/10270 [02:52<01:26, 40.43it/s]"
     ]
    },
    {
     "name": "stdout",
     "output_type": "stream",
     "text": [
      "одну пример 90 169380 0.6161323928148305\n"
     ]
    },
    {
     "name": "stderr",
     "output_type": "stream",
     "text": [
      " 66%|██████▋   | 6810/10270 [02:53<01:26, 40.20it/s]"
     ]
    },
    {
     "name": "stdout",
     "output_type": "stream",
     "text": [
      "одну трактир 90 170789 0.6501229099485739\n"
     ]
    },
    {
     "name": "stderr",
     "output_type": "stream",
     "text": [
      " 67%|██████▋   | 6860/10270 [02:54<01:24, 40.30it/s]"
     ]
    },
    {
     "name": "stdout",
     "output_type": "stream",
     "text": [
      "одну санях 90 172206 0.6525023185443711\n"
     ]
    },
    {
     "name": "stderr",
     "output_type": "stream",
     "text": [
      " 68%|██████▊   | 7010/10270 [02:58<01:21, 39.85it/s]"
     ]
    },
    {
     "name": "stdout",
     "output_type": "stream",
     "text": [
      "одну школе 90 175923 0.6627324190899009\n"
     ]
    },
    {
     "name": "stderr",
     "output_type": "stream",
     "text": [
      " 68%|██████▊   | 7027/10270 [02:59<01:21, 39.82it/s]"
     ]
    },
    {
     "name": "stdout",
     "output_type": "stream",
     "text": [
      "одну темных 90 176380 0.607030811362951\n"
     ]
    },
    {
     "name": "stderr",
     "output_type": "stream",
     "text": [
      " 70%|██████▉   | 7173/10270 [03:02<01:25, 36.35it/s]"
     ]
    },
    {
     "name": "stdout",
     "output_type": "stream",
     "text": [
      "одну потолок 90 179920 0.6050055346215013\n",
      "одну степи 90 179992 0.6119826017745164\n"
     ]
    },
    {
     "name": "stderr",
     "output_type": "stream",
     "text": [
      " 71%|███████   | 7291/10270 [03:05<01:13, 40.67it/s]"
     ]
    },
    {
     "name": "stdout",
     "output_type": "stream",
     "text": [
      "одну жару 90 182659 0.6238980086295817\n",
      "одну ход 90 182733 0.6494444619966268\n"
     ]
    },
    {
     "name": "stderr",
     "output_type": "stream",
     "text": [
      " 71%|███████   | 7306/10270 [03:06<01:12, 40.76it/s]"
     ]
    },
    {
     "name": "stdout",
     "output_type": "stream",
     "text": [
      "одну университет 90 182924 0.6336350153049997\n"
     ]
    },
    {
     "name": "stderr",
     "output_type": "stream",
     "text": [
      " 72%|███████▏  | 7435/10270 [03:09<01:11, 39.83it/s]"
     ]
    },
    {
     "name": "stdout",
     "output_type": "stream",
     "text": [
      "одну поход 90 185623 0.608554843096852\n"
     ]
    },
    {
     "name": "stderr",
     "output_type": "stream",
     "text": [
      " 73%|███████▎  | 7476/10270 [03:10<01:09, 40.17it/s]"
     ]
    },
    {
     "name": "stdout",
     "output_type": "stream",
     "text": [
      "одну окошко 90 186857 0.6934808108587994\n"
     ]
    },
    {
     "name": "stderr",
     "output_type": "stream",
     "text": [
      " 73%|███████▎  | 7530/10270 [03:11<01:08, 40.02it/s]"
     ]
    },
    {
     "name": "stdout",
     "output_type": "stream",
     "text": [
      "одну остроге 90 188192 0.6193977553714956\n"
     ]
    },
    {
     "name": "stderr",
     "output_type": "stream",
     "text": [
      " 73%|███████▎  | 7545/10270 [03:12<01:09, 39.36it/s]"
     ]
    },
    {
     "name": "stdout",
     "output_type": "stream",
     "text": [
      "одну спальне 90 188385 0.6265185422094153\n"
     ]
    },
    {
     "name": "stderr",
     "output_type": "stream",
     "text": [
      " 74%|███████▍  | 7605/10270 [03:13<01:05, 40.45it/s]"
     ]
    },
    {
     "name": "stdout",
     "output_type": "stream",
     "text": [
      "одну огромном 90 190381 0.6262224738670562\n"
     ]
    },
    {
     "name": "stderr",
     "output_type": "stream",
     "text": [
      " 74%|███████▍  | 7630/10270 [03:14<01:06, 39.63it/s]"
     ]
    },
    {
     "name": "stdout",
     "output_type": "stream",
     "text": [
      "одну упор 90 190894 0.6235706568575443\n"
     ]
    },
    {
     "name": "stderr",
     "output_type": "stream",
     "text": [
      " 77%|███████▋  | 7863/10270 [03:20<01:03, 37.93it/s]"
     ]
    },
    {
     "name": "stdout",
     "output_type": "stream",
     "text": [
      "одну грязь 90 196204 0.6552389556750962\n"
     ]
    },
    {
     "name": "stderr",
     "output_type": "stream",
     "text": [
      " 77%|███████▋  | 7947/10270 [03:22<00:57, 40.23it/s]"
     ]
    },
    {
     "name": "stdout",
     "output_type": "stream",
     "text": [
      "одну последнюю 90 198040 0.655283161018891\n"
     ]
    },
    {
     "name": "stderr",
     "output_type": "stream",
     "text": [
      " 78%|███████▊  | 7993/10270 [03:23<00:57, 39.66it/s]"
     ]
    },
    {
     "name": "stdout",
     "output_type": "stream",
     "text": [
      "одну темный 90 199209 0.6158567223442641\n"
     ]
    },
    {
     "name": "stderr",
     "output_type": "stream",
     "text": [
      " 78%|███████▊  | 8031/10270 [03:24<00:55, 40.43it/s]"
     ]
    },
    {
     "name": "stdout",
     "output_type": "stream",
     "text": [
      "одну небольшой 90 200079 0.6246394124051822\n"
     ]
    },
    {
     "name": "stderr",
     "output_type": "stream",
     "text": [
      " 79%|███████▊  | 8063/10270 [03:25<00:56, 38.73it/s]"
     ]
    },
    {
     "name": "stdout",
     "output_type": "stream",
     "text": [
      "одну германии 90 200936 0.6102932214695107\n",
      "одну гробу 90 201081 0.6105550376329301\n"
     ]
    },
    {
     "name": "stderr",
     "output_type": "stream",
     "text": [
      " 79%|███████▉  | 8154/10270 [03:27<00:53, 39.85it/s]"
     ]
    },
    {
     "name": "stdout",
     "output_type": "stream",
     "text": [
      "одну русском 90 202989 0.657568526118801\n"
     ]
    },
    {
     "name": "stderr",
     "output_type": "stream",
     "text": [
      " 80%|████████  | 8230/10270 [03:29<00:50, 40.24it/s]"
     ]
    },
    {
     "name": "stdout",
     "output_type": "stream",
     "text": [
      "одну креслах 90 204952 0.6617471341221564\n"
     ]
    },
    {
     "name": "stderr",
     "output_type": "stream",
     "text": [
      " 80%|████████  | 8255/10270 [03:30<00:50, 40.20it/s]"
     ]
    },
    {
     "name": "stdout",
     "output_type": "stream",
     "text": [
      "одну жертву 90 205651 0.6507874060994315\n",
      "одну темную 90 205803 0.6759285160453112\n"
     ]
    },
    {
     "name": "stderr",
     "output_type": "stream",
     "text": [
      " 81%|████████▏ | 8349/10270 [03:32<00:47, 40.21it/s]"
     ]
    },
    {
     "name": "stdout",
     "output_type": "stream",
     "text": [
      "одну вагон 90 207839 0.6396362563135013\n"
     ]
    },
    {
     "name": "stderr",
     "output_type": "stream",
     "text": [
      " 82%|████████▏ | 8411/10270 [03:34<00:45, 40.45it/s]"
     ]
    },
    {
     "name": "stdout",
     "output_type": "stream",
     "text": [
      "одну гостиницу 90 209378 0.6207961166572916\n"
     ]
    },
    {
     "name": "stderr",
     "output_type": "stream",
     "text": [
      " 82%|████████▏ | 8425/10270 [03:34<00:46, 39.33it/s]"
     ]
    },
    {
     "name": "stdout",
     "output_type": "stream",
     "text": [
      "одну полдень 90 209735 0.6526182569291517\n"
     ]
    },
    {
     "name": "stderr",
     "output_type": "stream",
     "text": [
      " 82%|████████▏ | 8439/10270 [03:34<00:45, 39.91it/s]"
     ]
    },
    {
     "name": "stdout",
     "output_type": "stream",
     "text": [
      "одну сознании 90 210125 0.6293054236631801\n"
     ]
    },
    {
     "name": "stderr",
     "output_type": "stream",
     "text": [
      " 82%|████████▏ | 8469/10270 [03:35<00:45, 39.89it/s]"
     ]
    },
    {
     "name": "stdout",
     "output_type": "stream",
     "text": [
      "одну третьих 90 210757 0.6143515871494988\n"
     ]
    },
    {
     "name": "stderr",
     "output_type": "stream",
     "text": [
      " 84%|████████▍ | 8609/10270 [03:39<00:41, 39.98it/s]"
     ]
    },
    {
     "name": "stdout",
     "output_type": "stream",
     "text": [
      "одну больницу 90 214026 0.6510239173623551\n",
      "одну глубоком 90 214092 0.6191056763560652\n"
     ]
    },
    {
     "name": "stderr",
     "output_type": "stream",
     "text": [
      " 84%|████████▍ | 8643/10270 [03:40<00:40, 40.65it/s]"
     ]
    },
    {
     "name": "stdout",
     "output_type": "stream",
     "text": [
      "одну защиту 90 214944 0.6105066515086338\n"
     ]
    },
    {
     "name": "stderr",
     "output_type": "stream",
     "text": [
      " 85%|████████▌ | 8763/10270 [03:43<00:37, 40.50it/s]"
     ]
    },
    {
     "name": "stdout",
     "output_type": "stream",
     "text": [
      "одну лавочку 90 218305 0.6514442199095706\n"
     ]
    },
    {
     "name": "stderr",
     "output_type": "stream",
     "text": [
      " 86%|████████▌ | 8843/10270 [03:45<00:34, 40.89it/s]"
     ]
    },
    {
     "name": "stdout",
     "output_type": "stream",
     "text": [
      "одну чужой 90 220860 0.6213038497570013\n"
     ]
    },
    {
     "name": "stderr",
     "output_type": "stream",
     "text": [
      " 87%|████████▋ | 8905/10270 [03:46<00:34, 39.72it/s]"
     ]
    },
    {
     "name": "stdout",
     "output_type": "stream",
     "text": [
      "одну белых 90 222358 0.6251311491301176\n"
     ]
    },
    {
     "name": "stderr",
     "output_type": "stream",
     "text": [
      " 88%|████████▊ | 8996/10270 [03:48<00:31, 40.49it/s]"
     ]
    },
    {
     "name": "stdout",
     "output_type": "stream",
     "text": [
      "одну твоем 90 224748 0.627193528306947\n"
     ]
    },
    {
     "name": "stderr",
     "output_type": "stream",
     "text": [
      " 90%|█████████ | 9285/10270 [03:56<00:24, 40.84it/s]"
     ]
    },
    {
     "name": "stdout",
     "output_type": "stream",
     "text": [
      "одну карете 90 232023 0.6423652832106176\n"
     ]
    },
    {
     "name": "stderr",
     "output_type": "stream",
     "text": [
      " 94%|█████████▍| 9646/10270 [04:05<00:16, 37.21it/s]"
     ]
    },
    {
     "name": "stdout",
     "output_type": "stream",
     "text": [
      "одну темной 90 241080 0.6479957170146282\n"
     ]
    },
    {
     "name": "stderr",
     "output_type": "stream",
     "text": [
      " 94%|█████████▍| 9667/10270 [04:05<00:16, 37.31it/s]"
     ]
    },
    {
     "name": "stdout",
     "output_type": "stream",
     "text": [
      "одну кабак 90 241630 0.6324202434272691\n"
     ]
    },
    {
     "name": "stderr",
     "output_type": "stream",
     "text": [
      " 95%|█████████▍| 9754/10270 [04:08<00:12, 40.60it/s]"
     ]
    },
    {
     "name": "stdout",
     "output_type": "stream",
     "text": [
      "одну черной 90 243386 0.6228092520600311\n",
      "одну сарай 90 243409 0.6207852365097227\n"
     ]
    },
    {
     "name": "stderr",
     "output_type": "stream",
     "text": [
      " 95%|█████████▌| 9804/10270 [04:09<00:11, 39.70it/s]"
     ]
    },
    {
     "name": "stdout",
     "output_type": "stream",
     "text": [
      "одну ушах 90 244567 0.6361780015006009\n"
     ]
    },
    {
     "name": "stderr",
     "output_type": "stream",
     "text": [
      " 96%|█████████▌| 9846/10270 [04:10<00:10, 40.42it/s]"
     ]
    },
    {
     "name": "stdout",
     "output_type": "stream",
     "text": [
      "одну гимназию 90 245609 0.6150864001701771\n"
     ]
    },
    {
     "name": "stderr",
     "output_type": "stream",
     "text": [
      " 96%|█████████▌| 9861/10270 [04:10<00:10, 39.40it/s]"
     ]
    },
    {
     "name": "stdout",
     "output_type": "stream",
     "text": [
      "одну субботу 90 246032 0.6223111551381302\n"
     ]
    },
    {
     "name": "stderr",
     "output_type": "stream",
     "text": [
      " 96%|█████████▋| 9890/10270 [04:11<00:09, 39.88it/s]"
     ]
    },
    {
     "name": "stdout",
     "output_type": "stream",
     "text": [
      "одну париж 90 246560 0.6572478548237254\n"
     ]
    },
    {
     "name": "stderr",
     "output_type": "stream",
     "text": [
      " 96%|█████████▋| 9903/10270 [04:11<00:09, 39.63it/s]"
     ]
    },
    {
     "name": "stdout",
     "output_type": "stream",
     "text": [
      "одну синих 90 246767 0.6211309281479409\n",
      "одну коридоре 90 246965 0.6449277165229962\n"
     ]
    },
    {
     "name": "stderr",
     "output_type": "stream",
     "text": [
      " 98%|█████████▊| 10093/10270 [04:16<00:04, 40.22it/s]"
     ]
    },
    {
     "name": "stdout",
     "output_type": "stream",
     "text": [
      "одну коляску 90 251519 0.6043194001067144\n"
     ]
    },
    {
     "name": "stderr",
     "output_type": "stream",
     "text": [
      " 99%|█████████▉| 10148/10270 [04:17<00:03, 40.53it/s]"
     ]
    },
    {
     "name": "stdout",
     "output_type": "stream",
     "text": [
      "одну острог 90 252606 0.6262400020424768\n"
     ]
    },
    {
     "name": "stderr",
     "output_type": "stream",
     "text": [
      " 99%|█████████▉| 10168/10270 [04:18<00:02, 39.74it/s]"
     ]
    },
    {
     "name": "stdout",
     "output_type": "stream",
     "text": [
      "одну стену 90 253089 0.6476463614180363\n"
     ]
    },
    {
     "name": "stderr",
     "output_type": "stream",
     "text": [
      "100%|██████████| 10270/10270 [04:20<00:00, 39.36it/s]\n",
      "  2%|▏         | 188/10269 [00:04<04:17, 39.13it/s]"
     ]
    },
    {
     "name": "stdout",
     "output_type": "stream",
     "text": [
      "поймет забудь 112 4702 0.6199595803451797\n"
     ]
    },
    {
     "name": "stderr",
     "output_type": "stream",
     "text": [
      "  2%|▏         | 197/10269 [00:05<04:10, 40.27it/s]"
     ]
    },
    {
     "name": "stdout",
     "output_type": "stream",
     "text": [
      "поймет ходи 112 5000 0.632222430509621\n"
     ]
    },
    {
     "name": "stderr",
     "output_type": "stream",
     "text": [
      "  3%|▎         | 281/10269 [00:07<04:03, 40.98it/s]"
     ]
    },
    {
     "name": "stdout",
     "output_type": "stream",
     "text": [
      "поймет слыхала 112 6770 0.6741063340417252\n"
     ]
    },
    {
     "name": "stderr",
     "output_type": "stream",
     "text": [
      "  4%|▍         | 396/10269 [00:10<04:01, 40.93it/s]"
     ]
    },
    {
     "name": "stdout",
     "output_type": "stream",
     "text": [
      "поймет сердись 112 9708 0.6502434445909052\n"
     ]
    },
    {
     "name": "stderr",
     "output_type": "stream",
     "text": [
      "  4%|▍         | 426/10269 [00:10<04:04, 40.32it/s]"
     ]
    },
    {
     "name": "stdout",
     "output_type": "stream",
     "text": [
      "поймет знала 112 10199 0.7273133517762208\n"
     ]
    },
    {
     "name": "stderr",
     "output_type": "stream",
     "text": [
      "  5%|▌         | 526/10269 [00:13<04:02, 40.14it/s]"
     ]
    },
    {
     "name": "stdout",
     "output_type": "stream",
     "text": [
      "поймет видывал 112 13172 0.6502914080723082\n"
     ]
    },
    {
     "name": "stderr",
     "output_type": "stream",
     "text": [
      "  6%|▌         | 570/10269 [00:14<04:06, 39.41it/s]"
     ]
    },
    {
     "name": "stdout",
     "output_type": "stream",
     "text": [
      "поймет веря 112 14070 0.6625160979092117\n",
      "поймет жалел 112 14178 0.6599050576284137\n"
     ]
    },
    {
     "name": "stderr",
     "output_type": "stream",
     "text": [
      "  6%|▌         | 610/10269 [00:15<03:56, 40.82it/s]"
     ]
    },
    {
     "name": "stdout",
     "output_type": "stream",
     "text": [
      "поймет верьте 112 14872 0.6135722060649843\n"
     ]
    },
    {
     "name": "stderr",
     "output_type": "stream",
     "text": [
      "  7%|▋         | 695/10269 [00:17<03:54, 40.87it/s]"
     ]
    },
    {
     "name": "stdout",
     "output_type": "stream",
     "text": [
      "поймет видал 112 16958 0.7137889268854067\n"
     ]
    },
    {
     "name": "stderr",
     "output_type": "stream",
     "text": [
      "  8%|▊         | 803/10269 [00:20<03:51, 40.91it/s]"
     ]
    },
    {
     "name": "stdout",
     "output_type": "stream",
     "text": [
      "поймет успел 112 20020 0.6922877459676947\n"
     ]
    },
    {
     "name": "stderr",
     "output_type": "stream",
     "text": [
      " 10%|▉         | 1007/10269 [00:25<03:45, 41.15it/s]"
     ]
    },
    {
     "name": "stdout",
     "output_type": "stream",
     "text": [
      "поймет замечает 112 25490 0.6847710973015503\n"
     ]
    },
    {
     "name": "stderr",
     "output_type": "stream",
     "text": [
      " 10%|▉         | 1022/10269 [00:25<03:49, 40.28it/s]"
     ]
    },
    {
     "name": "stdout",
     "output_type": "stream",
     "text": [
      "поймет имеет 112 25820 0.7342354832666564\n"
     ]
    },
    {
     "name": "stderr",
     "output_type": "stream",
     "text": [
      " 11%|█         | 1082/10269 [00:27<03:44, 40.95it/s]"
     ]
    },
    {
     "name": "stdout",
     "output_type": "stream",
     "text": [
      "поймет понял 112 27144 0.6213258281285082\n"
     ]
    },
    {
     "name": "stderr",
     "output_type": "stream",
     "text": [
      " 11%|█         | 1147/10269 [00:28<03:44, 40.65it/s]"
     ]
    },
    {
     "name": "stdout",
     "output_type": "stream",
     "text": [
      "поймет помню 112 28530 0.6364506886729826\n"
     ]
    },
    {
     "name": "stderr",
     "output_type": "stream",
     "text": [
      " 11%|█▏        | 1177/10269 [00:29<03:44, 40.58it/s]"
     ]
    },
    {
     "name": "stdout",
     "output_type": "stream",
     "text": [
      "поймет понимая 112 29222 0.7338050203743532\n"
     ]
    },
    {
     "name": "stderr",
     "output_type": "stream",
     "text": [
      " 12%|█▏        | 1217/10269 [00:30<03:44, 40.32it/s]"
     ]
    },
    {
     "name": "stdout",
     "output_type": "stream",
     "text": [
      "поймет умел 112 30111 0.710712711346647\n",
      "поймет дождавшись 112 30282 0.6296768172356465\n"
     ]
    },
    {
     "name": "stderr",
     "output_type": "stream",
     "text": [
      " 12%|█▏        | 1276/10269 [00:31<03:46, 39.63it/s]"
     ]
    },
    {
     "name": "stdout",
     "output_type": "stream",
     "text": [
      "поймет решался 112 31639 0.6840370832531104\n"
     ]
    },
    {
     "name": "stderr",
     "output_type": "stream",
     "text": [
      " 13%|█▎        | 1292/10269 [00:32<03:48, 39.36it/s]"
     ]
    },
    {
     "name": "stdout",
     "output_type": "stream",
     "text": [
      "поймет придет 112 31915 0.6561173959723156\n"
     ]
    },
    {
     "name": "stderr",
     "output_type": "stream",
     "text": [
      " 13%|█▎        | 1366/10269 [00:34<03:37, 41.01it/s]"
     ]
    },
    {
     "name": "stdout",
     "output_type": "stream",
     "text": [
      "поймет нужна 112 34044 0.6013518028556102\n"
     ]
    },
    {
     "name": "stderr",
     "output_type": "stream",
     "text": [
      " 15%|█▍        | 1504/10269 [00:37<03:33, 41.15it/s]"
     ]
    },
    {
     "name": "stdout",
     "output_type": "stream",
     "text": [
      "поймет согласится 112 37946 0.6546843882527686\n"
     ]
    },
    {
     "name": "stderr",
     "output_type": "stream",
     "text": [
      " 15%|█▌        | 1584/10269 [00:39<03:35, 40.33it/s]"
     ]
    },
    {
     "name": "stdout",
     "output_type": "stream",
     "text": [
      "поймет спит 112 39704 0.6202349436485105\n"
     ]
    },
    {
     "name": "stderr",
     "output_type": "stream",
     "text": [
      " 16%|█▌        | 1614/10269 [00:40<03:30, 41.02it/s]"
     ]
    },
    {
     "name": "stdout",
     "output_type": "stream",
     "text": [
      "поймет говоря 112 40570 0.6735176052316391\n"
     ]
    },
    {
     "name": "stderr",
     "output_type": "stream",
     "text": [
      " 16%|█▌        | 1653/10269 [00:41<04:04, 35.23it/s]"
     ]
    },
    {
     "name": "stdout",
     "output_type": "stream",
     "text": [
      "поймет слыхали 112 41525 0.6031577355382302\n"
     ]
    },
    {
     "name": "stderr",
     "output_type": "stream",
     "text": [
      " 16%|█▌        | 1667/10269 [00:41<03:47, 37.82it/s]"
     ]
    },
    {
     "name": "stdout",
     "output_type": "stream",
     "text": [
      "поймет выйдет 112 41847 0.6416544978703094\n",
      "поймет убил 112 41936 0.6022839892286858\n"
     ]
    },
    {
     "name": "stderr",
     "output_type": "stream",
     "text": [
      " 17%|█▋        | 1765/10269 [00:44<04:05, 34.59it/s]"
     ]
    },
    {
     "name": "stdout",
     "output_type": "stream",
     "text": [
      "поймет дожидаясь 112 44382 0.631521138537929\n"
     ]
    },
    {
     "name": "stderr",
     "output_type": "stream",
     "text": [
      " 17%|█▋        | 1777/10269 [00:44<04:06, 34.45it/s]"
     ]
    },
    {
     "name": "stdout",
     "output_type": "stream",
     "text": [
      "поймет забуду 112 44627 0.654059878890379\n"
     ]
    },
    {
     "name": "stderr",
     "output_type": "stream",
     "text": [
      " 18%|█▊        | 1812/10269 [00:45<03:27, 40.74it/s]"
     ]
    },
    {
     "name": "stdout",
     "output_type": "stream",
     "text": [
      "поймет забывал 112 45547 0.608942778779024\n"
     ]
    },
    {
     "name": "stderr",
     "output_type": "stream",
     "text": [
      " 18%|█▊        | 1861/10269 [00:46<03:48, 36.80it/s]"
     ]
    },
    {
     "name": "stdout",
     "output_type": "stream",
     "text": [
      "поймет имея 112 46634 0.6627272923524489\n"
     ]
    },
    {
     "name": "stderr",
     "output_type": "stream",
     "text": [
      " 19%|█▊        | 1921/10269 [00:48<03:41, 37.71it/s]"
     ]
    },
    {
     "name": "stdout",
     "output_type": "stream",
     "text": [
      "поймет переставая 112 48155 0.6751942907680815\n"
     ]
    },
    {
     "name": "stderr",
     "output_type": "stream",
     "text": [
      " 19%|█▉        | 1999/10269 [00:50<03:21, 41.07it/s]"
     ]
    },
    {
     "name": "stdout",
     "output_type": "stream",
     "text": [
      "поймет имела 112 50170 0.6489316655566236\n"
     ]
    },
    {
     "name": "stderr",
     "output_type": "stream",
     "text": [
      " 20%|██        | 2062/10269 [00:51<03:23, 40.31it/s]"
     ]
    },
    {
     "name": "stdout",
     "output_type": "stream",
     "text": [
      "поймет менее 112 51467 0.6003682801824776\n"
     ]
    },
    {
     "name": "stderr",
     "output_type": "stream",
     "text": [
      " 20%|██        | 2071/10269 [00:52<04:04, 33.57it/s]"
     ]
    },
    {
     "name": "stdout",
     "output_type": "stream",
     "text": [
      "поймет замечая 112 51765 0.7008211566292735\n"
     ]
    },
    {
     "name": "stderr",
     "output_type": "stream",
     "text": [
      " 20%|██        | 2099/10269 [00:52<03:25, 39.70it/s]"
     ]
    },
    {
     "name": "stdout",
     "output_type": "stream",
     "text": [
      "поймет могут 112 52225 0.6634909646485928\n",
      "поймет выдержал 112 52438 0.67553182238234\n"
     ]
    },
    {
     "name": "stderr",
     "output_type": "stream",
     "text": [
      " 21%|██        | 2114/10269 [00:53<03:23, 40.08it/s]"
     ]
    },
    {
     "name": "stdout",
     "output_type": "stream",
     "text": [
      "поймет узнавал 112 52547 0.6205670995241739\n"
     ]
    },
    {
     "name": "stderr",
     "output_type": "stream",
     "text": [
      " 21%|██        | 2154/10269 [00:54<03:18, 40.86it/s]"
     ]
    },
    {
     "name": "stdout",
     "output_type": "stream",
     "text": [
      "поймет видят 112 53346 0.6146773795584082\n"
     ]
    },
    {
     "name": "stderr",
     "output_type": "stream",
     "text": [
      " 21%|██        | 2174/10269 [00:54<03:17, 40.96it/s]"
     ]
    },
    {
     "name": "stdout",
     "output_type": "stream",
     "text": [
      "поймет давал 112 53871 0.622051475550713\n"
     ]
    },
    {
     "name": "stderr",
     "output_type": "stream",
     "text": [
      " 21%|██▏       | 2194/10269 [00:55<03:16, 41.00it/s]"
     ]
    },
    {
     "name": "stdout",
     "output_type": "stream",
     "text": [
      "поймет заметили 112 54279 0.6536075959565105\n"
     ]
    },
    {
     "name": "stderr",
     "output_type": "stream",
     "text": [
      " 21%|██▏       | 2204/10269 [00:55<03:21, 40.00it/s]"
     ]
    },
    {
     "name": "stdout",
     "output_type": "stream",
     "text": [
      "поймет станет 112 54503 0.6750974822263989\n"
     ]
    },
    {
     "name": "stderr",
     "output_type": "stream",
     "text": [
      " 22%|██▏       | 2269/10269 [00:57<03:15, 40.92it/s]"
     ]
    },
    {
     "name": "stdout",
     "output_type": "stream",
     "text": [
      "поймет любил 112 55998 0.6653341954362252\n"
     ]
    },
    {
     "name": "stderr",
     "output_type": "stream",
     "text": [
      " 23%|██▎       | 2364/10269 [00:59<03:14, 40.66it/s]"
     ]
    },
    {
     "name": "stdout",
     "output_type": "stream",
     "text": [
      "поймет смела 112 58345 0.6639964028202693\n"
     ]
    },
    {
     "name": "stderr",
     "output_type": "stream",
     "text": [
      " 23%|██▎       | 2409/10269 [01:00<03:11, 41.13it/s]"
     ]
    },
    {
     "name": "stdout",
     "output_type": "stream",
     "text": [
      "поймет возьмет 112 59115 0.6211960560809293\n"
     ]
    },
    {
     "name": "stderr",
     "output_type": "stream",
     "text": [
      " 24%|██▎       | 2414/10269 [01:00<03:12, 40.82it/s]"
     ]
    },
    {
     "name": "stdout",
     "output_type": "stream",
     "text": [
      "поймет приедет 112 59242 0.6010507475912532\n"
     ]
    },
    {
     "name": "stderr",
     "output_type": "stream",
     "text": [
      " 25%|██▍       | 2519/10269 [01:03<03:09, 40.99it/s]"
     ]
    },
    {
     "name": "stdout",
     "output_type": "stream",
     "text": [
      "поймет боится 112 61522 0.7340766213306815\n",
      "поймет заметила 112 61804 0.6377362278378529\n"
     ]
    },
    {
     "name": "stderr",
     "output_type": "stream",
     "text": [
      " 25%|██▍       | 2564/10269 [01:04<03:09, 40.61it/s]"
     ]
    },
    {
     "name": "stdout",
     "output_type": "stream",
     "text": [
      "поймет смею 112 62794 0.650743311108206\n"
     ]
    },
    {
     "name": "stderr",
     "output_type": "stream",
     "text": [
      " 26%|██▌       | 2662/10269 [01:06<03:15, 39.00it/s]"
     ]
    },
    {
     "name": "stdout",
     "output_type": "stream",
     "text": [
      "поймет находя 112 65295 0.6446867814108331\n"
     ]
    },
    {
     "name": "stderr",
     "output_type": "stream",
     "text": [
      " 26%|██▌       | 2670/10269 [01:07<03:24, 37.25it/s]"
     ]
    },
    {
     "name": "stdout",
     "output_type": "stream",
     "text": [
      "поймет могли 112 65441 0.6666148983013417\n"
     ]
    },
    {
     "name": "stderr",
     "output_type": "stream",
     "text": [
      " 26%|██▋       | 2708/10269 [01:08<03:25, 36.88it/s]"
     ]
    },
    {
     "name": "stdout",
     "output_type": "stream",
     "text": [
      "поймет помнит 112 66300 0.689382456795637\n"
     ]
    },
    {
     "name": "stderr",
     "output_type": "stream",
     "text": [
      " 27%|██▋       | 2725/10269 [01:08<03:37, 34.65it/s]"
     ]
    },
    {
     "name": "stdout",
     "output_type": "stream",
     "text": [
      "поймет ожидал 112 66751 0.7314626882947446\n"
     ]
    },
    {
     "name": "stderr",
     "output_type": "stream",
     "text": [
      " 27%|██▋       | 2745/10269 [01:09<03:38, 34.48it/s]"
     ]
    },
    {
     "name": "stdout",
     "output_type": "stream",
     "text": [
      "поймет существует 112 67322 0.634478126784196\n"
     ]
    },
    {
     "name": "stderr",
     "output_type": "stream",
     "text": [
      " 27%|██▋       | 2805/10269 [01:10<03:18, 37.58it/s]"
     ]
    },
    {
     "name": "stdout",
     "output_type": "stream",
     "text": [
      "поймет верит 112 69434 0.729625887515867\n"
     ]
    },
    {
     "name": "stderr",
     "output_type": "stream",
     "text": [
      " 29%|██▉       | 2991/10269 [01:15<03:00, 40.39it/s]"
     ]
    },
    {
     "name": "stdout",
     "output_type": "stream",
     "text": [
      "поймет уйдет 112 74103 0.6043764694109228\n"
     ]
    },
    {
     "name": "stderr",
     "output_type": "stream",
     "text": [
      " 29%|██▉       | 3006/10269 [01:15<02:59, 40.43it/s]"
     ]
    },
    {
     "name": "stdout",
     "output_type": "stream",
     "text": [
      "поймет останется 112 74527 0.6241305191118839\n"
     ]
    },
    {
     "name": "stderr",
     "output_type": "stream",
     "text": [
      " 30%|██▉       | 3036/10269 [01:16<03:03, 39.42it/s]"
     ]
    },
    {
     "name": "stdout",
     "output_type": "stream",
     "text": [
      "поймет ответил 112 75295 0.6350965574843292\n"
     ]
    },
    {
     "name": "stderr",
     "output_type": "stream",
     "text": [
      " 30%|███       | 3104/10269 [01:18<02:58, 40.10it/s]"
     ]
    },
    {
     "name": "stdout",
     "output_type": "stream",
     "text": [
      "поймет имеют 112 76674 0.6013385765046946\n"
     ]
    },
    {
     "name": "stderr",
     "output_type": "stream",
     "text": [
      " 30%|███       | 3119/10269 [01:18<02:56, 40.44it/s]"
     ]
    },
    {
     "name": "stdout",
     "output_type": "stream",
     "text": [
      "поймет верил 112 76790 0.7275287208451766\n",
      "поймет смел 112 76820 0.7125737151112402\n"
     ]
    },
    {
     "name": "stderr",
     "output_type": "stream",
     "text": [
      " 31%|███       | 3158/10269 [01:19<02:59, 39.53it/s]"
     ]
    },
    {
     "name": "stdout",
     "output_type": "stream",
     "text": [
      "поймет видя 112 77604 0.6191807942548411\n"
     ]
    },
    {
     "name": "stderr",
     "output_type": "stream",
     "text": [
      " 31%|███▏      | 3228/10269 [01:21<02:50, 41.37it/s]"
     ]
    },
    {
     "name": "stdout",
     "output_type": "stream",
     "text": [
      "поймет умею 112 79396 0.6574685324649099\n",
      "поймет любила 112 79470 0.6360190726541155\n"
     ]
    },
    {
     "name": "stderr",
     "output_type": "stream",
     "text": [
      " 32%|███▏      | 3238/10269 [01:21<02:53, 40.49it/s]"
     ]
    },
    {
     "name": "stdout",
     "output_type": "stream",
     "text": [
      "поймет пойму 112 79859 0.6075266372397164\n"
     ]
    },
    {
     "name": "stderr",
     "output_type": "stream",
     "text": [
      " 32%|███▏      | 3278/10269 [01:22<02:52, 40.49it/s]"
     ]
    },
    {
     "name": "stdout",
     "output_type": "stream",
     "text": [
      "поймет отвечает 112 80821 0.6124588169025869\n"
     ]
    },
    {
     "name": "stderr",
     "output_type": "stream",
     "text": [
      " 32%|███▏      | 3323/10269 [01:23<02:49, 41.02it/s]"
     ]
    },
    {
     "name": "stdout",
     "output_type": "stream",
     "text": [
      "поймет нужен 112 81997 0.60383212668532\n"
     ]
    },
    {
     "name": "stderr",
     "output_type": "stream",
     "text": [
      " 35%|███▍      | 3577/10269 [01:29<02:43, 40.81it/s]"
     ]
    },
    {
     "name": "stdout",
     "output_type": "stream",
     "text": [
      "поймет примет 112 89060 0.6044792055267308\n"
     ]
    },
    {
     "name": "stderr",
     "output_type": "stream",
     "text": [
      " 36%|███▌      | 3674/10269 [01:32<02:41, 40.71it/s]"
     ]
    },
    {
     "name": "stdout",
     "output_type": "stream",
     "text": [
      "поймет думает 112 91592 0.6263939283068236\n"
     ]
    },
    {
     "name": "stderr",
     "output_type": "stream",
     "text": [
      " 37%|███▋      | 3764/10269 [01:34<02:39, 40.89it/s]"
     ]
    },
    {
     "name": "stdout",
     "output_type": "stream",
     "text": [
      "поймет спала 112 93266 0.6501146930943991\n"
     ]
    },
    {
     "name": "stderr",
     "output_type": "stream",
     "text": [
      " 37%|███▋      | 3779/10269 [01:34<02:55, 37.06it/s]"
     ]
    },
    {
     "name": "stdout",
     "output_type": "stream",
     "text": [
      "поймет умеет 112 93604 0.7306726139831333\n"
     ]
    },
    {
     "name": "stderr",
     "output_type": "stream",
     "text": [
      " 37%|███▋      | 3827/10269 [01:36<02:40, 40.12it/s]"
     ]
    },
    {
     "name": "stdout",
     "output_type": "stream",
     "text": [
      "поймет годится 112 94908 0.6857144228986136\n"
     ]
    },
    {
     "name": "stderr",
     "output_type": "stream",
     "text": [
      " 38%|███▊      | 3897/10269 [01:37<02:36, 40.81it/s]"
     ]
    },
    {
     "name": "stdout",
     "output_type": "stream",
     "text": [
      "поймет сказав 112 96937 0.6219146546705322\n"
     ]
    },
    {
     "name": "stderr",
     "output_type": "stream",
     "text": [
      " 39%|███▉      | 4041/10269 [01:41<02:30, 41.44it/s]"
     ]
    },
    {
     "name": "stdout",
     "output_type": "stream",
     "text": [
      "поймет стану 112 100744 0.6592158722287056\n"
     ]
    },
    {
     "name": "stderr",
     "output_type": "stream",
     "text": [
      " 40%|███▉      | 4101/10269 [01:42<02:29, 41.17it/s]"
     ]
    },
    {
     "name": "stdout",
     "output_type": "stream",
     "text": [
      "поймет захочет 112 102249 0.6837594704181226\n"
     ]
    },
    {
     "name": "stderr",
     "output_type": "stream",
     "text": [
      " 40%|████      | 4126/10269 [01:43<02:30, 40.91it/s]"
     ]
    },
    {
     "name": "stdout",
     "output_type": "stream",
     "text": [
      "поймет поняла 112 103012 0.6213864186634966\n"
     ]
    },
    {
     "name": "stderr",
     "output_type": "stream",
     "text": [
      " 41%|████      | 4200/10269 [01:45<02:36, 38.84it/s]"
     ]
    },
    {
     "name": "stdout",
     "output_type": "stream",
     "text": [
      "поймет хуже 112 104907 0.6013425601943498\n"
     ]
    },
    {
     "name": "stderr",
     "output_type": "stream",
     "text": [
      " 42%|████▏     | 4264/10269 [01:46<02:26, 41.09it/s]"
     ]
    },
    {
     "name": "stdout",
     "output_type": "stream",
     "text": [
      "поймет замечала 112 106772 0.6684823177485424\n"
     ]
    },
    {
     "name": "stderr",
     "output_type": "stream",
     "text": [
      " 42%|████▏     | 4279/10269 [01:47<02:28, 40.28it/s]"
     ]
    },
    {
     "name": "stdout",
     "output_type": "stream",
     "text": [
      "поймет останавливаясь 112 107162 0.6271325070358886\n"
     ]
    },
    {
     "name": "stderr",
     "output_type": "stream",
     "text": [
      " 42%|████▏     | 4299/10269 [01:47<02:28, 40.27it/s]"
     ]
    },
    {
     "name": "stdout",
     "output_type": "stream",
     "text": [
      "поймет мешает 112 107650 0.6754831287653538\n"
     ]
    },
    {
     "name": "stderr",
     "output_type": "stream",
     "text": [
      " 43%|████▎     | 4412/10269 [01:50<02:25, 40.38it/s]"
     ]
    },
    {
     "name": "stdout",
     "output_type": "stream",
     "text": [
      "поймет хотят 112 110628 0.6142218171767828\n",
      "поймет скажет 112 110635 0.6645348422304705\n"
     ]
    },
    {
     "name": "stderr",
     "output_type": "stream",
     "text": [
      " 44%|████▍     | 4546/10269 [01:54<02:19, 40.89it/s]"
     ]
    },
    {
     "name": "stdout",
     "output_type": "stream",
     "text": [
      "поймет видала 112 113491 0.6963726933463977\n"
     ]
    },
    {
     "name": "stderr",
     "output_type": "stream",
     "text": [
      " 44%|████▍     | 4566/10269 [01:54<02:20, 40.47it/s]"
     ]
    },
    {
     "name": "stdout",
     "output_type": "stream",
     "text": [
      "поймет смея 112 113939 0.6409196704553015\n"
     ]
    },
    {
     "name": "stderr",
     "output_type": "stream",
     "text": [
      " 45%|████▍     | 4596/10269 [01:55<02:16, 41.46it/s]"
     ]
    },
    {
     "name": "stdout",
     "output_type": "stream",
     "text": [
      "поймет узнает 112 114673 0.7586061989761058\n"
     ]
    },
    {
     "name": "stderr",
     "output_type": "stream",
     "text": [
      " 45%|████▍     | 4611/10269 [01:55<02:18, 40.86it/s]"
     ]
    },
    {
     "name": "stdout",
     "output_type": "stream",
     "text": [
      "поймет смей 112 115133 0.6644671282452986\n"
     ]
    },
    {
     "name": "stderr",
     "output_type": "stream",
     "text": [
      " 45%|████▌     | 4631/10269 [01:56<02:18, 40.85it/s]"
     ]
    },
    {
     "name": "stdout",
     "output_type": "stream",
     "text": [
      "поймет слышит 112 115707 0.6912569520628196\n"
     ]
    },
    {
     "name": "stderr",
     "output_type": "stream",
     "text": [
      " 45%|████▌     | 4666/10269 [01:56<02:16, 40.96it/s]"
     ]
    },
    {
     "name": "stdout",
     "output_type": "stream",
     "text": [
      "поймет помнил 112 116870 0.7171798276841234\n"
     ]
    },
    {
     "name": "stderr",
     "output_type": "stream",
     "text": [
      " 46%|████▌     | 4686/10269 [01:57<02:17, 40.53it/s]"
     ]
    },
    {
     "name": "stdout",
     "output_type": "stream",
     "text": [
      "поймет оставит 112 117366 0.6796696745239257\n"
     ]
    },
    {
     "name": "stderr",
     "output_type": "stream",
     "text": [
      " 46%|████▋     | 4771/10269 [01:59<02:14, 40.77it/s]"
     ]
    },
    {
     "name": "stdout",
     "output_type": "stream",
     "text": [
      "поймет слушая 112 119350 0.627568022685313\n"
     ]
    },
    {
     "name": "stderr",
     "output_type": "stream",
     "text": [
      " 47%|████▋     | 4821/10269 [02:00<02:12, 41.10it/s]"
     ]
    },
    {
     "name": "stdout",
     "output_type": "stream",
     "text": [
      "поймет любит 112 120469 0.7459744192448609\n"
     ]
    },
    {
     "name": "stderr",
     "output_type": "stream",
     "text": [
      " 48%|████▊     | 4961/10269 [02:04<02:09, 41.01it/s]"
     ]
    },
    {
     "name": "stdout",
     "output_type": "stream",
     "text": [
      "поймет понимали 112 123934 0.6973800509960856\n"
     ]
    },
    {
     "name": "stderr",
     "output_type": "stream",
     "text": [
      " 49%|████▉     | 5055/10269 [02:06<02:22, 36.59it/s]"
     ]
    },
    {
     "name": "stdout",
     "output_type": "stream",
     "text": [
      "поймет поверил 112 126278 0.7212943955665617\n"
     ]
    },
    {
     "name": "stderr",
     "output_type": "stream",
     "text": [
      " 50%|████▉     | 5099/10269 [02:07<02:05, 41.05it/s]"
     ]
    },
    {
     "name": "stdout",
     "output_type": "stream",
     "text": [
      "поймет узнали 112 127169 0.6083215315909538\n"
     ]
    },
    {
     "name": "stderr",
     "output_type": "stream",
     "text": [
      " 50%|█████     | 5164/10269 [02:09<02:04, 40.97it/s]"
     ]
    },
    {
     "name": "stdout",
     "output_type": "stream",
     "text": [
      "поймет понимала 112 129006 0.7621384244664228\n"
     ]
    },
    {
     "name": "stderr",
     "output_type": "stream",
     "text": [
      " 51%|█████     | 5189/10269 [02:09<02:05, 40.59it/s]"
     ]
    },
    {
     "name": "stdout",
     "output_type": "stream",
     "text": [
      "поймет умеют 112 129457 0.6475000907071112\n"
     ]
    },
    {
     "name": "stderr",
     "output_type": "stream",
     "text": [
      " 51%|█████     | 5214/10269 [02:10<02:04, 40.66it/s]"
     ]
    },
    {
     "name": "stdout",
     "output_type": "stream",
     "text": [
      "поймет желает 112 130270 0.6201503823799032\n"
     ]
    },
    {
     "name": "stderr",
     "output_type": "stream",
     "text": [
      " 51%|█████     | 5224/10269 [02:10<02:05, 40.08it/s]"
     ]
    },
    {
     "name": "stdout",
     "output_type": "stream",
     "text": [
      "поймет сделает 112 130559 0.6812758608485371\n"
     ]
    },
    {
     "name": "stderr",
     "output_type": "stream",
     "text": [
      " 51%|█████     | 5243/10269 [02:11<02:03, 40.63it/s]"
     ]
    },
    {
     "name": "stdout",
     "output_type": "stream",
     "text": [
      "поймет говори 112 131117 0.691846319663024\n"
     ]
    },
    {
     "name": "stderr",
     "output_type": "stream",
     "text": [
      " 51%|█████     | 5258/10269 [02:11<02:04, 40.27it/s]"
     ]
    },
    {
     "name": "stdout",
     "output_type": "stream",
     "text": [
      "поймет делал 112 131401 0.6118790440948442\n"
     ]
    },
    {
     "name": "stderr",
     "output_type": "stream",
     "text": [
      " 52%|█████▏    | 5370/10269 [02:14<02:03, 39.78it/s]"
     ]
    },
    {
     "name": "stdout",
     "output_type": "stream",
     "text": [
      "поймет слыхал 112 134668 0.723740091196455\n"
     ]
    },
    {
     "name": "stderr",
     "output_type": "stream",
     "text": [
      " 53%|█████▎    | 5424/10269 [02:15<02:01, 40.00it/s]"
     ]
    },
    {
     "name": "stdout",
     "output_type": "stream",
     "text": [
      "поймет дадут 112 136194 0.6455392196541042\n"
     ]
    },
    {
     "name": "stderr",
     "output_type": "stream",
     "text": [
      " 53%|█████▎    | 5432/10269 [02:16<02:03, 39.02it/s]"
     ]
    },
    {
     "name": "stdout",
     "output_type": "stream",
     "text": [
      "поймет дают 112 136351 0.6243408179332114\n"
     ]
    },
    {
     "name": "stderr",
     "output_type": "stream",
     "text": [
      " 53%|█████▎    | 5473/10269 [02:17<02:07, 37.51it/s]"
     ]
    },
    {
     "name": "stdout",
     "output_type": "stream",
     "text": [
      "поймет понимает 112 137475 0.8161345040693652\n"
     ]
    },
    {
     "name": "stderr",
     "output_type": "stream",
     "text": [
      " 54%|█████▍    | 5586/10269 [02:19<01:53, 41.13it/s]"
     ]
    },
    {
     "name": "stdout",
     "output_type": "stream",
     "text": [
      "поймет поймут 112 140782 0.6874860457265222\n",
      "поймет верь 112 140910 0.6294344389963948\n"
     ]
    },
    {
     "name": "stderr",
     "output_type": "stream",
     "text": [
      " 56%|█████▌    | 5738/10269 [02:23<01:53, 39.98it/s]"
     ]
    },
    {
     "name": "stdout",
     "output_type": "stream",
     "text": [
      "поймет поверит 112 144555 0.664332752517577\n"
     ]
    },
    {
     "name": "stderr",
     "output_type": "stream",
     "text": [
      " 57%|█████▋    | 5832/10269 [02:26<01:52, 39.48it/s]"
     ]
    },
    {
     "name": "stdout",
     "output_type": "stream",
     "text": [
      "поймет бывало 112 146789 0.6466196553415657\n"
     ]
    },
    {
     "name": "stderr",
     "output_type": "stream",
     "text": [
      " 57%|█████▋    | 5872/10269 [02:27<02:02, 35.88it/s]"
     ]
    },
    {
     "name": "stdout",
     "output_type": "stream",
     "text": [
      "поймет думайте 112 147659 0.6879265483612115\n"
     ]
    },
    {
     "name": "stderr",
     "output_type": "stream",
     "text": [
      " 57%|█████▋    | 5884/10269 [02:27<02:02, 35.93it/s]"
     ]
    },
    {
     "name": "stdout",
     "output_type": "stream",
     "text": [
      "поймет хотела 112 147969 0.657388771901988\n"
     ]
    },
    {
     "name": "stderr",
     "output_type": "stream",
     "text": [
      " 58%|█████▊    | 5920/10269 [02:28<02:08, 33.75it/s]"
     ]
    },
    {
     "name": "stdout",
     "output_type": "stream",
     "text": [
      "поймет поняли 112 148786 0.6484352058662369\n"
     ]
    },
    {
     "name": "stderr",
     "output_type": "stream",
     "text": [
      " 59%|█████▉    | 6097/10269 [02:33<01:47, 38.76it/s]"
     ]
    },
    {
     "name": "stdout",
     "output_type": "stream",
     "text": [
      "поймет увидит 112 152952 0.6879825949752972\n"
     ]
    },
    {
     "name": "stderr",
     "output_type": "stream",
     "text": [
      " 61%|██████    | 6261/10269 [02:38<01:45, 37.87it/s]"
     ]
    },
    {
     "name": "stdout",
     "output_type": "stream",
     "text": [
      "поймет имел 112 156708 0.6783275228210808\n"
     ]
    },
    {
     "name": "stderr",
     "output_type": "stream",
     "text": [
      " 61%|██████    | 6273/10269 [02:38<01:55, 34.47it/s]"
     ]
    },
    {
     "name": "stdout",
     "output_type": "stream",
     "text": [
      "поймет бойтесь 112 157107 0.653694920338793\n"
     ]
    },
    {
     "name": "stderr",
     "output_type": "stream",
     "text": [
      " 62%|██████▏   | 6321/10269 [02:40<02:08, 30.65it/s]"
     ]
    },
    {
     "name": "stdout",
     "output_type": "stream",
     "text": [
      "поймет хотели 112 158220 0.6087547643720369\n"
     ]
    },
    {
     "name": "stderr",
     "output_type": "stream",
     "text": [
      " 62%|██████▏   | 6337/10269 [02:40<01:54, 34.37it/s]"
     ]
    },
    {
     "name": "stdout",
     "output_type": "stream",
     "text": [
      "поймет бойся 112 158630 0.6688423545051274\n"
     ]
    },
    {
     "name": "stderr",
     "output_type": "stream",
     "text": [
      " 64%|██████▍   | 6561/10269 [02:47<01:53, 32.64it/s]"
     ]
    },
    {
     "name": "stdout",
     "output_type": "stream",
     "text": [
      "поймет беспокойтесь 112 163997 0.6685980662355117\n"
     ]
    },
    {
     "name": "stderr",
     "output_type": "stream",
     "text": [
      " 65%|██████▍   | 6674/10269 [02:50<01:44, 34.45it/s]"
     ]
    },
    {
     "name": "stdout",
     "output_type": "stream",
     "text": [
      "поймет знают 112 167240 0.7178342656794423\n"
     ]
    },
    {
     "name": "stderr",
     "output_type": "stream",
     "text": [
      " 65%|██████▌   | 6718/10269 [02:51<01:42, 34.57it/s]"
     ]
    },
    {
     "name": "stdout",
     "output_type": "stream",
     "text": [
      "поймет поверила 112 168301 0.6032525388797642\n"
     ]
    },
    {
     "name": "stderr",
     "output_type": "stream",
     "text": [
      " 66%|██████▌   | 6770/10269 [02:53<01:43, 33.82it/s]"
     ]
    },
    {
     "name": "stdout",
     "output_type": "stream",
     "text": [
      "поймет нравится 112 169731 0.6191658319033102\n"
     ]
    },
    {
     "name": "stderr",
     "output_type": "stream",
     "text": [
      " 67%|██████▋   | 6918/10269 [02:57<01:35, 35.05it/s]"
     ]
    },
    {
     "name": "stdout",
     "output_type": "stream",
     "text": [
      "поймет видали 112 173816 0.6957715443279169\n"
     ]
    },
    {
     "name": "stderr",
     "output_type": "stream",
     "text": [
      " 68%|██████▊   | 6946/10269 [02:58<01:42, 32.49it/s]"
     ]
    },
    {
     "name": "stdout",
     "output_type": "stream",
     "text": [
      "поймет беспокойся 112 174385 0.6485289583035632\n"
     ]
    },
    {
     "name": "stderr",
     "output_type": "stream",
     "text": [
      " 68%|██████▊   | 6982/10269 [02:59<01:38, 33.36it/s]"
     ]
    },
    {
     "name": "stdout",
     "output_type": "stream",
     "text": [
      "поймет посмел 112 175356 0.6278719264330339\n"
     ]
    },
    {
     "name": "stderr",
     "output_type": "stream",
     "text": [
      " 68%|██████▊   | 7002/10269 [03:00<01:36, 33.95it/s]"
     ]
    },
    {
     "name": "stdout",
     "output_type": "stream",
     "text": [
      "поймет позволит 112 175873 0.6210907898904725\n"
     ]
    },
    {
     "name": "stderr",
     "output_type": "stream",
     "text": [
      " 68%|██████▊   | 7010/10269 [03:00<01:52, 28.98it/s]"
     ]
    },
    {
     "name": "stdout",
     "output_type": "stream",
     "text": [
      "поймет успела 112 176081 0.6471948130473233\n"
     ]
    },
    {
     "name": "stderr",
     "output_type": "stream",
     "text": [
      " 69%|██████▊   | 7054/10269 [03:02<01:40, 31.97it/s]"
     ]
    },
    {
     "name": "stdout",
     "output_type": "stream",
     "text": [
      "поймет нашел 112 177330 0.6370554837793436\n"
     ]
    },
    {
     "name": "stderr",
     "output_type": "stream",
     "text": [
      " 70%|██████▉   | 7146/10269 [03:05<01:46, 29.28it/s]"
     ]
    },
    {
     "name": "stdout",
     "output_type": "stream",
     "text": [
      "поймет понимаешь 112 179161 0.6263665830134416\n"
     ]
    },
    {
     "name": "stderr",
     "output_type": "stream",
     "text": [
      " 70%|██████▉   | 7164/10269 [03:05<01:47, 28.99it/s]"
     ]
    },
    {
     "name": "stdout",
     "output_type": "stream",
     "text": [
      "поймет ел 112 179810 0.6221124364067628\n"
     ]
    },
    {
     "name": "stderr",
     "output_type": "stream",
     "text": [
      " 70%|███████   | 7193/10269 [03:06<01:48, 28.36it/s]"
     ]
    },
    {
     "name": "stdout",
     "output_type": "stream",
     "text": [
      "поймет стоит 112 180351 0.6515962900349604\n"
     ]
    },
    {
     "name": "stderr",
     "output_type": "stream",
     "text": [
      " 70%|███████   | 7222/10269 [03:07<01:40, 30.29it/s]"
     ]
    },
    {
     "name": "stdout",
     "output_type": "stream",
     "text": [
      "поймет думай 112 181152 0.6783513230018628\n"
     ]
    },
    {
     "name": "stderr",
     "output_type": "stream",
     "text": [
      " 71%|███████   | 7253/10269 [03:08<01:40, 29.97it/s]"
     ]
    },
    {
     "name": "stdout",
     "output_type": "stream",
     "text": [
      "поймет спал 112 181846 0.6680254973741772\n"
     ]
    },
    {
     "name": "stderr",
     "output_type": "stream",
     "text": [
      " 71%|███████   | 7263/10269 [03:09<01:41, 29.51it/s]"
     ]
    },
    {
     "name": "stdout",
     "output_type": "stream",
     "text": [
      "поймет знали 112 182047 0.6724431454033399\n"
     ]
    },
    {
     "name": "stderr",
     "output_type": "stream",
     "text": [
      " 71%|███████   | 7271/10269 [03:09<01:40, 29.96it/s]"
     ]
    },
    {
     "name": "stdout",
     "output_type": "stream",
     "text": [
      "поймет подозревал 112 182176 0.6461918442802227\n"
     ]
    },
    {
     "name": "stderr",
     "output_type": "stream",
     "text": [
      " 71%|███████▏  | 7340/10269 [03:11<01:44, 28.07it/s]"
     ]
    },
    {
     "name": "stdout",
     "output_type": "stream",
     "text": [
      "поймет понимал 112 183695 0.7880067498204888\n"
     ]
    },
    {
     "name": "stderr",
     "output_type": "stream",
     "text": [
      " 73%|███████▎  | 7446/10269 [03:15<01:36, 29.23it/s]"
     ]
    },
    {
     "name": "stdout",
     "output_type": "stream",
     "text": [
      "поймет замечал 112 186233 0.7346558094406089\n"
     ]
    },
    {
     "name": "stderr",
     "output_type": "stream",
     "text": [
      " 73%|███████▎  | 7458/10269 [03:16<01:41, 27.59it/s]"
     ]
    },
    {
     "name": "stdout",
     "output_type": "stream",
     "text": [
      "поймет видать 112 186498 0.6896746656975947\n",
      "поймет дает 112 186526 0.6443169325210101\n"
     ]
    },
    {
     "name": "stderr",
     "output_type": "stream",
     "text": [
      " 75%|███████▍  | 7663/10269 [03:22<01:24, 30.99it/s]"
     ]
    },
    {
     "name": "stdout",
     "output_type": "stream",
     "text": [
      "поймет ошибся 112 191770 0.6016158530254311\n"
     ]
    },
    {
     "name": "stderr",
     "output_type": "stream",
     "text": [
      " 76%|███████▌  | 7802/10269 [03:27<01:21, 30.24it/s]"
     ]
    },
    {
     "name": "stdout",
     "output_type": "stream",
     "text": [
      "поймет видит 112 194849 0.7158342715467543\n"
     ]
    },
    {
     "name": "stderr",
     "output_type": "stream",
     "text": [
      " 77%|███████▋  | 7924/10269 [03:30<01:03, 37.18it/s]"
     ]
    },
    {
     "name": "stdout",
     "output_type": "stream",
     "text": [
      "поймет верю 112 197619 0.6609970695639954\n"
     ]
    },
    {
     "name": "stderr",
     "output_type": "stream",
     "text": [
      " 79%|███████▉  | 8128/10269 [03:37<01:07, 31.57it/s]"
     ]
    },
    {
     "name": "stdout",
     "output_type": "stream",
     "text": [
      "поймет понимают 112 202514 0.6780305558654124\n"
     ]
    },
    {
     "name": "stderr",
     "output_type": "stream",
     "text": [
      " 79%|███████▉  | 8136/10269 [03:37<01:09, 30.80it/s]"
     ]
    },
    {
     "name": "stdout",
     "output_type": "stream",
     "text": [
      "поймет успели 112 202733 0.62674252054315\n"
     ]
    },
    {
     "name": "stderr",
     "output_type": "stream",
     "text": [
      " 81%|████████  | 8288/10269 [03:42<00:54, 36.30it/s]"
     ]
    },
    {
     "name": "stdout",
     "output_type": "stream",
     "text": [
      "поймет осталось 112 206523 0.6460036866783646\n"
     ]
    },
    {
     "name": "stderr",
     "output_type": "stream",
     "text": [
      " 82%|████████▏ | 8440/10269 [03:46<00:58, 31.53it/s]"
     ]
    },
    {
     "name": "stdout",
     "output_type": "stream",
     "text": [
      "поймет удалось 112 210133 0.6051899042079595\n"
     ]
    },
    {
     "name": "stderr",
     "output_type": "stream",
     "text": [
      " 83%|████████▎ | 8505/10269 [03:48<00:49, 35.46it/s]"
     ]
    },
    {
     "name": "stdout",
     "output_type": "stream",
     "text": [
      "поймет умела 112 211657 0.688336011835608\n"
     ]
    },
    {
     "name": "stderr",
     "output_type": "stream",
     "text": [
      " 83%|████████▎ | 8537/10269 [03:49<00:54, 31.68it/s]"
     ]
    },
    {
     "name": "stdout",
     "output_type": "stream",
     "text": [
      "поймет вытерпел 112 212481 0.6420263174318158\n"
     ]
    },
    {
     "name": "stderr",
     "output_type": "stream",
     "text": [
      " 83%|████████▎ | 8573/10269 [03:50<00:53, 31.92it/s]"
     ]
    },
    {
     "name": "stdout",
     "output_type": "stream",
     "text": [
      "поймет вышло 112 213220 0.6281637195996493\n"
     ]
    },
    {
     "name": "stderr",
     "output_type": "stream",
     "text": [
      " 84%|████████▍ | 8632/10269 [03:52<00:44, 36.83it/s]"
     ]
    },
    {
     "name": "stdout",
     "output_type": "stream",
     "text": [
      "поймет спеша 112 214675 0.6715371598222697\n"
     ]
    },
    {
     "name": "stderr",
     "output_type": "stream",
     "text": [
      " 85%|████████▍ | 8682/10269 [03:53<00:40, 39.13it/s]"
     ]
    },
    {
     "name": "stdout",
     "output_type": "stream",
     "text": [
      "поймет договорил 112 216124 0.6333691803964564\n"
     ]
    },
    {
     "name": "stderr",
     "output_type": "stream",
     "text": [
      " 86%|████████▌ | 8795/10269 [03:56<00:37, 39.12it/s]"
     ]
    },
    {
     "name": "stdout",
     "output_type": "stream",
     "text": [
      "поймет понравилось 112 219320 0.6389863882979087\n"
     ]
    },
    {
     "name": "stderr",
     "output_type": "stream",
     "text": [
      " 87%|████████▋ | 8913/10269 [03:59<00:34, 38.90it/s]"
     ]
    },
    {
     "name": "stdout",
     "output_type": "stream",
     "text": [
      "поймет пойдет 112 222585 0.6238418419546534\n"
     ]
    },
    {
     "name": "stderr",
     "output_type": "stream",
     "text": [
      " 87%|████████▋ | 8931/10269 [04:00<00:34, 38.84it/s]"
     ]
    },
    {
     "name": "stdout",
     "output_type": "stream",
     "text": [
      "поймет смеет 112 223162 0.6992956133130661\n"
     ]
    },
    {
     "name": "stderr",
     "output_type": "stream",
     "text": [
      " 87%|████████▋ | 8950/10269 [04:00<00:33, 39.68it/s]"
     ]
    },
    {
     "name": "stdout",
     "output_type": "stream",
     "text": [
      "поймет признает 112 223614 0.6073363655013272\n"
     ]
    },
    {
     "name": "stderr",
     "output_type": "stream",
     "text": [
      " 88%|████████▊ | 8987/10269 [04:01<00:31, 40.87it/s]"
     ]
    },
    {
     "name": "stdout",
     "output_type": "stream",
     "text": [
      "поймет сумел 112 224604 0.6341181915115283\n"
     ]
    },
    {
     "name": "stderr",
     "output_type": "stream",
     "text": [
      " 88%|████████▊ | 9047/10269 [04:02<00:29, 40.89it/s]"
     ]
    },
    {
     "name": "stdout",
     "output_type": "stream",
     "text": [
      "поймет ожидала 112 225933 0.6659365971503041\n"
     ]
    },
    {
     "name": "stderr",
     "output_type": "stream",
     "text": [
      " 89%|████████▉ | 9127/10269 [04:05<00:30, 37.83it/s]"
     ]
    },
    {
     "name": "stdout",
     "output_type": "stream",
     "text": [
      "поймет торопясь 112 227786 0.6889211435780286\n",
      "поймет простит 112 227989 0.607223845491408\n"
     ]
    },
    {
     "name": "stderr",
     "output_type": "stream",
     "text": [
      " 90%|████████▉ | 9195/10269 [04:06<00:26, 40.42it/s]"
     ]
    },
    {
     "name": "stdout",
     "output_type": "stream",
     "text": [
      "поймет заметил 112 229764 0.6336662480995296\n"
     ]
    },
    {
     "name": "stderr",
     "output_type": "stream",
     "text": [
      " 90%|████████▉ | 9210/10269 [04:07<00:26, 39.84it/s]"
     ]
    },
    {
     "name": "stdout",
     "output_type": "stream",
     "text": [
      "поймет думая 112 230022 0.612141768824552\n"
     ]
    },
    {
     "name": "stderr",
     "output_type": "stream",
     "text": [
      " 90%|████████▉ | 9218/10269 [04:07<00:28, 37.42it/s]"
     ]
    },
    {
     "name": "stdout",
     "output_type": "stream",
     "text": [
      "поймет предполагал 112 230167 0.6037386319830127\n"
     ]
    },
    {
     "name": "stderr",
     "output_type": "stream",
     "text": [
      " 90%|█████████ | 9286/10269 [04:09<00:24, 39.52it/s]"
     ]
    },
    {
     "name": "stdout",
     "output_type": "stream",
     "text": [
      "поймет переставал 112 232065 0.6523626194489469\n"
     ]
    },
    {
     "name": "stderr",
     "output_type": "stream",
     "text": [
      " 91%|█████████▏| 9388/10269 [04:11<00:21, 40.50it/s]"
     ]
    },
    {
     "name": "stdout",
     "output_type": "stream",
     "text": [
      "поймет чувствует 112 234730 0.6564980174817515\n"
     ]
    },
    {
     "name": "stderr",
     "output_type": "stream",
     "text": [
      " 92%|█████████▏| 9486/10269 [04:14<00:20, 38.51it/s]"
     ]
    },
    {
     "name": "stdout",
     "output_type": "stream",
     "text": [
      "поймет забудьте 112 236700 0.6536990397807027\n"
     ]
    },
    {
     "name": "stderr",
     "output_type": "stream",
     "text": [
      " 93%|█████████▎| 9505/10269 [04:14<00:19, 39.32it/s]"
     ]
    },
    {
     "name": "stdout",
     "output_type": "stream",
     "text": [
      "поймет сердитесь 112 237205 0.6237126049190831\n"
     ]
    },
    {
     "name": "stderr",
     "output_type": "stream",
     "text": [
      " 94%|█████████▎| 9615/10269 [04:17<00:16, 40.44it/s]"
     ]
    },
    {
     "name": "stdout",
     "output_type": "stream",
     "text": [
      "поймет виноват 112 240214 0.6138040132935233\n"
     ]
    },
    {
     "name": "stderr",
     "output_type": "stream",
     "text": [
      " 96%|█████████▌| 9812/10269 [04:22<00:11, 40.04it/s]"
     ]
    },
    {
     "name": "stdout",
     "output_type": "stream",
     "text": [
      "поймет сомневался 112 244699 0.6643141092998236\n"
     ]
    },
    {
     "name": "stderr",
     "output_type": "stream",
     "text": [
      " 97%|█████████▋| 9963/10269 [04:26<00:07, 38.29it/s]"
     ]
    },
    {
     "name": "stdout",
     "output_type": "stream",
     "text": [
      "поймет захотел 112 248240 0.6747056646665646\n"
     ]
    },
    {
     "name": "stderr",
     "output_type": "stream",
     "text": [
      " 98%|█████████▊| 10086/10269 [04:29<00:04, 39.37it/s]"
     ]
    },
    {
     "name": "stdout",
     "output_type": "stream",
     "text": [
      "поймет находил 112 251454 0.6864822046948186\n"
     ]
    },
    {
     "name": "stderr",
     "output_type": "stream",
     "text": [
      " 98%|█████████▊| 10100/10269 [04:29<00:04, 37.67it/s]"
     ]
    },
    {
     "name": "stdout",
     "output_type": "stream",
     "text": [
      "поймет мешало 112 251668 0.6103303448605266\n"
     ]
    },
    {
     "name": "stderr",
     "output_type": "stream",
     "text": [
      "100%|█████████▉| 10231/10269 [04:32<00:00, 39.94it/s]"
     ]
    },
    {
     "name": "stdout",
     "output_type": "stream",
     "text": [
      "поймет поймешь 112 254615 0.6110641548856759\n",
      "поймет бывает 112 254816 0.6195194986223486\n"
     ]
    },
    {
     "name": "stderr",
     "output_type": "stream",
     "text": [
      "100%|█████████▉| 10265/10269 [04:33<00:00, 39.47it/s]"
     ]
    },
    {
     "name": "stdout",
     "output_type": "stream",
     "text": [
      "поймет верила 112 255386 0.6700696878979665\n",
      "поймет плачь 112 255500 0.6487057094159173\n"
     ]
    },
    {
     "name": "stderr",
     "output_type": "stream",
     "text": [
      "100%|██████████| 10269/10269 [04:33<00:00, 37.48it/s]\n",
      "100%|██████████| 10268/10268 [04:23<00:00, 38.95it/s]\n",
      "  2%|▏         | 205/10267 [00:04<04:02, 41.56it/s]"
     ]
    },
    {
     "name": "stdout",
     "output_type": "stream",
     "text": [
      "рубашке сапогах 152 5215 0.6988530567979269\n"
     ]
    },
    {
     "name": "stderr",
     "output_type": "stream",
     "text": [
      "  3%|▎         | 329/10267 [00:08<04:05, 40.56it/s]"
     ]
    },
    {
     "name": "stdout",
     "output_type": "stream",
     "text": [
      "рубашке шляпе 152 8021 0.6718659490572709\n"
     ]
    },
    {
     "name": "stderr",
     "output_type": "stream",
     "text": [
      "  4%|▍         | 444/10267 [00:10<04:33, 35.89it/s]"
     ]
    },
    {
     "name": "stdout",
     "output_type": "stream",
     "text": [
      "рубашке воображении 152 10857 0.6029021015037204\n"
     ]
    },
    {
     "name": "stderr",
     "output_type": "stream",
     "text": [
      " 12%|█▏        | 1258/10267 [00:30<03:37, 41.38it/s]"
     ]
    },
    {
     "name": "stdout",
     "output_type": "stream",
     "text": [
      "рубашке губернии 152 31163 0.6611279135631706\n"
     ]
    },
    {
     "name": "stderr",
     "output_type": "stream",
     "text": [
      " 15%|█▌        | 1552/10267 [00:37<03:32, 41.09it/s]"
     ]
    },
    {
     "name": "stdout",
     "output_type": "stream",
     "text": [
      "рубашке сюртуке 152 39180 0.7066595232924903\n"
     ]
    },
    {
     "name": "stderr",
     "output_type": "stream",
     "text": [
      " 16%|█▌        | 1592/10267 [00:38<03:29, 41.33it/s]"
     ]
    },
    {
     "name": "stdout",
     "output_type": "stream",
     "text": [
      "рубашке часов 152 40057 0.6113968314346157\n"
     ]
    },
    {
     "name": "stderr",
     "output_type": "stream",
     "text": [
      " 18%|█▊        | 1881/10267 [00:45<03:29, 40.04it/s]"
     ]
    },
    {
     "name": "stdout",
     "output_type": "stream",
     "text": [
      "рубашке мундире 152 47187 0.6939376557208905\n"
     ]
    },
    {
     "name": "stderr",
     "output_type": "stream",
     "text": [
      " 25%|██▍       | 2544/10267 [01:02<03:06, 41.46it/s]"
     ]
    },
    {
     "name": "stdout",
     "output_type": "stream",
     "text": [
      "рубашке часу 152 62170 0.6772073890324186\n"
     ]
    },
    {
     "name": "stderr",
     "output_type": "stream",
     "text": [
      " 26%|██▌       | 2639/10267 [01:04<03:04, 41.40it/s]"
     ]
    },
    {
     "name": "stdout",
     "output_type": "stream",
     "text": [
      "рубашке погоду 152 64769 0.6374297381791034\n"
     ]
    },
    {
     "name": "stderr",
     "output_type": "stream",
     "text": [
      " 28%|██▊       | 2884/10267 [01:10<02:58, 41.43it/s]"
     ]
    },
    {
     "name": "stdout",
     "output_type": "stream",
     "text": [
      "рубашке шапке 152 71709 0.6378525380331964\n"
     ]
    },
    {
     "name": "stderr",
     "output_type": "stream",
     "text": [
      " 31%|███       | 3154/10267 [01:17<02:51, 41.48it/s]"
     ]
    },
    {
     "name": "stdout",
     "output_type": "stream",
     "text": [
      "рубашке смысле 152 77791 0.704757382012252\n"
     ]
    },
    {
     "name": "stderr",
     "output_type": "stream",
     "text": [
      " 35%|███▌      | 3634/10267 [01:28<02:39, 41.46it/s]"
     ]
    },
    {
     "name": "stdout",
     "output_type": "stream",
     "text": [
      "рубашке губернию 152 90814 0.686513949801313\n"
     ]
    },
    {
     "name": "stderr",
     "output_type": "stream",
     "text": [
      " 47%|████▋     | 4787/10267 [01:57<02:13, 41.11it/s]"
     ]
    },
    {
     "name": "stdout",
     "output_type": "stream",
     "text": [
      "рубашке волнении 152 119617 0.6863514504109572\n"
     ]
    },
    {
     "name": "stderr",
     "output_type": "stream",
     "text": [
      " 55%|█████▍    | 5619/10267 [02:17<01:52, 41.28it/s]"
     ]
    },
    {
     "name": "stdout",
     "output_type": "stream",
     "text": [
      "рубашке годах 152 141863 0.6150798034992752\n"
     ]
    },
    {
     "name": "stderr",
     "output_type": "stream",
     "text": [
      " 56%|█████▋    | 5791/10267 [02:22<01:52, 39.80it/s]"
     ]
    },
    {
     "name": "stdout",
     "output_type": "stream",
     "text": [
      "рубашке комнатах 152 146110 0.6292491902890353\n",
      "рубашке годы 152 146158 0.64903246435861\n"
     ]
    },
    {
     "name": "stderr",
     "output_type": "stream",
     "text": [
      " 59%|█████▉    | 6054/10267 [02:28<01:46, 39.55it/s]"
     ]
    },
    {
     "name": "stdout",
     "output_type": "stream",
     "text": [
      "рубашке местах 152 151886 0.6775079014150049\n"
     ]
    },
    {
     "name": "stderr",
     "output_type": "stream",
     "text": [
      " 60%|█████▉    | 6158/10267 [02:31<01:39, 41.45it/s]"
     ]
    },
    {
     "name": "stdout",
     "output_type": "stream",
     "text": [
      "рубашке платье 152 154485 0.6632196499958449\n"
     ]
    },
    {
     "name": "stderr",
     "output_type": "stream",
     "text": [
      " 60%|██████    | 6198/10267 [02:32<01:58, 34.24it/s]"
     ]
    },
    {
     "name": "stdout",
     "output_type": "stream",
     "text": [
      "рубашке позе 152 155407 0.6688510976348727\n"
     ]
    },
    {
     "name": "stderr",
     "output_type": "stream",
     "text": [
      " 61%|██████    | 6247/10267 [02:33<01:38, 40.88it/s]"
     ]
    },
    {
     "name": "stdout",
     "output_type": "stream",
     "text": [
      "рубашке случаях 152 156561 0.7025250740068264\n"
     ]
    },
    {
     "name": "stderr",
     "output_type": "stream",
     "text": [
      " 61%|██████    | 6262/10267 [02:33<01:38, 40.73it/s]"
     ]
    },
    {
     "name": "stdout",
     "output_type": "stream",
     "text": [
      "рубашке словах 152 156826 0.6273238840409168\n"
     ]
    },
    {
     "name": "stderr",
     "output_type": "stream",
     "text": [
      " 63%|██████▎   | 6459/10267 [02:38<01:32, 41.38it/s]"
     ]
    },
    {
     "name": "stdout",
     "output_type": "stream",
     "text": [
      "рубашке городах 152 161580 0.6039939789582522\n"
     ]
    },
    {
     "name": "stderr",
     "output_type": "stream",
     "text": [
      " 64%|██████▎   | 6534/10267 [02:40<01:29, 41.79it/s]"
     ]
    },
    {
     "name": "stdout",
     "output_type": "stream",
     "text": [
      "рубашке кафтане 152 163437 0.7019177750514041\n"
     ]
    },
    {
     "name": "stderr",
     "output_type": "stream",
     "text": [
      " 68%|██████▊   | 6944/10267 [02:50<01:19, 41.73it/s]"
     ]
    },
    {
     "name": "stdout",
     "output_type": "stream",
     "text": [
      "рубашке костюме 152 174362 0.6468894146351861\n"
     ]
    },
    {
     "name": "stderr",
     "output_type": "stream",
     "text": [
      " 69%|██████▉   | 7077/10267 [02:53<01:17, 41.28it/s]"
     ]
    },
    {
     "name": "stdout",
     "output_type": "stream",
     "text": [
      "рубашке рубахе 152 177848 0.8115215102055977\n"
     ]
    },
    {
     "name": "stderr",
     "output_type": "stream",
     "text": [
      " 74%|███████▍  | 7604/10267 [03:06<01:10, 37.77it/s]"
     ]
    },
    {
     "name": "stdout",
     "output_type": "stream",
     "text": [
      "рубашке одежде 152 190407 0.6609117523109266\n"
     ]
    },
    {
     "name": "stderr",
     "output_type": "stream",
     "text": [
      " 77%|███████▋  | 7864/10267 [03:12<00:58, 41.42it/s]"
     ]
    },
    {
     "name": "stdout",
     "output_type": "stream",
     "text": [
      "рубашке комнатке 152 196292 0.6333243948361126\n"
     ]
    },
    {
     "name": "stderr",
     "output_type": "stream",
     "text": [
      " 80%|███████▉  | 8194/10267 [03:21<00:57, 36.01it/s]"
     ]
    },
    {
     "name": "stdout",
     "output_type": "stream",
     "text": [
      "рубашке момент 152 204027 0.6079384808140937\n"
     ]
    },
    {
     "name": "stderr",
     "output_type": "stream",
     "text": [
      " 82%|████████▏ | 8437/10267 [03:27<00:44, 41.22it/s]"
     ]
    },
    {
     "name": "stdout",
     "output_type": "stream",
     "text": [
      "рубашке роде 152 210123 0.6659767292120524\n"
     ]
    },
    {
     "name": "stderr",
     "output_type": "stream",
     "text": [
      " 87%|████████▋ | 8906/10267 [03:39<00:33, 40.43it/s]"
     ]
    },
    {
     "name": "stdout",
     "output_type": "stream",
     "text": [
      "рубашке летах 152 222480 0.621377156455111\n"
     ]
    },
    {
     "name": "stderr",
     "output_type": "stream",
     "text": [
      " 93%|█████████▎| 9501/10267 [03:53<00:18, 41.51it/s]"
     ]
    },
    {
     "name": "stdout",
     "output_type": "stream",
     "text": [
      "рубашке положении 152 237040 0.7155415006362952\n"
     ]
    },
    {
     "name": "stderr",
     "output_type": "stream",
     "text": [
      " 93%|█████████▎| 9536/10267 [03:54<00:17, 41.54it/s]"
     ]
    },
    {
     "name": "stdout",
     "output_type": "stream",
     "text": [
      "рубашке году 152 238219 0.6079215590397882\n"
     ]
    },
    {
     "name": "stderr",
     "output_type": "stream",
     "text": [
      " 94%|█████████▍| 9667/10267 [03:57<00:14, 41.19it/s]"
     ]
    },
    {
     "name": "stdout",
     "output_type": "stream",
     "text": [
      "рубашке месяце 152 241656 0.6628439294790781\n"
     ]
    },
    {
     "name": "stderr",
     "output_type": "stream",
     "text": [
      " 95%|█████████▍| 9745/10267 [03:59<00:12, 41.47it/s]"
     ]
    },
    {
     "name": "stdout",
     "output_type": "stream",
     "text": [
      "рубашке дни 152 243087 0.6525992911574124\n"
     ]
    },
    {
     "name": "stderr",
     "output_type": "stream",
     "text": [
      " 99%|█████████▉| 10180/10267 [04:10<00:02, 41.46it/s]"
     ]
    },
    {
     "name": "stdout",
     "output_type": "stream",
     "text": [
      "рубашке этаже 152 253425 0.661747959624077\n"
     ]
    },
    {
     "name": "stderr",
     "output_type": "stream",
     "text": [
      "100%|██████████| 10267/10267 [04:12<00:00, 40.67it/s]\n",
      "100%|██████████| 10266/10266 [04:22<00:00, 39.15it/s]\n",
      "  2%|▏         | 188/10265 [00:05<04:26, 37.86it/s]"
     ]
    },
    {
     "name": "stdout",
     "output_type": "stream",
     "text": [
      "застал написал 186 4709 0.6318528326110826\n"
     ]
    },
    {
     "name": "stderr",
     "output_type": "stream",
     "text": [
      "  3%|▎         | 276/10265 [00:07<04:18, 38.62it/s]"
     ]
    },
    {
     "name": "stdout",
     "output_type": "stream",
     "text": [
      "застал оставил 186 6710 0.6920998541980073\n"
     ]
    },
    {
     "name": "stderr",
     "output_type": "stream",
     "text": [
      "  4%|▎         | 382/10265 [00:10<04:14, 38.86it/s]"
     ]
    },
    {
     "name": "stdout",
     "output_type": "stream",
     "text": [
      "застал ждал 186 9348 0.6248871217764874\n"
     ]
    },
    {
     "name": "stderr",
     "output_type": "stream",
     "text": [
      "  5%|▍         | 463/10265 [00:12<04:21, 37.49it/s]"
     ]
    },
    {
     "name": "stdout",
     "output_type": "stream",
     "text": [
      "застал приехал 186 11585 0.608794152767066\n"
     ]
    },
    {
     "name": "stderr",
     "output_type": "stream",
     "text": [
      " 13%|█▎        | 1304/10265 [00:34<03:39, 40.91it/s]"
     ]
    },
    {
     "name": "stdout",
     "output_type": "stream",
     "text": [
      "застал испытывал 186 32478 0.6214852837304566\n"
     ]
    },
    {
     "name": "stderr",
     "output_type": "stream",
     "text": [
      " 13%|█▎        | 1324/10265 [00:34<03:44, 39.91it/s]"
     ]
    },
    {
     "name": "stdout",
     "output_type": "stream",
     "text": [
      "застал бывал 186 33048 0.6167254126191931\n"
     ]
    },
    {
     "name": "stderr",
     "output_type": "stream",
     "text": [
      " 14%|█▍        | 1453/10265 [00:37<03:33, 41.25it/s]"
     ]
    },
    {
     "name": "stdout",
     "output_type": "stream",
     "text": [
      "застал слушал 186 36726 0.6683341044628998\n"
     ]
    },
    {
     "name": "stderr",
     "output_type": "stream",
     "text": [
      " 14%|█▍        | 1468/10265 [00:38<03:36, 40.72it/s]"
     ]
    },
    {
     "name": "stdout",
     "output_type": "stream",
     "text": [
      "застал писал 186 37166 0.6090735966311227\n"
     ]
    },
    {
     "name": "stderr",
     "output_type": "stream",
     "text": [
      " 15%|█▍        | 1528/10265 [00:39<03:34, 40.80it/s]"
     ]
    },
    {
     "name": "stdout",
     "output_type": "stream",
     "text": [
      "застал приходил 186 38720 0.6067753018672819\n"
     ]
    },
    {
     "name": "stderr",
     "output_type": "stream",
     "text": [
      " 16%|█▌        | 1603/10265 [00:41<04:17, 33.66it/s]"
     ]
    },
    {
     "name": "stdout",
     "output_type": "stream",
     "text": [
      "застал провел 186 40468 0.6155966052872746\n"
     ]
    },
    {
     "name": "stderr",
     "output_type": "stream",
     "text": [
      " 16%|█▋        | 1671/10265 [00:43<03:28, 41.16it/s]"
     ]
    },
    {
     "name": "stdout",
     "output_type": "stream",
     "text": [
      "застал убил 186 41936 0.6049723433490791\n"
     ]
    },
    {
     "name": "stderr",
     "output_type": "stream",
     "text": [
      " 28%|██▊       | 2867/10265 [01:12<03:24, 36.19it/s]"
     ]
    },
    {
     "name": "stdout",
     "output_type": "stream",
     "text": [
      "застал бросил 186 71358 0.6069325724411444\n"
     ]
    },
    {
     "name": "stderr",
     "output_type": "stream",
     "text": [
      " 29%|██▉       | 2977/10265 [01:15<02:57, 40.96it/s]"
     ]
    },
    {
     "name": "stdout",
     "output_type": "stream",
     "text": [
      "застал получил 186 73822 0.6338186858629875\n"
     ]
    },
    {
     "name": "stderr",
     "output_type": "stream",
     "text": [
      " 30%|███       | 3107/10265 [01:18<02:54, 40.93it/s]"
     ]
    },
    {
     "name": "stdout",
     "output_type": "stream",
     "text": [
      "застал искал 186 76740 0.6730533491574261\n"
     ]
    },
    {
     "name": "stderr",
     "output_type": "stream",
     "text": [
      " 34%|███▎      | 3446/10265 [01:27<03:17, 34.61it/s]"
     ]
    },
    {
     "name": "stdout",
     "output_type": "stream",
     "text": [
      "застал испытал 186 85144 0.6106174542642225\n",
      "застал просил 186 85217 0.630352726516017\n"
     ]
    },
    {
     "name": "stderr",
     "output_type": "stream",
     "text": [
      " 42%|████▏     | 4264/10265 [01:47<02:28, 40.37it/s]"
     ]
    },
    {
     "name": "stdout",
     "output_type": "stream",
     "text": [
      "застал принял 186 106829 0.6904090533859001\n"
     ]
    },
    {
     "name": "stderr",
     "output_type": "stream",
     "text": [
      " 42%|████▏     | 4342/10265 [01:49<02:31, 39.05it/s]"
     ]
    },
    {
     "name": "stdout",
     "output_type": "stream",
     "text": [
      "застал увидел 186 108938 0.6160726096373437\n"
     ]
    },
    {
     "name": "stderr",
     "output_type": "stream",
     "text": [
      " 45%|████▍     | 4599/10265 [01:56<02:16, 41.40it/s]"
     ]
    },
    {
     "name": "stdout",
     "output_type": "stream",
     "text": [
      "застал прочел 186 114883 0.6399704927977893\n"
     ]
    },
    {
     "name": "stderr",
     "output_type": "stream",
     "text": [
      " 49%|████▉     | 5051/10265 [02:07<02:07, 40.87it/s]"
     ]
    },
    {
     "name": "stdout",
     "output_type": "stream",
     "text": [
      "застал звал 186 126191 0.6165759087096706\n"
     ]
    },
    {
     "name": "stderr",
     "output_type": "stream",
     "text": [
      " 50%|████▉     | 5111/10265 [02:08<02:06, 40.80it/s]"
     ]
    },
    {
     "name": "stdout",
     "output_type": "stream",
     "text": [
      "застал намерен 186 127653 0.6246600707118677\n"
     ]
    },
    {
     "name": "stderr",
     "output_type": "stream",
     "text": [
      " 51%|█████     | 5256/10265 [02:12<02:01, 41.20it/s]"
     ]
    },
    {
     "name": "stdout",
     "output_type": "stream",
     "text": [
      "застал делал 186 131401 0.6088930256135708\n"
     ]
    },
    {
     "name": "stderr",
     "output_type": "stream",
     "text": [
      " 52%|█████▏    | 5345/10265 [02:14<02:29, 33.00it/s]"
     ]
    },
    {
     "name": "stdout",
     "output_type": "stream",
     "text": [
      "застал увидал 186 133932 0.6292200653514358\n"
     ]
    },
    {
     "name": "stderr",
     "output_type": "stream",
     "text": [
      " 57%|█████▋    | 5839/10265 [02:27<01:47, 41.08it/s]"
     ]
    },
    {
     "name": "stdout",
     "output_type": "stream",
     "text": [
      "застал брал 186 147044 0.6579013227249378\n"
     ]
    },
    {
     "name": "stderr",
     "output_type": "stream",
     "text": [
      " 57%|█████▋    | 5859/10265 [02:27<02:04, 35.41it/s]"
     ]
    },
    {
     "name": "stdout",
     "output_type": "stream",
     "text": [
      "застал встретил 186 147359 0.7630382063557237\n"
     ]
    },
    {
     "name": "stderr",
     "output_type": "stream",
     "text": [
      " 58%|█████▊    | 5996/10265 [02:31<01:53, 37.48it/s]"
     ]
    },
    {
     "name": "stdout",
     "output_type": "stream",
     "text": [
      "застал проводил 186 150922 0.6095005776933271\n"
     ]
    },
    {
     "name": "stderr",
     "output_type": "stream",
     "text": [
      " 58%|█████▊    | 6004/10265 [02:31<02:06, 33.70it/s]"
     ]
    },
    {
     "name": "stdout",
     "output_type": "stream",
     "text": [
      "застал шел 186 151044 0.6264819005191878\n"
     ]
    },
    {
     "name": "stderr",
     "output_type": "stream",
     "text": [
      " 61%|██████    | 6267/10265 [02:37<01:37, 41.04it/s]"
     ]
    },
    {
     "name": "stdout",
     "output_type": "stream",
     "text": [
      "застал считал 186 157023 0.6202610899526764\n"
     ]
    },
    {
     "name": "stderr",
     "output_type": "stream",
     "text": [
      " 63%|██████▎   | 6482/10265 [02:43<01:32, 40.76it/s]"
     ]
    },
    {
     "name": "stdout",
     "output_type": "stream",
     "text": [
      "застал забыл 186 162237 0.6085356316774381\n"
     ]
    },
    {
     "name": "stderr",
     "output_type": "stream",
     "text": [
      " 64%|██████▎   | 6537/10265 [02:44<01:30, 41.08it/s]"
     ]
    },
    {
     "name": "stdout",
     "output_type": "stream",
     "text": [
      "застал пойду 186 163562 0.617674361144848\n"
     ]
    },
    {
     "name": "stderr",
     "output_type": "stream",
     "text": [
      " 66%|██████▌   | 6757/10265 [02:50<01:27, 40.28it/s]"
     ]
    },
    {
     "name": "stdout",
     "output_type": "stream",
     "text": [
      "застал ехал 186 169430 0.6073785221553385\n"
     ]
    },
    {
     "name": "stderr",
     "output_type": "stream",
     "text": [
      " 69%|██████▊   | 7052/10265 [02:57<01:20, 40.07it/s]"
     ]
    },
    {
     "name": "stdout",
     "output_type": "stream",
     "text": [
      "застал нашел 186 177330 0.7593550063049556\n"
     ]
    },
    {
     "name": "stderr",
     "output_type": "stream",
     "text": [
      " 69%|██████▉   | 7107/10265 [02:58<01:18, 40.38it/s]"
     ]
    },
    {
     "name": "stdout",
     "output_type": "stream",
     "text": [
      "застал жил 186 178476 0.6657973293010381\n"
     ]
    },
    {
     "name": "stderr",
     "output_type": "stream",
     "text": [
      " 70%|███████   | 7196/10265 [03:00<01:15, 40.77it/s]"
     ]
    },
    {
     "name": "stdout",
     "output_type": "stream",
     "text": [
      "застал остался 186 180501 0.6005810166129802\n"
     ]
    },
    {
     "name": "stderr",
     "output_type": "stream",
     "text": [
      " 71%|███████   | 7251/10265 [03:02<01:13, 40.90it/s]"
     ]
    },
    {
     "name": "stdout",
     "output_type": "stream",
     "text": [
      "застал спал 186 181846 0.6258121016124046\n"
     ]
    },
    {
     "name": "stderr",
     "output_type": "stream",
     "text": [
      " 72%|███████▏  | 7396/10265 [03:05<01:09, 41.14it/s]"
     ]
    },
    {
     "name": "stdout",
     "output_type": "stream",
     "text": [
      "застал принимал 186 185142 0.6172089710449756\n"
     ]
    },
    {
     "name": "stderr",
     "output_type": "stream",
     "text": [
      " 74%|███████▎  | 7551/10265 [03:09<01:07, 40.28it/s]"
     ]
    },
    {
     "name": "stdout",
     "output_type": "stream",
     "text": [
      "застал встречал 186 188719 0.6741269536245506\n"
     ]
    },
    {
     "name": "stderr",
     "output_type": "stream",
     "text": [
      " 75%|███████▍  | 7657/10265 [03:12<01:12, 35.94it/s]"
     ]
    },
    {
     "name": "stdout",
     "output_type": "stream",
     "text": [
      "застал ошибся 186 191770 0.6129639964256611\n"
     ]
    },
    {
     "name": "stderr",
     "output_type": "stream",
     "text": [
      " 75%|███████▍  | 7673/10265 [03:12<01:10, 36.57it/s]"
     ]
    },
    {
     "name": "stdout",
     "output_type": "stream",
     "text": [
      "застал боюсь 186 192013 0.602218691621973\n"
     ]
    },
    {
     "name": "stderr",
     "output_type": "stream",
     "text": [
      " 81%|████████  | 8279/10265 [03:28<00:55, 35.77it/s]"
     ]
    },
    {
     "name": "stdout",
     "output_type": "stream",
     "text": [
      "застал назвал 186 206371 0.6058175552244129\n"
     ]
    },
    {
     "name": "stderr",
     "output_type": "stream",
     "text": [
      " 85%|████████▍ | 8693/10265 [03:38<00:38, 41.12it/s]"
     ]
    },
    {
     "name": "stdout",
     "output_type": "stream",
     "text": [
      "застал считаю 186 216567 0.6006117852803254\n"
     ]
    },
    {
     "name": "stderr",
     "output_type": "stream",
     "text": [
      " 93%|█████████▎| 9542/10265 [03:59<00:19, 36.68it/s]"
     ]
    },
    {
     "name": "stdout",
     "output_type": "stream",
     "text": [
      "застал боялся 186 238288 0.6670593219810652\n"
     ]
    },
    {
     "name": "stderr",
     "output_type": "stream",
     "text": [
      " 93%|█████████▎| 9571/10265 [04:00<00:17, 38.85it/s]"
     ]
    },
    {
     "name": "stdout",
     "output_type": "stream",
     "text": [
      "застал решился 186 239037 0.6998834086385772\n"
     ]
    },
    {
     "name": "stderr",
     "output_type": "stream",
     "text": [
      " 98%|█████████▊| 10036/10265 [04:12<00:06, 37.54it/s]"
     ]
    },
    {
     "name": "stdout",
     "output_type": "stream",
     "text": [
      "застал читал 186 250169 0.6830204123796233\n"
     ]
    },
    {
     "name": "stderr",
     "output_type": "stream",
     "text": [
      " 98%|█████████▊| 10084/10265 [04:13<00:04, 38.12it/s]"
     ]
    },
    {
     "name": "stdout",
     "output_type": "stream",
     "text": [
      "застал находил 186 251454 0.6468430261438644\n"
     ]
    },
    {
     "name": "stderr",
     "output_type": "stream",
     "text": [
      "100%|██████████| 10265/10265 [04:17<00:00, 39.80it/s]\n",
      "  4%|▎         | 362/10264 [00:08<04:12, 39.22it/s]"
     ]
    },
    {
     "name": "stdout",
     "output_type": "stream",
     "text": [
      "скажете чувствуете 277 8845 0.6448353130703204\n"
     ]
    },
    {
     "name": "stderr",
     "output_type": "stream",
     "text": [
      "  4%|▎         | 379/10264 [00:09<04:20, 37.89it/s]"
     ]
    },
    {
     "name": "stdout",
     "output_type": "stream",
     "text": [
      "скажете живете 277 9400 0.6202964328497362\n"
     ]
    },
    {
     "name": "stderr",
     "output_type": "stream",
     "text": [
      "  5%|▍         | 493/10264 [00:12<05:16, 30.90it/s]"
     ]
    },
    {
     "name": "stdout",
     "output_type": "stream",
     "text": [
      "скажете едете 277 12449 0.6263870528556285\n"
     ]
    },
    {
     "name": "stderr",
     "output_type": "stream",
     "text": [
      "  7%|▋         | 753/10264 [00:19<03:50, 41.26it/s]"
     ]
    },
    {
     "name": "stdout",
     "output_type": "stream",
     "text": [
      "скажете сделали 277 18935 0.6482318936635332\n"
     ]
    },
    {
     "name": "stderr",
     "output_type": "stream",
     "text": [
      " 13%|█▎        | 1342/10264 [00:33<03:36, 41.15it/s]"
     ]
    },
    {
     "name": "stdout",
     "output_type": "stream",
     "text": [
      "скажете говорите 277 33523 0.8179843825973735\n"
     ]
    },
    {
     "name": "stderr",
     "output_type": "stream",
     "text": [
      " 18%|█▊        | 1852/10264 [00:46<03:35, 39.02it/s]"
     ]
    },
    {
     "name": "stdout",
     "output_type": "stream",
     "text": [
      "скажете увидите 277 46486 0.678568507525281\n"
     ]
    },
    {
     "name": "stderr",
     "output_type": "stream",
     "text": [
      " 20%|██        | 2075/10264 [00:51<03:29, 39.12it/s]"
     ]
    },
    {
     "name": "stdout",
     "output_type": "stream",
     "text": [
      "скажете можете 277 51856 0.7207702717907124\n"
     ]
    },
    {
     "name": "stderr",
     "output_type": "stream",
     "text": [
      " 21%|██▏       | 2187/10264 [00:55<04:10, 32.21it/s]"
     ]
    },
    {
     "name": "stdout",
     "output_type": "stream",
     "text": [
      "скажете заметили 277 54279 0.6081007624244718\n"
     ]
    },
    {
     "name": "stderr",
     "output_type": "stream",
     "text": [
      " 25%|██▍       | 2553/10264 [1:24:59<06:19, 20.31it/s]     "
     ]
    },
    {
     "name": "stdout",
     "output_type": "stream",
     "text": [
      "скажете слышали 277 62576 0.6318929435492482\n"
     ]
    },
    {
     "name": "stderr",
     "output_type": "stream",
     "text": [
      " 25%|██▌       | 2617/10264 [1:25:02<04:40, 27.28it/s]"
     ]
    },
    {
     "name": "stdout",
     "output_type": "stream",
     "text": [
      "скажете подумайте 277 64227 0.6242398956740215\n"
     ]
    },
    {
     "name": "stderr",
     "output_type": "stream",
     "text": [
      " 28%|██▊       | 2903/10264 [1:25:12<04:36, 26.58it/s]"
     ]
    },
    {
     "name": "stdout",
     "output_type": "stream",
     "text": [
      "скажете поймете 277 72144 0.709885859839701\n"
     ]
    },
    {
     "name": "stderr",
     "output_type": "stream",
     "text": [
      " 35%|███▍      | 3556/10264 [1:25:30<02:52, 38.86it/s]"
     ]
    },
    {
     "name": "stdout",
     "output_type": "stream",
     "text": [
      "скажете считаете 277 88647 0.6053417572119209\n"
     ]
    },
    {
     "name": "stderr",
     "output_type": "stream",
     "text": [
      " 36%|███▌      | 3718/10264 [1:25:35<02:49, 38.54it/s]"
     ]
    },
    {
     "name": "stdout",
     "output_type": "stream",
     "text": [
      "скажете смеетесь 277 92406 0.6878892854319674\n"
     ]
    },
    {
     "name": "stderr",
     "output_type": "stream",
     "text": [
      " 39%|███▊      | 3957/10264 [1:25:41<02:40, 39.23it/s]"
     ]
    },
    {
     "name": "stdout",
     "output_type": "stream",
     "text": [
      "скажете правы 277 98576 0.6421237967934784\n"
     ]
    },
    {
     "name": "stderr",
     "output_type": "stream",
     "text": [
      " 40%|████      | 4125/10264 [1:25:45<02:33, 39.93it/s]"
     ]
    },
    {
     "name": "stdout",
     "output_type": "stream",
     "text": [
      "скажете спрашиваете 277 103123 0.6750097303138295\n"
     ]
    },
    {
     "name": "stderr",
     "output_type": "stream",
     "text": [
      " 54%|█████▍    | 5575/10264 [1:26:30<02:09, 36.16it/s]"
     ]
    },
    {
     "name": "stdout",
     "output_type": "stream",
     "text": [
      "скажете будете 277 140484 0.7462854887830698\n"
     ]
    },
    {
     "name": "stderr",
     "output_type": "stream",
     "text": [
      " 58%|█████▊    | 5914/10264 [1:26:39<02:02, 35.61it/s]"
     ]
    },
    {
     "name": "stdout",
     "output_type": "stream",
     "text": [
      "скажете полагаете 277 148737 0.6568662476671989\n",
      "скажете поняли 277 148786 0.6061557283304602\n"
     ]
    },
    {
     "name": "stderr",
     "output_type": "stream",
     "text": [
      " 59%|█████▉    | 6075/10264 [1:26:43<01:50, 38.05it/s]"
     ]
    },
    {
     "name": "stdout",
     "output_type": "stream",
     "text": [
      "скажете сделаете 277 152575 0.6490629775557041\n"
     ]
    },
    {
     "name": "stderr",
     "output_type": "stream",
     "text": [
      " 60%|█████▉    | 6111/10264 [1:26:44<01:53, 36.66it/s]"
     ]
    },
    {
     "name": "stdout",
     "output_type": "stream",
     "text": [
      "скажете видели 277 153517 0.6136641744386375\n"
     ]
    },
    {
     "name": "stderr",
     "output_type": "stream",
     "text": [
      " 60%|██████    | 6172/10264 [1:26:46<01:45, 38.63it/s]"
     ]
    },
    {
     "name": "stdout",
     "output_type": "stream",
     "text": [
      "скажете делаете 277 154859 0.7169481328505657\n"
     ]
    },
    {
     "name": "stderr",
     "output_type": "stream",
     "text": [
      " 61%|██████    | 6241/10264 [1:26:48<01:55, 34.98it/s]"
     ]
    },
    {
     "name": "stdout",
     "output_type": "stream",
     "text": [
      "скажете думаете 277 156425 0.7266944886970897\n",
      "скажете думали 277 156513 0.6641294714759852\n"
     ]
    },
    {
     "name": "stderr",
     "output_type": "stream",
     "text": [
      " 62%|██████▏   | 6338/10264 [1:26:51<01:59, 32.80it/s]"
     ]
    },
    {
     "name": "stdout",
     "output_type": "stream",
     "text": [
      "скажете любите 277 158915 0.6809607793041167\n"
     ]
    },
    {
     "name": "stderr",
     "output_type": "stream",
     "text": [
      " 66%|██████▌   | 6764/10264 [1:27:03<01:35, 36.63it/s]"
     ]
    },
    {
     "name": "stdout",
     "output_type": "stream",
     "text": [
      "скажете имеете 277 169587 0.6766463787060752\n"
     ]
    },
    {
     "name": "stderr",
     "output_type": "stream",
     "text": [
      " 68%|██████▊   | 6930/10264 [1:27:08<01:43, 32.20it/s]"
     ]
    },
    {
     "name": "stdout",
     "output_type": "stream",
     "text": [
      "скажете найдете 277 174263 0.6431590299400127\n"
     ]
    },
    {
     "name": "stderr",
     "output_type": "stream",
     "text": [
      " 71%|███████   | 7258/10264 [1:27:17<01:24, 35.67it/s]"
     ]
    },
    {
     "name": "stdout",
     "output_type": "stream",
     "text": [
      "скажете знали 277 182047 0.6337534772197831\n"
     ]
    },
    {
     "name": "stderr",
     "output_type": "stream",
     "text": [
      " 75%|███████▌  | 7730/10264 [1:27:40<01:51, 22.73it/s]"
     ]
    },
    {
     "name": "stdout",
     "output_type": "stream",
     "text": [
      "скажете хотите 277 193230 0.7226740138957481\n"
     ]
    },
    {
     "name": "stderr",
     "output_type": "stream",
     "text": [
      " 82%|████████▏ | 8367/10264 [1:28:04<00:55, 33.91it/s]"
     ]
    },
    {
     "name": "stdout",
     "output_type": "stream",
     "text": [
      "скажете сказали 277 208520 0.7564063108363978\n"
     ]
    },
    {
     "name": "stderr",
     "output_type": "stream",
     "text": [
      " 93%|█████████▎| 9586/10264 [1:28:36<00:16, 41.82it/s]"
     ]
    },
    {
     "name": "stdout",
     "output_type": "stream",
     "text": [
      "скажете забыли 277 239549 0.6309858902634191\n"
     ]
    },
    {
     "name": "stderr",
     "output_type": "stream",
     "text": [
      " 94%|█████████▍| 9685/10264 [1:28:39<00:13, 41.52it/s]"
     ]
    },
    {
     "name": "stdout",
     "output_type": "stream",
     "text": [
      "скажете сами 277 242058 0.6506215728190748\n"
     ]
    },
    {
     "name": "stderr",
     "output_type": "stream",
     "text": [
      " 96%|█████████▌| 9868/10264 [1:28:43<00:09, 41.41it/s]"
     ]
    },
    {
     "name": "stdout",
     "output_type": "stream",
     "text": [
      "скажете боитесь 277 246183 0.6986286961123367\n"
     ]
    },
    {
     "name": "stderr",
     "output_type": "stream",
     "text": [
      " 97%|█████████▋| 9907/10264 [1:28:44<00:08, 41.88it/s]"
     ]
    },
    {
     "name": "stdout",
     "output_type": "stream",
     "text": [
      "скажете понимаете 277 247055 0.7499997666861109\n"
     ]
    },
    {
     "name": "stderr",
     "output_type": "stream",
     "text": [
      "100%|██████████| 10264/10264 [1:28:53<00:00,  1.92it/s]\n",
      "100%|██████████| 10263/10263 [04:38<00:00, 36.85it/s]\n",
      " 12%|█▏        | 1218/10262 [00:44<05:27, 27.58it/s]\n"
     ]
    },
    {
     "ename": "KeyboardInterrupt",
     "evalue": "",
     "output_type": "error",
     "traceback": [
      "\u001b[1;31m---------------------------------------------------------------------------\u001b[0m",
      "\u001b[1;31mKeyboardInterrupt\u001b[0m                         Traceback (most recent call last)",
      "\u001b[1;32mC:\\Users\\CA81~1\\AppData\\Local\\Temp/ipykernel_26556/2826167119.py\u001b[0m in \u001b[0;36m<module>\u001b[1;34m\u001b[0m\n\u001b[0;32m     32\u001b[0m                 \u001b[0mjj\u001b[0m \u001b[1;33m=\u001b[0m \u001b[0mfrequent_words_ids\u001b[0m\u001b[1;33m[\u001b[0m\u001b[0mj\u001b[0m\u001b[1;33m]\u001b[0m\u001b[1;33m\u001b[0m\u001b[1;33m\u001b[0m\u001b[0m\n\u001b[0;32m     33\u001b[0m \u001b[1;33m\u001b[0m\u001b[0m\n\u001b[1;32m---> 34\u001b[1;33m                 \u001b[0md\u001b[0m \u001b[1;33m=\u001b[0m \u001b[0mdist_w_ids\u001b[0m\u001b[1;33m(\u001b[0m\u001b[0mii\u001b[0m\u001b[1;33m,\u001b[0m \u001b[0mjj\u001b[0m\u001b[1;33m)\u001b[0m\u001b[1;33m\u001b[0m\u001b[1;33m\u001b[0m\u001b[0m\n\u001b[0m\u001b[0;32m     35\u001b[0m \u001b[1;33m\u001b[0m\u001b[0m\n\u001b[0;32m     36\u001b[0m                 \u001b[1;32mif\u001b[0m \u001b[0md\u001b[0m \u001b[1;33m>\u001b[0m \u001b[1;36m0.6\u001b[0m\u001b[1;33m:\u001b[0m\u001b[1;33m\u001b[0m\u001b[1;33m\u001b[0m\u001b[0m\n",
      "\u001b[1;32mC:\\Users\\CA81~1\\AppData\\Local\\Temp/ipykernel_26556/2826167119.py\u001b[0m in \u001b[0;36mdist_w_ids\u001b[1;34m(w1, w2)\u001b[0m\n\u001b[0;32m     13\u001b[0m         \u001b[0memb2\u001b[0m \u001b[1;33m=\u001b[0m \u001b[0mwords_data\u001b[0m\u001b[1;33m[\u001b[0m\u001b[0mw2\u001b[0m\u001b[1;33m]\u001b[0m\u001b[1;33m.\u001b[0m\u001b[0mtoarray\u001b[0m\u001b[1;33m(\u001b[0m\u001b[1;33m)\u001b[0m\u001b[1;33m.\u001b[0m\u001b[0mflatten\u001b[0m\u001b[1;33m(\u001b[0m\u001b[1;33m)\u001b[0m\u001b[1;33m\u001b[0m\u001b[1;33m\u001b[0m\u001b[0m\n\u001b[0;32m     14\u001b[0m \u001b[1;33m\u001b[0m\u001b[0m\n\u001b[1;32m---> 15\u001b[1;33m         \u001b[1;32mreturn\u001b[0m \u001b[0mnp\u001b[0m\u001b[1;33m.\u001b[0m\u001b[0mdot\u001b[0m\u001b[1;33m(\u001b[0m\u001b[0memb1\u001b[0m\u001b[1;33m,\u001b[0m \u001b[0memb2\u001b[0m\u001b[1;33m)\u001b[0m \u001b[1;33m/\u001b[0m \u001b[0mnp\u001b[0m\u001b[1;33m.\u001b[0m\u001b[0mlinalg\u001b[0m\u001b[1;33m.\u001b[0m\u001b[0mnorm\u001b[0m\u001b[1;33m(\u001b[0m\u001b[0memb1\u001b[0m\u001b[1;33m)\u001b[0m \u001b[1;33m/\u001b[0m \u001b[0mnp\u001b[0m\u001b[1;33m.\u001b[0m\u001b[0mlinalg\u001b[0m\u001b[1;33m.\u001b[0m\u001b[0mnorm\u001b[0m\u001b[1;33m(\u001b[0m\u001b[0memb2\u001b[0m\u001b[1;33m)\u001b[0m\u001b[1;33m\u001b[0m\u001b[1;33m\u001b[0m\u001b[0m\n\u001b[0m\u001b[0;32m     16\u001b[0m \u001b[1;33m\u001b[0m\u001b[0m\n\u001b[0;32m     17\u001b[0m \u001b[0mprint\u001b[0m\u001b[1;33m(\u001b[0m\u001b[0mdist_w\u001b[0m\u001b[1;33m(\u001b[0m\u001b[1;34m'улица'\u001b[0m\u001b[1;33m,\u001b[0m \u001b[1;34m'проспект'\u001b[0m\u001b[1;33m)\u001b[0m\u001b[1;33m)\u001b[0m\u001b[1;33m\u001b[0m\u001b[1;33m\u001b[0m\u001b[0m\n",
      "\u001b[1;32m<__array_function__ internals>\u001b[0m in \u001b[0;36mnorm\u001b[1;34m(*args, **kwargs)\u001b[0m\n",
      "\u001b[1;32md:\\PROGRAMS\\python39\\lib\\site-packages\\numpy\\linalg\\linalg.py\u001b[0m in \u001b[0;36mnorm\u001b[1;34m(x, ord, axis, keepdims)\u001b[0m\n\u001b[0;32m   2514\u001b[0m \u001b[1;33m\u001b[0m\u001b[0m\n\u001b[0;32m   2515\u001b[0m     \u001b[1;32mif\u001b[0m \u001b[1;32mnot\u001b[0m \u001b[0missubclass\u001b[0m\u001b[1;33m(\u001b[0m\u001b[0mx\u001b[0m\u001b[1;33m.\u001b[0m\u001b[0mdtype\u001b[0m\u001b[1;33m.\u001b[0m\u001b[0mtype\u001b[0m\u001b[1;33m,\u001b[0m \u001b[1;33m(\u001b[0m\u001b[0minexact\u001b[0m\u001b[1;33m,\u001b[0m \u001b[0mobject_\u001b[0m\u001b[1;33m)\u001b[0m\u001b[1;33m)\u001b[0m\u001b[1;33m:\u001b[0m\u001b[1;33m\u001b[0m\u001b[1;33m\u001b[0m\u001b[0m\n\u001b[1;32m-> 2516\u001b[1;33m         \u001b[0mx\u001b[0m \u001b[1;33m=\u001b[0m \u001b[0mx\u001b[0m\u001b[1;33m.\u001b[0m\u001b[0mastype\u001b[0m\u001b[1;33m(\u001b[0m\u001b[0mfloat\u001b[0m\u001b[1;33m)\u001b[0m\u001b[1;33m\u001b[0m\u001b[1;33m\u001b[0m\u001b[0m\n\u001b[0m\u001b[0;32m   2517\u001b[0m \u001b[1;33m\u001b[0m\u001b[0m\n\u001b[0;32m   2518\u001b[0m     \u001b[1;31m# Immediately handle some default, simple, fast, and common cases.\u001b[0m\u001b[1;33m\u001b[0m\u001b[1;33m\u001b[0m\u001b[1;33m\u001b[0m\u001b[0m\n",
      "\u001b[1;31mKeyboardInterrupt\u001b[0m: "
     ]
    }
   ],
   "source": [
    "import scipy.sparse.linalg\n",
    "import scipy.sparse\n",
    "\n",
    "\n",
    "def dist_w(w1, w2):\n",
    "\temb1 = words_data[words_to_ids[w1]].toarray().flatten()\n",
    "\temb2 = words_data[words_to_ids[w2]].toarray().flatten()\n",
    "\n",
    "\treturn np.dot(emb1, emb2) / np.linalg.norm(emb1) / np.linalg.norm(emb2)\n",
    "\n",
    "def dist_w_ids(w1, w2):\n",
    "\temb1 = words_data[w1].toarray().flatten()\n",
    "\temb2 = words_data[w2].toarray().flatten()\n",
    "\n",
    "\treturn np.dot(emb1, emb2) / np.linalg.norm(emb1) / np.linalg.norm(emb2)\n",
    "\n",
    "print(dist_w('улица', 'проспект'))\n",
    "print(dist_w('добрый', 'хороший'))\n",
    "print(dist_w('стол', 'бог'))\n",
    "print(dist_w('и', 'у'))\n",
    "\n",
    "\"\"\"for i, j in tqdm(np.random.randint(count_w, size=(1_000_000, 2))):\n",
    "\td = dist_w_ids(i, j)\n",
    "\n",
    "\tif d > 0.5: \n",
    "\t\tw1, w2 = ids_to_words[i], ids_to_words[j]\n",
    "\t\tprint(w1, w2, i, j, d)\"\"\"\n",
    "\n",
    "for i in range(len(frequent_words_ids)-2):\n",
    "\tfor j in tqdm(range(i+1, len(frequent_words_ids))):\n",
    "\t\tii = frequent_words_ids[i]\n",
    "\t\tjj = frequent_words_ids[j]\n",
    "\n",
    "\t\td = dist_w_ids(ii, jj)\n",
    "\n",
    "\t\tif d > 0.6: \n",
    "\t\t\tw1, w2 = ids_to_words[ii], ids_to_words[jj]\n",
    "\t\t\tprint(w1, w2, ii, jj, d)\n",
    "\t\t"
   ]
  }
 ],
 "metadata": {
  "kernelspec": {
   "display_name": "Python 3",
   "language": "python",
   "name": "python3"
  },
  "language_info": {
   "codemirror_mode": {
    "name": "ipython",
    "version": 3
   },
   "file_extension": ".py",
   "mimetype": "text/x-python",
   "name": "python",
   "nbconvert_exporter": "python",
   "pygments_lexer": "ipython3",
   "version": "3.9.5"
  },
  "orig_nbformat": 4
 },
 "nbformat": 4,
 "nbformat_minor": 2
}
