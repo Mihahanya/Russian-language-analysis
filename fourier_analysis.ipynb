{
 "cells": [
  {
   "cell_type": "code",
   "execution_count": 1,
   "metadata": {},
   "outputs": [
    {
     "name": "stdout",
     "output_type": "stream",
     "text": [
      "Whole text size: 36161157 so used 100000\n",
      "Alphabet length: 160\n",
      "Alphabet: \u0001\u0007\u0019 !\"#%&'()*,-./0123456789:;<=>?@[]^_`abcdefghijklmnopqrstuvwxyz{|}~§«°·»½¾ßàáâäçèéêëíîïòóôöùúûüýœ̀́γεθιλοστυώабвгдежзийклмнопрстуфхцчшщъыьэюяёєіїљќѣ‑–—’“”„…№\n"
     ]
    }
   ],
   "source": [
    "from data_base import *\n",
    "\n",
    "data = DataBase(summary=True, max_size=10**5)"
   ]
  },
  {
   "cell_type": "code",
   "execution_count": 3,
   "metadata": {},
   "outputs": [
    {
     "name": "stdout",
     "output_type": "stream",
     "text": [
      "Train data size: 99970\n"
     ]
    },
    {
     "name": "stderr",
     "output_type": "stream",
     "text": [
      "100%|██████████| 99970/99970 [00:01<00:00, 75959.09it/s] \n"
     ]
    }
   ],
   "source": [
    "import numpy as np\n",
    "\n",
    "input_len = 30\n",
    "\n",
    "n = 100_000\n",
    "data.text_size = n - input_len\n",
    "print('Train data size:', data.text_size)\n",
    "\n",
    "Xf = np.zeros((data.text_size, input_len), dtype=np.float64)\n",
    "Yf = np.zeros((data.text_size,), dtype=np.float64)\n",
    "\n",
    "\n",
    "def text_to_indexes(text):\n",
    "    return np.array([data.letter_index[s] for s in text])\n",
    "\n",
    "\n",
    "for i in tqdm(range(input_len, n)):\n",
    "    fragment = data.whole_text[i-input_len : i]\n",
    "    Xf[i-input_len] = text_to_indexes(fragment)\n",
    "    \n",
    "    Yf[i-input_len] = data.letter_index[data.whole_text[i]]"
   ]
  },
  {
   "cell_type": "code",
   "execution_count": 4,
   "metadata": {},
   "outputs": [
    {
     "name": "stderr",
     "output_type": "stream",
     "text": [
      "100%|██████████| 99970/99970 [00:04<00:00, 21988.13it/s]"
     ]
    },
    {
     "name": "stdout",
     "output_type": "stream",
     "text": [
      "Non-convergence with fourier: 0.22318000833333218\n"
     ]
    },
    {
     "name": "stderr",
     "output_type": "stream",
     "text": [
      "\n"
     ]
    }
   ],
   "source": [
    "from scipy.fft import fft, ifft\n",
    "\n",
    "convergence = 0\n",
    "\n",
    "for i in tqdm(range(data.text_size)):\n",
    "\ta = ifft(Xf[i])\n",
    "\n",
    "\tpred = np.zeros(a.shape[0]*2, dtype=np.complex_)\n",
    "\tpred[::2] = a\n",
    "\n",
    "\tpred = np.mean(np.real(fft(pred))[15:].round())\n",
    "\n",
    "\tconvergence += abs(Yf[i] - pred)\n",
    "\n",
    "convergence /= n\n",
    "convergence /= data.alph_len\n",
    "\n",
    "print('Non-convergence with fourier:', convergence)"
   ]
  },
  {
   "cell_type": "code",
   "execution_count": 5,
   "metadata": {},
   "outputs": [
    {
     "name": "stderr",
     "output_type": "stream",
     "text": [
      "100%|██████████| 704/704 [00:00<00:00, 12835.26it/s]"
     ]
    },
    {
     "name": "stdout",
     "output_type": "stream",
     "text": [
      "если посмотреть из чего получатся орья ысь, то можм выелить слующ фкторы: личны цнност, культурны опыт, прспкт и взгля н мир, эмоциональны и интутны компонты.  этоо и складыется инульность трц-чо.  не обладает эмоциями. но что из этого не может быть имитироно? он не может облть ничм из перечислнноо, еь это все присущ жиым и мыслящим сущст,  ии не живой; однако он может все это впитть и воссозть  себе. эти факторы - следствие всего пржитоо, всего нкоплнноо  отпечтнноо опыт.  впитыть опыт - то, что ии и делают и способны делть это лучш нс и в гораздо большем оъм, чем спосоны люи, ведь ии не органичен физиолоичс фктор.\n",
      "Original length: 734\n",
      "Compressed length: 623\n",
      "Compression: 0.8487738419618529\n"
     ]
    },
    {
     "name": "stderr",
     "output_type": "stream",
     "text": [
      "\n"
     ]
    }
   ],
   "source": [
    "test_text = prepare_text(\"Если посмотреть из чего получается оригинальная мысль, то можем выделить следующие факторы: личные ценности, культурный опыт, перспектива и взгляд на мир, эмоциональные и интуитивные компоненты. Из этого и складывается индивидуальность творца-человека. ИИ не обладает эмоциями. Но что из этого не может быть имитировано? Он не может обладать ничем из перечисленного, ведь это все присуще живым и мыслящим существам, а ИИ не живой; однако он может все это впитать и воссоздать в себе. Эти факторы - следствие всего пережитого, всего накопленного и отпечатанного опыта. А впитывать опыт - то, что ИИ и делают и способны делать это лучше нас и в гораздо большем объеме, чем способны люди, ведь ИИ не органичен физиологическими факторами.\")\n",
    "\n",
    "r = test_text[:input_len]\n",
    "\n",
    "for i in tqdm(range(input_len, len(test_text))):\n",
    "\t#frag = test_text[i-input_len : i]\n",
    "\tfragment = r[-input_len:]\n",
    "\tfragment = text_to_indexes(fragment)\n",
    "\ta = ifft(fragment)\n",
    "\tpred = np.zeros(a.shape[0]*2, dtype=np.complex_)\n",
    "\tpred[::2] = a\n",
    "\n",
    "\tprediction = round(np.mean(np.real(fft(pred))[15:].round()))\n",
    "\n",
    "\t#print(prediction, data.letter_index[test_text[i]])\n",
    "\n",
    "\tif 1 - abs(data.letter_index[test_text[i]] - prediction) / data.alph_len > 0.9 and test_text[i] != ' ':\n",
    "\t#if letter_of_pred(prediction) == test_text[i] and test_text[i] != ' ':\n",
    "\t\tr += ''\n",
    "\telse:\n",
    "\t\tr += test_text[i]\n",
    "\n",
    "print(r)\n",
    "print('Original length:', len(test_text))\n",
    "print('Compressed length:', len(r))\n",
    "print('Compression:', len(r) / len(test_text))"
   ]
  }
 ],
 "metadata": {
  "kernelspec": {
   "display_name": "Python 3",
   "language": "python",
   "name": "python3"
  },
  "language_info": {
   "codemirror_mode": {
    "name": "ipython",
    "version": 3
   },
   "file_extension": ".py",
   "mimetype": "text/x-python",
   "name": "python",
   "nbconvert_exporter": "python",
   "pygments_lexer": "ipython3",
   "version": "3.9.5"
  },
  "orig_nbformat": 4
 },
 "nbformat": 4,
 "nbformat_minor": 2
}
