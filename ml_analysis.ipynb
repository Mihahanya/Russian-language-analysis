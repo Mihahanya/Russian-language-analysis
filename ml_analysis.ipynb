{
 "cells": [
  {
   "cell_type": "code",
   "execution_count": 1,
   "metadata": {},
   "outputs": [
    {
     "name": "stdout",
     "output_type": "stream",
     "text": [
      "Whole text size: 36161157 so used 100000\n",
      "Alphabet length: 160\n",
      "Alphabet: \u0001\u0007\u0019 !\"#%&'()*,-./0123456789:;<=>?@[]^_`abcdefghijklmnopqrstuvwxyz{|}~§«°·»½¾ßàáâäçèéêëíîïòóôöùúûüýœ̀́γεθιλοστυώабвгдежзийклмнопрстуфхцчшщъыьэюяёєіїљќѣ‑–—’“”„…№\n"
     ]
    }
   ],
   "source": [
    "from data_base import *\n",
    "\n",
    "data = DataBase(summary=True, max_size=10**5)"
   ]
  },
  {
   "cell_type": "code",
   "execution_count": 4,
   "metadata": {},
   "outputs": [
    {
     "name": "stdout",
     "output_type": "stream",
     "text": [
      "Train data size: 99955\n"
     ]
    },
    {
     "name": "stderr",
     "output_type": "stream",
     "text": [
      "100%|██████████| 99940/99940 [00:00<00:00, 143645.52it/s]"
     ]
    },
    {
     "name": "stdout",
     "output_type": "stream",
     "text": [
      "X shape: (99955, 15)\n",
      "Y shape: (99955, 160)\n",
      "[[129. 122. 112. ...  13.   3. 122.]\n",
      " [122. 112. 119. ...   3. 122. 126.]\n",
      " [112. 119. 122. ... 122. 126. 130.]\n",
      " ...\n",
      " [  0.   0.   0. ...   0.   0.   0.]\n",
      " [  0.   0.   0. ...   0.   0.   0.]\n",
      " [  0.   0.   0. ...   0.   0.   0.]]\n",
      "[[0 0 0 ... 0 0 0]\n",
      " [0 0 0 ... 0 0 0]\n",
      " [0 0 0 ... 0 0 0]\n",
      " ...\n",
      " [0 0 0 ... 0 0 0]\n",
      " [0 0 0 ... 0 0 0]\n",
      " [0 0 0 ... 0 0 0]]\n"
     ]
    },
    {
     "name": "stderr",
     "output_type": "stream",
     "text": [
      "\n"
     ]
    }
   ],
   "source": [
    "import numpy as np\n",
    "np.random.seed(80085)\n",
    "\n",
    "input_len = 15\n",
    "\n",
    "data.text_size = data.text_size - input_len\n",
    "print('Train data size:', data.text_size)\n",
    "\n",
    "X = np.zeros((data.text_size, input_len), dtype=np.float64)\n",
    "Y = np.zeros((data.text_size, data.alph_len), dtype=np.int8)\n",
    "\n",
    "\n",
    "def text_to_indexes(text):\n",
    "    return np.array([data.letter_index[s] for s in text])\n",
    "\n",
    "\n",
    "for i in tqdm(range(input_len, data.text_size)):\n",
    "    fragment = data.whole_text[i-input_len : i]\n",
    "    X[i-input_len] = text_to_indexes(fragment)\n",
    "    \n",
    "    letter_ind = data.letter_index[data.whole_text[i]]\n",
    "    Y[i-input_len][letter_ind] = 1\n",
    "    \n",
    "print('X shape:', X.shape)\n",
    "print('Y shape:', Y.shape)\n",
    "\n",
    "print(X)\n",
    "print(Y)"
   ]
  },
  {
   "cell_type": "code",
   "execution_count": 5,
   "metadata": {},
   "outputs": [
    {
     "name": "stdout",
     "output_type": "stream",
     "text": [
      "Num GPUs Available:  1\n",
      "Model: \"sequential\"\n",
      "_________________________________________________________________\n",
      " Layer (type)                Output Shape              Param #   \n",
      "=================================================================\n",
      " embedding (Embedding)       (None, 15, 256)           40960     \n",
      "                                                                 \n",
      " conv1d (Conv1D)             (None, 15, 32)            40992     \n",
      "                                                                 \n",
      " leaky_re_lu (LeakyReLU)     (None, 15, 32)            0         \n",
      "                                                                 \n",
      " dropout (Dropout)           (None, 15, 32)            0         \n",
      "                                                                 \n",
      " conv1d_1 (Conv1D)           (None, 15, 64)            10304     \n",
      "                                                                 \n",
      " leaky_re_lu_1 (LeakyReLU)   (None, 15, 64)            0         \n",
      "                                                                 \n",
      " dropout_1 (Dropout)         (None, 15, 64)            0         \n",
      "                                                                 \n",
      " flatten (Flatten)           (None, 960)               0         \n",
      "                                                                 \n",
      " dense (Dense)               (None, 160)               153760    \n",
      "                                                                 \n",
      "=================================================================\n",
      "Total params: 246,016\n",
      "Trainable params: 246,016\n",
      "Non-trainable params: 0\n",
      "_________________________________________________________________\n",
      "1250/1250 [==============================] - 42s 13ms/step - loss: 2.6603 - accuracy: 0.2407 - val_loss: 2.4030 - val_accuracy: 0.2919\n"
     ]
    },
    {
     "name": "stderr",
     "output_type": "stream",
     "text": [
      "WARNING:absl:Found untraced functions such as _jit_compiled_convolution_op, _jit_compiled_convolution_op while saving (showing 2 of 2). These functions will not be directly callable after loading.\n"
     ]
    },
    {
     "name": "stdout",
     "output_type": "stream",
     "text": [
      "INFO:tensorflow:Assets written to: LP\\assets\n"
     ]
    },
    {
     "name": "stderr",
     "output_type": "stream",
     "text": [
      "INFO:tensorflow:Assets written to: LP\\assets\n"
     ]
    }
   ],
   "source": [
    "import tensorflow as tf\n",
    "from tensorflow.keras.models import Sequential\n",
    "from tensorflow.keras.layers import Dense, Dropout, Embedding, Flatten, LeakyReLU, Conv1D\n",
    "\n",
    "import os\n",
    "\n",
    "os.environ['TF_CPP_MIN_LOG_LEVEL'] = '3'\n",
    "print(\"Num GPUs Available: \", len(tf.config.list_physical_devices('GPU')))\n",
    "\n",
    "batch_size = 64\n",
    "dropout_val = 0.1\n",
    "embending_size = 256\n",
    "\n",
    "model = Sequential([\n",
    "    Embedding(data.alph_len, embending_size, input_length=input_len),\n",
    "    Conv1D(32, 5, strides=1, padding='same'), LeakyReLU(),\n",
    "    Dropout(dropout_val),\n",
    "    \n",
    "    Conv1D(64, 5, strides=1, padding='same'), LeakyReLU(),\n",
    "    Dropout(dropout_val),\n",
    "\n",
    "    Flatten(),\n",
    "    Dense(data.alph_len, activation='softmax')\n",
    "])\n",
    "\n",
    "model.compile(loss='categorical_crossentropy', optimizer='adam', metrics=['accuracy'])\n",
    "model.summary()\n",
    "\n",
    "history = model.fit(X, Y, epochs=1, validation_split=0.2, batch_size=batch_size)\n",
    "\n",
    "model.save('LP')"
   ]
  },
  {
   "cell_type": "code",
   "execution_count": 7,
   "metadata": {},
   "outputs": [
    {
     "data": {
      "text/plain": [
       "(0.0, 1.0)"
      ]
     },
     "execution_count": 7,
     "metadata": {},
     "output_type": "execute_result"
    },
    {
     "data": {
      "image/png": "[encoded data removed]",
      "text/plain": [
       "<Figure size 432x288 with 2 Axes>"
      ]
     },
     "metadata": {
      "needs_background": "light"
     },
     "output_type": "display_data"
    }
   ],
   "source": [
    "import matplotlib.pyplot as plt\n",
    "\n",
    "fig, axs = plt.subplots(1, 2, tight_layout=True)\n",
    "axs[0].plot(history.history['loss'])\n",
    "axs[0].plot(history.history['val_loss'])\n",
    "axs[0].set_title(\"loss, val_loss\")\n",
    "\n",
    "axs[1].plot(history.history['accuracy'])\n",
    "axs[1].plot(history.history['val_accuracy'])\n",
    "axs[1].set_title(\"accuracy, val_accuracy\")\n",
    "axs[1].set_ylim([0, 1])"
   ]
  },
  {
   "cell_type": "code",
   "execution_count": 10,
   "metadata": {},
   "outputs": [
    {
     "name": "stdout",
     "output_type": "stream",
     "text": [
      "313/313 [==============================] - 2s 5ms/step\n"
     ]
    },
    {
     "name": "stderr",
     "output_type": "stream",
     "text": [
      "100%|██████████| 10000/10000 [00:00<00:00, 20174.65it/s]"
     ]
    },
    {
     "name": "stdout",
     "output_type": "stream",
     "text": [
      "Predicted  29.76 % of letters\n",
      "Predictability of russian language is 17.92 %\n"
     ]
    },
    {
     "name": "stderr",
     "output_type": "stream",
     "text": [
      "\n"
     ]
    }
   ],
   "source": [
    "def match_to_letters(prediction):\n",
    "    return {data.alphabet[i]: prediction[i] for i in range(data.alph_len)}\n",
    "\n",
    "def letter_of_pred(prediction) -> str:\n",
    "    return data.alphabet[prediction.argmax()]\n",
    "\n",
    "\n",
    "letters_predicted = 0\n",
    "predictability = 0\n",
    "n = 10_000\n",
    "#n = data.text_size\n",
    "\n",
    "predictions = model.predict(X[:n])\n",
    "\n",
    "for i in tqdm(range(n)):\n",
    "    prediction = predictions[i]\n",
    "    next_letter = data.whole_text[i + input_len]\n",
    "\n",
    "    predictability += match_to_letters(prediction)[next_letter]\n",
    "    letters_predicted += 1 if letter_of_pred(prediction) == next_letter else 0\n",
    "\n",
    "predictability /= n - input_len\n",
    "letters_predicted /= n - input_len\n",
    "print('Predicted ', round(letters_predicted*100, 2), '% of letters')\n",
    "print('Predictability of russian language is', round(predictability*100, 2), '%')"
   ]
  },
  {
   "cell_type": "code",
   "execution_count": 11,
   "metadata": {},
   "outputs": [
    {
     "name": "stderr",
     "output_type": "stream",
     "text": [
      "100%|██████████| 719/719 [00:45<00:00, 15.74it/s]"
     ]
    },
    {
     "name": "stdout",
     "output_type": "stream",
     "text": [
      "если посмотреть из чг плучтс оргнльая мысль, т мжм выдлть следующ фктры: лчные цннси, культурнй опыт, перспктив  взгляд н мир, эмционльые и интуитвные кмпнеты. з эог и склдывтс ндвидуальось тврц-члвк.  н блдт эмцями н чт и эог н мжт бть имитироао? он н мжт облдть ничм и ерчслннг, ведь эо в риущ жвы  мыслящм ущствм, а ии е живй; однк н мжт вс эо впитть и воссоздть  еб. эи фктры - слдсв вг пеежтг, всг нкплеог  тпечатаннг пыт. а питывть пыт - т, чо ии и длют и особны длть эо лучш а и в газдо бльшм объм, чм псобны люд, ведь ии н оргнич физиологичскими фктрм.\n",
      "Original length: 734\n",
      "Compressed length: 560\n",
      "Compression: 0.7629427792915532\n"
     ]
    },
    {
     "name": "stderr",
     "output_type": "stream",
     "text": [
      "\n"
     ]
    }
   ],
   "source": [
    "#test_text = 'приветики, съешь ещё этих мягких французских булочек да выпей чаю'\n",
    "#test_text = 'и снова седая ночь, и только ей доверяю я, знаешь седая ночь что-то та-а-ам'\n",
    "#test_text = 'мне нужно это предложение, чтобы протестировать некий анализ йей!'\n",
    "#test_text = prepare_text(\"Если посмотреть из чего получается оригинальная мысль, то можем выделить следующие факторы: личные ценности, культурный опыт, перспектива и взгляд на мир, эмоциональные и интуитивные компоненты. Из этого и складывается индивидуальность творца-человека. ИИ не обладает эмоциями. Но что из этого не может быть имитировано? Он не может обладать ничем из перечисленного, ведь это все присуще живым и мыслящим существам, а ИИ не живой; однако он может все это впитать и воссоздать в себе. Эти факторы – следствие всего пережитого, всего накопленного и отпечатанного опыта. А впитывать опыт – то, что ИИ и делают и способны делать это лучше нас и в гораздо большем объеме, чем способны люди, ведь ИИ не органичен физиологическими факторами.\")\n",
    "test_text = prepare_text(\"Если посмотреть из чего получается оригинальная мысль, то можем выделить следующие факторы: личные ценности, культурный опыт, перспектива и взгляд на мир, эмоциональные и интуитивные компоненты. Из этого и складывается индивидуальность творца-человека. ИИ не обладает эмоциями. Но что из этого не может быть имитировано? Он не может обладать ничем из перечисленного, ведь это все присуще живым и мыслящим существам, а ИИ не живой; однако он может все это впитать и воссоздать в себе. Эти факторы - следствие всего пережитого, всего накопленного и отпечатанного опыта. А впитывать опыт - то, что ИИ и делают и способны делать это лучше нас и в гораздо большем объеме, чем способны люди, ведь ИИ не органичен физиологическими факторами.\")\n",
    "\n",
    "r = test_text[:input_len]\n",
    "\n",
    "for i in tqdm(range(input_len, len(test_text))):\n",
    "    #frag = test_text[i-input_len : i]\n",
    "    fragment = r[-input_len:]\n",
    "    fragment = text_to_indexes(fragment)\n",
    "    prediction = model.predict(np.array([fragment]), verbose=0)[0]\n",
    "\n",
    "    if match_to_letters(prediction)[test_text[i]] > 0.10 and test_text[i] != ' ':\n",
    "    #if letter_of_pred(prediction) == test_text[i] and test_text[i] != ' ':\n",
    "        r += ''\n",
    "    else:\n",
    "        r += test_text[i]\n",
    "\n",
    "print(r)\n",
    "print('Original length:', len(test_text))\n",
    "print('Compressed length:', len(r))\n",
    "print('Compression:', len(r) / len(test_text))"
   ]
  }
 ],
 "metadata": {
  "kernelspec": {
   "display_name": "Python 3",
   "language": "python",
   "name": "python3"
  },
  "language_info": {
   "codemirror_mode": {
    "name": "ipython",
    "version": 3
   },
   "file_extension": ".py",
   "mimetype": "text/x-python",
   "name": "python",
   "nbconvert_exporter": "python",
   "pygments_lexer": "ipython3",
   "version": "3.9.5"
  },
  "orig_nbformat": 4
 },
 "nbformat": 4,
 "nbformat_minor": 2
}
